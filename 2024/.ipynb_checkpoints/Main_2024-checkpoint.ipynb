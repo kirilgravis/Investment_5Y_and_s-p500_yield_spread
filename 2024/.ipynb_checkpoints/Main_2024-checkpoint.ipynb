{
 "cells": [
  {
   "cell_type": "code",
   "execution_count": null,
   "id": "1dcc6fb5-1bc3-4a03-9d03-a7aa7a0fc3b7",
   "metadata": {},
   "outputs": [],
   "source": [
    "%load_ext autoreload\n",
    "%autoreload 2"
   ]
  },
  {
   "cell_type": "code",
   "execution_count": 2,
   "id": "0196b2aa-f269-4643-9091-a3dec70d4b71",
   "metadata": {},
   "outputs": [],
   "source": [
    "import pandas as pd\n",
    "import matplotlib.pyplot as plt\n",
    "import numpy as np\n",
    "from sklearn import datasets, linear_model\n",
    "from sklearn.metrics import mean_squared_error, r2_score\n",
    "import statsmodels.api as sm\n",
    "import time"
   ]
  },
  {
   "cell_type": "markdown",
   "id": "ad07db63-c291-4cfe-a5f6-5eaf044ec06c",
   "metadata": {
    "tags": []
   },
   "source": [
    "## Open the data"
   ]
  },
  {
   "cell_type": "code",
   "execution_count": 3,
   "id": "89946723-8eea-4a55-adf5-0fccd0b24e96",
   "metadata": {},
   "outputs": [],
   "source": [
    "df = pd.read_csv('data_2024.csv')"
   ]
  },
  {
   "cell_type": "code",
   "execution_count": 4,
   "id": "619b152f-da45-4e88-bf03-b9008e4d1a48",
   "metadata": {},
   "outputs": [],
   "source": [
    "# rename one column\n",
    "df.rename(columns={'אינפלציה 1Y ידועה':'Known_inflation_1Y'}, inplace=True)"
   ]
  },
  {
   "cell_type": "code",
   "execution_count": 5,
   "id": "53b254b7",
   "metadata": {},
   "outputs": [
    {
     "data": {
      "text/html": [
       "<div>\n",
       "<style scoped>\n",
       "    .dataframe tbody tr th:only-of-type {\n",
       "        vertical-align: middle;\n",
       "    }\n",
       "\n",
       "    .dataframe tbody tr th {\n",
       "        vertical-align: top;\n",
       "    }\n",
       "\n",
       "    .dataframe thead th {\n",
       "        text-align: right;\n",
       "    }\n",
       "</style>\n",
       "<table border=\"1\" class=\"dataframe\">\n",
       "  <thead>\n",
       "    <tr style=\"text-align: right;\">\n",
       "      <th></th>\n",
       "      <th>date</th>\n",
       "      <th>PE_RATIO</th>\n",
       "      <th>EST_PE_NEXT_YR_AGGTE</th>\n",
       "      <th>5Y GENERIC</th>\n",
       "      <th>1Y GENERIC</th>\n",
       "      <th>S&amp;P 500 TR</th>\n",
       "      <th>PE Yield</th>\n",
       "      <th>Fwd PE Yield</th>\n",
       "      <th>FWD PE - 5Y</th>\n",
       "      <th>S&amp;P 500 1 YEAR GAIN</th>\n",
       "      <th>S&amp;P 500 FORWARD 1 YEAR GAIN</th>\n",
       "      <th>Known_inflation_1Y</th>\n",
       "      <th>GENERIC INFLATION INDEXED 5Y GOV BOND</th>\n",
       "      <th>EXPECTED INFLATION 5Y</th>\n",
       "    </tr>\n",
       "  </thead>\n",
       "  <tbody>\n",
       "    <tr>\n",
       "      <th>408</th>\n",
       "      <td>1/31/1990</td>\n",
       "      <td>13.7883</td>\n",
       "      <td>10.5891</td>\n",
       "      <td>8.318</td>\n",
       "      <td>8.075</td>\n",
       "      <td>353.94</td>\n",
       "      <td>7.252526</td>\n",
       "      <td>9.443673</td>\n",
       "      <td>1.125673</td>\n",
       "      <td>NaN</td>\n",
       "      <td>8.391253</td>\n",
       "      <td>5.2</td>\n",
       "      <td>NaN</td>\n",
       "      <td>NaN</td>\n",
       "    </tr>\n",
       "    <tr>\n",
       "      <th>407</th>\n",
       "      <td>2/28/1990</td>\n",
       "      <td>13.9688</td>\n",
       "      <td>10.7204</td>\n",
       "      <td>8.451</td>\n",
       "      <td>8.109</td>\n",
       "      <td>358.50</td>\n",
       "      <td>7.158811</td>\n",
       "      <td>9.328010</td>\n",
       "      <td>0.877010</td>\n",
       "      <td>NaN</td>\n",
       "      <td>14.666667</td>\n",
       "      <td>5.3</td>\n",
       "      <td>NaN</td>\n",
       "      <td>NaN</td>\n",
       "    </tr>\n",
       "  </tbody>\n",
       "</table>\n",
       "</div>"
      ],
      "text/plain": [
       "          date  PE_RATIO  EST_PE_NEXT_YR_AGGTE  5Y GENERIC  1Y GENERIC  \\\n",
       "408  1/31/1990   13.7883               10.5891       8.318       8.075   \n",
       "407  2/28/1990   13.9688               10.7204       8.451       8.109   \n",
       "\n",
       "     S&P 500 TR  PE Yield  Fwd PE Yield  FWD PE - 5Y  S&P 500 1 YEAR GAIN  \\\n",
       "408      353.94  7.252526      9.443673     1.125673                  NaN   \n",
       "407      358.50  7.158811      9.328010     0.877010                  NaN   \n",
       "\n",
       "     S&P 500 FORWARD 1 YEAR GAIN  Known_inflation_1Y  \\\n",
       "408                     8.391253                 5.2   \n",
       "407                    14.666667                 5.3   \n",
       "\n",
       "     GENERIC INFLATION INDEXED 5Y GOV BOND  EXPECTED INFLATION 5Y  \n",
       "408                                    NaN                    NaN  \n",
       "407                                    NaN                    NaN  "
      ]
     },
     "execution_count": 5,
     "metadata": {},
     "output_type": "execute_result"
    }
   ],
   "source": [
    "df.sort_index(ascending=False, inplace=True)\n",
    "df.head(2)"
   ]
  },
  {
   "cell_type": "code",
   "execution_count": 6,
   "id": "4f1f03cb",
   "metadata": {},
   "outputs": [
    {
     "data": {
      "text/html": [
       "<div>\n",
       "<style scoped>\n",
       "    .dataframe tbody tr th:only-of-type {\n",
       "        vertical-align: middle;\n",
       "    }\n",
       "\n",
       "    .dataframe tbody tr th {\n",
       "        vertical-align: top;\n",
       "    }\n",
       "\n",
       "    .dataframe thead th {\n",
       "        text-align: right;\n",
       "    }\n",
       "</style>\n",
       "<table border=\"1\" class=\"dataframe\">\n",
       "  <thead>\n",
       "    <tr style=\"text-align: right;\">\n",
       "      <th></th>\n",
       "      <th>date</th>\n",
       "      <th>PE_RATIO</th>\n",
       "      <th>EST_PE_NEXT_YR_AGGTE</th>\n",
       "      <th>5Y GENERIC</th>\n",
       "      <th>1Y GENERIC</th>\n",
       "      <th>S&amp;P 500 TR</th>\n",
       "      <th>PE Yield</th>\n",
       "      <th>Fwd PE Yield</th>\n",
       "      <th>FWD PE - 5Y</th>\n",
       "      <th>S&amp;P 500 1 YEAR GAIN</th>\n",
       "      <th>S&amp;P 500 FORWARD 1 YEAR GAIN</th>\n",
       "      <th>Known_inflation_1Y</th>\n",
       "      <th>GENERIC INFLATION INDEXED 5Y GOV BOND</th>\n",
       "      <th>EXPECTED INFLATION 5Y</th>\n",
       "    </tr>\n",
       "  </thead>\n",
       "  <tbody>\n",
       "    <tr>\n",
       "      <th>0</th>\n",
       "      <td>1/31/2024</td>\n",
       "      <td>23.31</td>\n",
       "      <td>20.0589</td>\n",
       "      <td>3.8354</td>\n",
       "      <td>4.7069</td>\n",
       "      <td>10501.38</td>\n",
       "      <td>4.290004</td>\n",
       "      <td>4.985318</td>\n",
       "      <td>1.149918</td>\n",
       "      <td>20.818281</td>\n",
       "      <td>NaN</td>\n",
       "      <td>3.1</td>\n",
       "      <td>1.593</td>\n",
       "      <td>2.207239</td>\n",
       "    </tr>\n",
       "  </tbody>\n",
       "</table>\n",
       "</div>"
      ],
      "text/plain": [
       "        date  PE_RATIO  EST_PE_NEXT_YR_AGGTE  5Y GENERIC  1Y GENERIC  \\\n",
       "0  1/31/2024     23.31               20.0589      3.8354      4.7069   \n",
       "\n",
       "   S&P 500 TR  PE Yield  Fwd PE Yield  FWD PE - 5Y  S&P 500 1 YEAR GAIN  \\\n",
       "0    10501.38  4.290004      4.985318     1.149918            20.818281   \n",
       "\n",
       "   S&P 500 FORWARD 1 YEAR GAIN  Known_inflation_1Y  \\\n",
       "0                          NaN                 3.1   \n",
       "\n",
       "   GENERIC INFLATION INDEXED 5Y GOV BOND  EXPECTED INFLATION 5Y  \n",
       "0                                  1.593               2.207239  "
      ]
     },
     "execution_count": 6,
     "metadata": {},
     "output_type": "execute_result"
    }
   ],
   "source": [
    "this_month = df[-1:]\n",
    "this_year = df[-12:]\n",
    "this_month"
   ]
  },
  {
   "cell_type": "code",
   "execution_count": 7,
   "id": "ab9e8bf2-6bff-43a8-844b-64f4593b2158",
   "metadata": {},
   "outputs": [
    {
     "data": {
      "text/html": [
       "<div>\n",
       "<style scoped>\n",
       "    .dataframe tbody tr th:only-of-type {\n",
       "        vertical-align: middle;\n",
       "    }\n",
       "\n",
       "    .dataframe tbody tr th {\n",
       "        vertical-align: top;\n",
       "    }\n",
       "\n",
       "    .dataframe thead th {\n",
       "        text-align: right;\n",
       "    }\n",
       "</style>\n",
       "<table border=\"1\" class=\"dataframe\">\n",
       "  <thead>\n",
       "    <tr style=\"text-align: right;\">\n",
       "      <th></th>\n",
       "      <th>date</th>\n",
       "      <th>PE_RATIO</th>\n",
       "      <th>EST_PE_NEXT_YR_AGGTE</th>\n",
       "      <th>5Y GENERIC</th>\n",
       "      <th>1Y GENERIC</th>\n",
       "      <th>S&amp;P 500 TR</th>\n",
       "      <th>PE Yield</th>\n",
       "      <th>Fwd PE Yield</th>\n",
       "      <th>FWD PE - 5Y</th>\n",
       "      <th>S&amp;P 500 1 YEAR GAIN</th>\n",
       "      <th>S&amp;P 500 FORWARD 1 YEAR GAIN</th>\n",
       "      <th>Known_inflation_1Y</th>\n",
       "      <th>GENERIC INFLATION INDEXED 5Y GOV BOND</th>\n",
       "      <th>EXPECTED INFLATION 5Y</th>\n",
       "    </tr>\n",
       "  </thead>\n",
       "  <tbody>\n",
       "    <tr>\n",
       "      <th>318</th>\n",
       "      <td>7/31/1997</td>\n",
       "      <td>23.3307</td>\n",
       "      <td>17.9023</td>\n",
       "      <td>5.9000</td>\n",
       "      <td>5.4250</td>\n",
       "      <td>1268.05</td>\n",
       "      <td>4.286198</td>\n",
       "      <td>5.585874</td>\n",
       "      <td>-0.314126</td>\n",
       "      <td>52.139223</td>\n",
       "      <td>19.284729</td>\n",
       "      <td>2.2</td>\n",
       "      <td>3.590</td>\n",
       "      <td>2.229945</td>\n",
       "    </tr>\n",
       "    <tr>\n",
       "      <th>317</th>\n",
       "      <td>8/29/1997</td>\n",
       "      <td>21.9033</td>\n",
       "      <td>16.7432</td>\n",
       "      <td>6.2230</td>\n",
       "      <td>5.5650</td>\n",
       "      <td>1197.01</td>\n",
       "      <td>4.565522</td>\n",
       "      <td>5.972574</td>\n",
       "      <td>-0.250426</td>\n",
       "      <td>40.649308</td>\n",
       "      <td>8.094335</td>\n",
       "      <td>2.2</td>\n",
       "      <td>3.596</td>\n",
       "      <td>2.535812</td>\n",
       "    </tr>\n",
       "    <tr>\n",
       "      <th>316</th>\n",
       "      <td>9/30/1997</td>\n",
       "      <td>22.6119</td>\n",
       "      <td>17.7227</td>\n",
       "      <td>5.9870</td>\n",
       "      <td>5.4440</td>\n",
       "      <td>1262.56</td>\n",
       "      <td>4.422450</td>\n",
       "      <td>5.642481</td>\n",
       "      <td>-0.344519</td>\n",
       "      <td>40.445176</td>\n",
       "      <td>9.047491</td>\n",
       "      <td>2.2</td>\n",
       "      <td>3.689</td>\n",
       "      <td>2.216243</td>\n",
       "    </tr>\n",
       "    <tr>\n",
       "      <th>315</th>\n",
       "      <td>10/31/1997</td>\n",
       "      <td>21.8119</td>\n",
       "      <td>17.1781</td>\n",
       "      <td>5.7080</td>\n",
       "      <td>5.3530</td>\n",
       "      <td>1220.40</td>\n",
       "      <td>4.584653</td>\n",
       "      <td>5.821366</td>\n",
       "      <td>0.113366</td>\n",
       "      <td>32.112237</td>\n",
       "      <td>21.991150</td>\n",
       "      <td>2.1</td>\n",
       "      <td>3.573</td>\n",
       "      <td>2.061348</td>\n",
       "    </tr>\n",
       "    <tr>\n",
       "      <th>314</th>\n",
       "      <td>11/28/1997</td>\n",
       "      <td>22.7399</td>\n",
       "      <td>18.0695</td>\n",
       "      <td>5.8400</td>\n",
       "      <td>5.4950</td>\n",
       "      <td>1276.89</td>\n",
       "      <td>4.397557</td>\n",
       "      <td>5.534187</td>\n",
       "      <td>-0.305813</td>\n",
       "      <td>28.514060</td>\n",
       "      <td>23.661396</td>\n",
       "      <td>1.8</td>\n",
       "      <td>3.566</td>\n",
       "      <td>2.195701</td>\n",
       "    </tr>\n",
       "    <tr>\n",
       "      <th>...</th>\n",
       "      <td>...</td>\n",
       "      <td>...</td>\n",
       "      <td>...</td>\n",
       "      <td>...</td>\n",
       "      <td>...</td>\n",
       "      <td>...</td>\n",
       "      <td>...</td>\n",
       "      <td>...</td>\n",
       "      <td>...</td>\n",
       "      <td>...</td>\n",
       "      <td>...</td>\n",
       "      <td>...</td>\n",
       "      <td>...</td>\n",
       "      <td>...</td>\n",
       "    </tr>\n",
       "    <tr>\n",
       "      <th>16</th>\n",
       "      <td>9/30/2022</td>\n",
       "      <td>17.1449</td>\n",
       "      <td>14.9915</td>\n",
       "      <td>4.0900</td>\n",
       "      <td>3.9328</td>\n",
       "      <td>7603.14</td>\n",
       "      <td>5.832638</td>\n",
       "      <td>6.670447</td>\n",
       "      <td>2.580447</td>\n",
       "      <td>-15.472110</td>\n",
       "      <td>21.617384</td>\n",
       "      <td>8.2</td>\n",
       "      <td>1.989</td>\n",
       "      <td>2.060026</td>\n",
       "    </tr>\n",
       "    <tr>\n",
       "      <th>15</th>\n",
       "      <td>10/31/2022</td>\n",
       "      <td>18.5151</td>\n",
       "      <td>16.7154</td>\n",
       "      <td>4.2283</td>\n",
       "      <td>4.6019</td>\n",
       "      <td>8218.70</td>\n",
       "      <td>5.400997</td>\n",
       "      <td>5.982507</td>\n",
       "      <td>1.754207</td>\n",
       "      <td>-14.611087</td>\n",
       "      <td>10.142845</td>\n",
       "      <td>7.7</td>\n",
       "      <td>1.575</td>\n",
       "      <td>2.612159</td>\n",
       "    </tr>\n",
       "    <tr>\n",
       "      <th>14</th>\n",
       "      <td>11/30/2022</td>\n",
       "      <td>19.3312</td>\n",
       "      <td>17.8314</td>\n",
       "      <td>3.7367</td>\n",
       "      <td>4.6863</td>\n",
       "      <td>8678.00</td>\n",
       "      <td>5.172985</td>\n",
       "      <td>5.608085</td>\n",
       "      <td>1.871385</td>\n",
       "      <td>-9.210082</td>\n",
       "      <td>13.839825</td>\n",
       "      <td>7.1</td>\n",
       "      <td>1.304</td>\n",
       "      <td>2.401386</td>\n",
       "    </tr>\n",
       "    <tr>\n",
       "      <th>13</th>\n",
       "      <td>12/30/2022</td>\n",
       "      <td>18.2432</td>\n",
       "      <td>16.8213</td>\n",
       "      <td>4.0039</td>\n",
       "      <td>4.6868</td>\n",
       "      <td>8178.02</td>\n",
       "      <td>5.481494</td>\n",
       "      <td>5.944844</td>\n",
       "      <td>1.940944</td>\n",
       "      <td>-18.110887</td>\n",
       "      <td>26.287659</td>\n",
       "      <td>6.5</td>\n",
       "      <td>1.651</td>\n",
       "      <td>2.314685</td>\n",
       "    </tr>\n",
       "    <tr>\n",
       "      <th>12</th>\n",
       "      <td>1/31/2023</td>\n",
       "      <td>19.3707</td>\n",
       "      <td>18.2697</td>\n",
       "      <td>3.6171</td>\n",
       "      <td>4.6538</td>\n",
       "      <td>8691.88</td>\n",
       "      <td>5.162436</td>\n",
       "      <td>5.473544</td>\n",
       "      <td>1.856444</td>\n",
       "      <td>-8.215909</td>\n",
       "      <td>20.818281</td>\n",
       "      <td>6.4</td>\n",
       "      <td>1.333</td>\n",
       "      <td>2.254053</td>\n",
       "    </tr>\n",
       "  </tbody>\n",
       "</table>\n",
       "<p>307 rows × 14 columns</p>\n",
       "</div>"
      ],
      "text/plain": [
       "           date  PE_RATIO  EST_PE_NEXT_YR_AGGTE  5Y GENERIC  1Y GENERIC  \\\n",
       "318   7/31/1997   23.3307               17.9023      5.9000      5.4250   \n",
       "317   8/29/1997   21.9033               16.7432      6.2230      5.5650   \n",
       "316   9/30/1997   22.6119               17.7227      5.9870      5.4440   \n",
       "315  10/31/1997   21.8119               17.1781      5.7080      5.3530   \n",
       "314  11/28/1997   22.7399               18.0695      5.8400      5.4950   \n",
       "..          ...       ...                   ...         ...         ...   \n",
       "16    9/30/2022   17.1449               14.9915      4.0900      3.9328   \n",
       "15   10/31/2022   18.5151               16.7154      4.2283      4.6019   \n",
       "14   11/30/2022   19.3312               17.8314      3.7367      4.6863   \n",
       "13   12/30/2022   18.2432               16.8213      4.0039      4.6868   \n",
       "12    1/31/2023   19.3707               18.2697      3.6171      4.6538   \n",
       "\n",
       "     S&P 500 TR  PE Yield  Fwd PE Yield  FWD PE - 5Y  S&P 500 1 YEAR GAIN  \\\n",
       "318     1268.05  4.286198      5.585874    -0.314126            52.139223   \n",
       "317     1197.01  4.565522      5.972574    -0.250426            40.649308   \n",
       "316     1262.56  4.422450      5.642481    -0.344519            40.445176   \n",
       "315     1220.40  4.584653      5.821366     0.113366            32.112237   \n",
       "314     1276.89  4.397557      5.534187    -0.305813            28.514060   \n",
       "..          ...       ...           ...          ...                  ...   \n",
       "16      7603.14  5.832638      6.670447     2.580447           -15.472110   \n",
       "15      8218.70  5.400997      5.982507     1.754207           -14.611087   \n",
       "14      8678.00  5.172985      5.608085     1.871385            -9.210082   \n",
       "13      8178.02  5.481494      5.944844     1.940944           -18.110887   \n",
       "12      8691.88  5.162436      5.473544     1.856444            -8.215909   \n",
       "\n",
       "     S&P 500 FORWARD 1 YEAR GAIN  Known_inflation_1Y  \\\n",
       "318                    19.284729                 2.2   \n",
       "317                     8.094335                 2.2   \n",
       "316                     9.047491                 2.2   \n",
       "315                    21.991150                 2.1   \n",
       "314                    23.661396                 1.8   \n",
       "..                           ...                 ...   \n",
       "16                     21.617384                 8.2   \n",
       "15                     10.142845                 7.7   \n",
       "14                     13.839825                 7.1   \n",
       "13                     26.287659                 6.5   \n",
       "12                     20.818281                 6.4   \n",
       "\n",
       "     GENERIC INFLATION INDEXED 5Y GOV BOND  EXPECTED INFLATION 5Y  \n",
       "318                                  3.590               2.229945  \n",
       "317                                  3.596               2.535812  \n",
       "316                                  3.689               2.216243  \n",
       "315                                  3.573               2.061348  \n",
       "314                                  3.566               2.195701  \n",
       "..                                     ...                    ...  \n",
       "16                                   1.989               2.060026  \n",
       "15                                   1.575               2.612159  \n",
       "14                                   1.304               2.401386  \n",
       "13                                   1.651               2.314685  \n",
       "12                                   1.333               2.254053  \n",
       "\n",
       "[307 rows x 14 columns]"
      ]
     },
     "execution_count": 7,
     "metadata": {},
     "output_type": "execute_result"
    }
   ],
   "source": [
    "df.dropna(inplace=True)\n",
    "df"
   ]
  },
  {
   "cell_type": "code",
   "execution_count": 8,
   "id": "278c190a",
   "metadata": {},
   "outputs": [
    {
     "name": "stdout",
     "output_type": "stream",
     "text": [
      "<class 'pandas.core.frame.DataFrame'>\n",
      "Index: 307 entries, 318 to 12\n",
      "Data columns (total 14 columns):\n",
      " #   Column                                 Non-Null Count  Dtype  \n",
      "---  ------                                 --------------  -----  \n",
      " 0   date                                   307 non-null    object \n",
      " 1   PE_RATIO                               307 non-null    float64\n",
      " 2   EST_PE_NEXT_YR_AGGTE                   307 non-null    float64\n",
      " 3   5Y GENERIC                             307 non-null    float64\n",
      " 4   1Y GENERIC                             307 non-null    float64\n",
      " 5   S&P 500 TR                             307 non-null    float64\n",
      " 6   PE Yield                               307 non-null    float64\n",
      " 7   Fwd PE Yield                           307 non-null    float64\n",
      " 8   FWD PE - 5Y                            307 non-null    float64\n",
      " 9   S&P 500 1 YEAR GAIN                    307 non-null    float64\n",
      " 10  S&P 500 FORWARD 1 YEAR GAIN            307 non-null    float64\n",
      " 11  Known_inflation_1Y                     307 non-null    float64\n",
      " 12  GENERIC INFLATION INDEXED 5Y GOV BOND  307 non-null    float64\n",
      " 13  EXPECTED INFLATION 5Y                  307 non-null    float64\n",
      "dtypes: float64(13), object(1)\n",
      "memory usage: 36.0+ KB\n"
     ]
    }
   ],
   "source": [
    "df.info()"
   ]
  },
  {
   "cell_type": "markdown",
   "id": "4844c526",
   "metadata": {},
   "source": [
    "## Parameters"
   ]
  },
  {
   "cell_type": "code",
   "execution_count": 9,
   "id": "9d8b32c4-f710-4baa-923e-66ea405422a8",
   "metadata": {},
   "outputs": [
    {
     "data": {
      "text/plain": [
       "['PE_RATIO',\n",
       " 'EST_PE_NEXT_YR_AGGTE',\n",
       " '5Y GENERIC',\n",
       " 'PE Yield',\n",
       " 'Fwd PE Yield',\n",
       " 'Known_inflation_1Y',\n",
       " 'EXPECTED INFLATION 5Y']"
      ]
     },
     "execution_count": 9,
     "metadata": {},
     "output_type": "execute_result"
    }
   ],
   "source": [
    "# features = df.columns[[1,2,3,4,6,7,8,11,13]].to_list()\n",
    "features = df.columns[[1,2,3,6,7,11,13]].to_list()\n",
    "features"
   ]
  },
  {
   "cell_type": "code",
   "execution_count": 10,
   "id": "fb390ba9-18f5-4575-b9f1-5f5503db1e08",
   "metadata": {},
   "outputs": [
    {
     "data": {
      "text/plain": [
       "[1, 2, 3, 4, 5, 6, 7, 8, 9]"
      ]
     },
     "execution_count": 10,
     "metadata": {},
     "output_type": "execute_result"
    }
   ],
   "source": [
    "list(range(0, 10, 1)[1:])"
   ]
  },
  {
   "cell_type": "code",
   "execution_count": 11,
   "id": "ea791f4d",
   "metadata": {},
   "outputs": [],
   "source": [
    "days_for_test = 48\n",
    "target = 'S&P 500 FORWARD 1 YEAR GAIN'\n",
    "\n",
    "# The yearly forward change in S&P 500 for classification (in %)\n",
    "increase = 0\n",
    "\n",
    "# Number of trees in random forest\n",
    "n_estimators = [int(x) for x in np.linspace(start = 20, stop = 1000, num = 20)]\n",
    "# Number of features to consider at every split\n",
    "max_features = ['auto', 'sqrt']\n",
    "# Maximum number of levels in tree\n",
    "max_depth = [int(x) for x in np.linspace(2, 5)]\n",
    "max_depth.append(None)\n",
    "# Minimum number of samples required to split a node\n",
    "min_samples_split = list(range(10)[1:])\n",
    "# Minimum number of samples required at each leaf node\n",
    "min_samples_leaf = list(range(10)[1:])\n",
    "# Method of selecting samples for training each tree\n",
    "bootstrap = [True, False]"
   ]
  },
  {
   "cell_type": "markdown",
   "id": "d498a133-21ca-4371-b69d-fd188bb45b2e",
   "metadata": {},
   "source": [
    "# Train-test split"
   ]
  },
  {
   "cell_type": "markdown",
   "id": "0915a8b7-0820-4e76-97fd-270491fae75d",
   "metadata": {},
   "source": [
    "### X"
   ]
  },
  {
   "cell_type": "code",
   "execution_count": 12,
   "id": "9171c51c-8648-438f-9d63-5592389a0057",
   "metadata": {},
   "outputs": [
    {
     "data": {
      "text/plain": [
       "(307, 7)"
      ]
     },
     "execution_count": 12,
     "metadata": {},
     "output_type": "execute_result"
    }
   ],
   "source": [
    "X = np.array(df[features])\n",
    "X.shape"
   ]
  },
  {
   "cell_type": "code",
   "execution_count": 13,
   "id": "44b2c812-0245-40e9-a505-3d6247483aac",
   "metadata": {},
   "outputs": [],
   "source": [
    "# Split the data into training/testing sets\n",
    "X_train = X[:-days_for_test]\n",
    "X_test = X[-days_for_test:]"
   ]
  },
  {
   "cell_type": "markdown",
   "id": "ceedee80",
   "metadata": {},
   "source": [
    "### This month and year, unknown y"
   ]
  },
  {
   "cell_type": "code",
   "execution_count": 14,
   "id": "0395e2f9",
   "metadata": {},
   "outputs": [
    {
     "data": {
      "text/plain": [
       "array([[23.31      , 20.0589    ,  3.8354    ,  4.29000429,  4.98531824,\n",
       "         3.1       ,  2.20723869]])"
      ]
     },
     "execution_count": 14,
     "metadata": {},
     "output_type": "execute_result"
    }
   ],
   "source": [
    "X_this_month = np.array(this_month[features])\n",
    "X_this_month"
   ]
  },
  {
   "cell_type": "code",
   "execution_count": 15,
   "id": "54e170d1-9ba1-4fa6-bae2-e75a7f1e6fa8",
   "metadata": {},
   "outputs": [],
   "source": [
    "X_this_year = np.array(this_year[features])\n",
    "# X_this_year"
   ]
  },
  {
   "cell_type": "markdown",
   "id": "2583258c-8249-4a37-b74a-f19fe98f3225",
   "metadata": {},
   "source": [
    "### y for regression"
   ]
  },
  {
   "cell_type": "code",
   "execution_count": 16,
   "id": "7e40b2c8-8bdb-40f4-8a04-1b757717e25a",
   "metadata": {},
   "outputs": [],
   "source": [
    "y = np.array(df[target])"
   ]
  },
  {
   "cell_type": "code",
   "execution_count": 17,
   "id": "c0fa2b8e-e1eb-43de-9f5a-c543d9ef1809",
   "metadata": {},
   "outputs": [],
   "source": [
    "# df[['date',target]]"
   ]
  },
  {
   "cell_type": "code",
   "execution_count": 18,
   "id": "1a1eafee-3db3-4528-a1d0-ffce3fd0eea1",
   "metadata": {},
   "outputs": [],
   "source": [
    "# Split the targets into training/testing sets\n",
    "y_train = y[:-days_for_test]\n",
    "y_test = y[-days_for_test:]"
   ]
  },
  {
   "cell_type": "markdown",
   "id": "63b3116a-bfd9-41a6-abcb-55dbdc6e289b",
   "metadata": {},
   "source": [
    "### y for classificator"
   ]
  },
  {
   "cell_type": "code",
   "execution_count": 19,
   "id": "4858ee40-673b-4cf0-904b-1180491d3c06",
   "metadata": {},
   "outputs": [
    {
     "data": {
      "text/plain": [
       "<Axes: >"
      ]
     },
     "execution_count": 19,
     "metadata": {},
     "output_type": "execute_result"
    },
    {
     "data": {
      "image/png": "[encoded data removed]",
      "text/plain": [
       "<Figure size 640x480 with 1 Axes>"
      ]
     },
     "metadata": {},
     "output_type": "display_data"
    }
   ],
   "source": [
    "df[target].hist(bins=80)"
   ]
  },
  {
   "cell_type": "code",
   "execution_count": 20,
   "id": "f465cd8d-d0f3-4076-a3a3-74090943fef8",
   "metadata": {},
   "outputs": [
    {
     "data": {
      "text/plain": [
       "(307, 14)"
      ]
     },
     "execution_count": 20,
     "metadata": {},
     "output_type": "execute_result"
    }
   ],
   "source": [
    "df.shape"
   ]
  },
  {
   "cell_type": "code",
   "execution_count": 21,
   "id": "e35f4165-f6ab-4544-9101-959fd33e9671",
   "metadata": {},
   "outputs": [
    {
     "data": {
      "text/plain": [
       "array([ 19.28472852,   8.09433505,   9.04749081,  21.99115044,\n",
       "        23.66139605,  28.57901788,  32.48958643,  19.73648697,\n",
       "        18.46013514,  21.82234144,  21.0258714 ,  22.75602242,\n",
       "        20.20309535,  39.8245614 ,  27.8038045 ,  25.66934   ,\n",
       "        20.89587212,  21.04119137,  10.34577892,  11.7293581 ,\n",
       "        17.9413761 ,  10.12788903,  10.47747596,   7.24911817,\n",
       "         8.97490897,  16.31890515,  13.28377633,   6.09159032,\n",
       "        -4.21955295,  -9.10408628,  -0.90059588,  -8.1985665 ,\n",
       "       -21.6765969 , -12.97200269, -10.55334962, -14.83036322,\n",
       "       -14.32904672, -24.38902696, -26.6207803 , -24.90440373,\n",
       "       -12.22366852, -11.88601098, -16.14675041,  -9.5131515 ,\n",
       "         0.24019166, -12.62697735, -13.84789624, -17.98847356,\n",
       "       -23.63015111, -17.99419299, -20.48622743, -15.10620027,\n",
       "       -16.51359569, -22.10033478, -23.01751967, -22.68198058,\n",
       "       -24.76053787, -13.30688525,  -8.06265153,   0.25178884,\n",
       "        10.64458398,  12.06566222,  24.39554959,  20.800373  ,\n",
       "        15.08929838,  28.68424809,  34.57179149,  38.52080251,\n",
       "        35.11862853,  22.8762471 ,  18.32839939,  19.1098845 ,\n",
       "        13.17200365,  11.45660945,  13.87297221,   9.42222397,\n",
       "        12.85674451,  10.88210285,   6.22908763,   6.97797935,\n",
       "         6.69344773,   6.33914226,   8.23779451,   6.32345145,\n",
       "        14.05258554,  12.5565243 ,  12.25204555,   8.71969629,\n",
       "         8.44380089,   4.9117835 ,  10.38059327,   8.398833  ,\n",
       "        11.72645651,  15.41542932,   8.63693996,   8.62974022,\n",
       "         5.38142025,   8.88208103,  10.7909351 ,  16.34039043,\n",
       "        14.23265228,  15.79446381,  14.51342412,  11.96949346,\n",
       "        11.82994643,  15.23630874,  22.79166086,  20.58864484,\n",
       "        16.13275243,  15.13402289,  16.43963317,  14.55911895,\n",
       "         7.72070931,   5.49372636,  -2.31120364,  -3.59870943,\n",
       "        -5.0769958 ,  -4.6762449 ,  -6.69750815, -13.12006843,\n",
       "       -11.09389827, -11.13966544, -21.97575575, -36.09649829,\n",
       "       -38.09347469, -36.99761082, -38.62678168, -43.3205561 ,\n",
       "       -38.08812404, -35.31297229, -32.56840207, -26.21402236,\n",
       "       -19.96038503, -18.2532187 ,  -6.90755544,   9.80494702,\n",
       "        25.38812531,  26.46423213,  33.13691742,  53.61781232,\n",
       "        49.76875126,  38.84438107,  20.99039419,  14.4295302 ,\n",
       "        13.83666913,   4.91044705,  10.16181342,  16.51819577,\n",
       "         9.93853596,  15.06340136,  22.18584171,  22.57497522,\n",
       "        15.64488143,  17.21918609,  25.94945801,  30.69151076,\n",
       "        19.65130217,  18.50047074,   1.14408444,   8.08542635,\n",
       "         7.83312477,   2.11182004,   4.21779708,   5.12295906,\n",
       "         8.53918837,   4.75591562,  -0.41278085,   5.44819464,\n",
       "         9.13172562,  17.99998074,  30.20214524,  15.20676437,\n",
       "        16.1313568 ,  16.0032238 ,  16.77845803,  13.45767307,\n",
       "        13.96240543,  16.89147229,  27.27496972,  20.59700735,\n",
       "        24.9977051 ,  18.70399086,  19.34222512,  27.17638429,\n",
       "        30.2963148 ,  32.38847806,  21.51691621,  25.37379397,\n",
       "        21.8573672 ,  20.43762529,  20.44776533,  24.60903791,\n",
       "        16.93983416,  25.24544855,  19.7344826 ,  17.26846585,\n",
       "        16.86107641,  13.68836316,  14.2248395 ,  15.50585831,\n",
       "        12.73170573,  12.97824412,  11.80620006,   7.42276574,\n",
       "        11.207214  ,   0.47785823,  -0.61465655,   5.19947065,\n",
       "         2.74890446,   1.38375992,  -0.66515694,  -6.19073975,\n",
       "         1.78279071,   1.206472  ,   1.71593193,   3.99281942,\n",
       "         5.61399456,  12.55316533,  15.43035766,   4.5090447 ,\n",
       "         8.05827693,  11.95991208,  20.04014361,  24.97532437,\n",
       "        17.17224659,  17.91838236,  17.46838641,  17.89597829,\n",
       "        16.04200743,  16.23405149,  18.6095325 ,  23.63237755,\n",
       "        22.87349281,  21.83160148,  26.40940775,  17.1006391 ,\n",
       "        13.99186023,  13.26595155,  14.38397708,  14.37405416,\n",
       "        16.24023994,  19.66140341,  17.91029814,   7.34621744,\n",
       "         6.27434322,  -4.38424174,  -2.31491814,   4.67964937,\n",
       "         9.49646156,  13.4944079 ,   3.78274196,  10.41744926,\n",
       "         7.98582332,   2.92158163,   4.25389786,  14.32612781,\n",
       "        16.10995618,  31.48637099,  21.68369669,   8.19294195,\n",
       "        -6.97789375,   0.86310892,  12.83756729,   7.5050988 ,\n",
       "        11.95761175,  21.93675052,  15.14897838,   9.71064047,\n",
       "        17.45641006,  18.3988269 ,  17.24942757,  31.29016107,\n",
       "        56.35162833,  45.98195361,  40.31850683,  40.79415335,\n",
       "        36.44514524,  31.16568017,  30.00507311,  42.91386284,\n",
       "        27.92094817,  28.70536836,  23.29003608,  16.38909336,\n",
       "        15.64584729,   0.2130636 ,  -0.29947006, -10.6158264 ,\n",
       "        -4.63943481, -11.22755094, -15.47211009, -14.61108652,\n",
       "        -9.21008168, -18.11088748,  -8.2159089 ,  -7.69150383,\n",
       "        -7.72850266,   2.66424428,   2.92174552,  19.59409165,\n",
       "        13.01546539,  15.9445072 ,  21.6173844 ,  10.14284498,\n",
       "        13.83982484,  26.28765887,  20.81828097])"
      ]
     },
     "execution_count": 21,
     "metadata": {},
     "output_type": "execute_result"
    }
   ],
   "source": [
    "y"
   ]
  },
  {
   "cell_type": "code",
   "execution_count": 22,
   "id": "bcaf2c3a",
   "metadata": {},
   "outputs": [],
   "source": [
    "y_classificated = np.where(y>increase, 1, 0)"
   ]
  },
  {
   "cell_type": "code",
   "execution_count": 23,
   "id": "c3bdc5b2",
   "metadata": {},
   "outputs": [
    {
     "data": {
      "text/plain": [
       "array([1, 1, 1, 1, 1, 1, 1, 1, 1, 1, 1, 1, 1, 1, 1, 1, 1, 1, 1, 1, 1, 1,\n",
       "       1, 1, 1, 1, 1, 1, 0, 0, 0, 0, 0, 0, 0, 0, 0, 0, 0, 0, 0, 0, 0, 0,\n",
       "       1, 0, 0, 0, 0, 0, 0, 0, 0, 0, 0, 0, 0, 0, 0, 1, 1, 1, 1, 1, 1, 1,\n",
       "       1, 1, 1, 1, 1, 1, 1, 1, 1, 1, 1, 1, 1, 1, 1, 1, 1, 1, 1, 1, 1, 1,\n",
       "       1, 1, 1, 1, 1, 1, 1, 1, 1, 1, 1, 1, 1, 1, 1, 1, 1, 1, 1, 1, 1, 1,\n",
       "       1, 1, 1, 1, 0, 0, 0, 0, 0, 0, 0, 0, 0, 0, 0, 0, 0, 0, 0, 0, 0, 0,\n",
       "       0, 0, 0, 1, 1, 1, 1, 1, 1, 1, 1, 1, 1, 1, 1, 1, 1, 1, 1, 1, 1, 1,\n",
       "       1, 1, 1, 1, 1, 1, 1, 1, 1, 1, 1, 1, 0, 1, 1, 1, 1, 1, 1, 1, 1, 1,\n",
       "       1, 1, 1, 1, 1, 1, 1, 1, 1, 1, 1, 1, 1, 1, 1, 1, 1, 1, 1, 1, 1, 1,\n",
       "       1, 1, 1, 1, 1, 1, 1, 1, 0, 1, 1, 1, 0, 0, 1, 1, 1, 1, 1, 1, 1, 1,\n",
       "       1, 1, 1, 1, 1, 1, 1, 1, 1, 1, 1, 1, 1, 1, 1, 1, 1, 1, 1, 1, 1, 1,\n",
       "       1, 1, 1, 0, 0, 1, 1, 1, 1, 1, 1, 1, 1, 1, 1, 1, 1, 1, 0, 1, 1, 1,\n",
       "       1, 1, 1, 1, 1, 1, 1, 1, 1, 1, 1, 1, 1, 1, 1, 1, 1, 1, 1, 1, 1, 1,\n",
       "       0, 0, 0, 0, 0, 0, 0, 0, 0, 0, 0, 1, 1, 1, 1, 1, 1, 1, 1, 1, 1])"
      ]
     },
     "execution_count": 23,
     "metadata": {},
     "output_type": "execute_result"
    }
   ],
   "source": [
    "y_classificated"
   ]
  },
  {
   "cell_type": "code",
   "execution_count": 24,
   "id": "8f9641ca-15a1-4f94-a81c-acd8c510bf24",
   "metadata": {},
   "outputs": [],
   "source": [
    "# Split the targets into training/testing sets\n",
    "y_classificated_train = y_classificated[:-days_for_test]\n",
    "y_classificated_test = y_classificated[-days_for_test:]"
   ]
  },
  {
   "cell_type": "markdown",
   "id": "e28ad7e9-9a90-43be-af4d-79cce88cc235",
   "metadata": {},
   "source": [
    "# Linear regression"
   ]
  },
  {
   "cell_type": "code",
   "execution_count": 25,
   "id": "44c85d9c-4283-4b03-9aa0-165f7eb86536",
   "metadata": {},
   "outputs": [],
   "source": [
    "# Create linear regression object\n",
    "regr = linear_model.LinearRegression()"
   ]
  },
  {
   "cell_type": "code",
   "execution_count": 26,
   "id": "b36ea401-968a-48a7-a738-a51cae28776e",
   "metadata": {},
   "outputs": [
    {
     "data": {
      "text/html": [
       "<style>#sk-container-id-1 {color: black;}#sk-container-id-1 pre{padding: 0;}#sk-container-id-1 div.sk-toggleable {background-color: white;}#sk-container-id-1 label.sk-toggleable__label {cursor: pointer;display: block;width: 100%;margin-bottom: 0;padding: 0.3em;box-sizing: border-box;text-align: center;}#sk-container-id-1 label.sk-toggleable__label-arrow:before {content: \"▸\";float: left;margin-right: 0.25em;color: #696969;}#sk-container-id-1 label.sk-toggleable__label-arrow:hover:before {color: black;}#sk-container-id-1 div.sk-estimator:hover label.sk-toggleable__label-arrow:before {color: black;}#sk-container-id-1 div.sk-toggleable__content {max-height: 0;max-width: 0;overflow: hidden;text-align: left;background-color: #f0f8ff;}#sk-container-id-1 div.sk-toggleable__content pre {margin: 0.2em;color: black;border-radius: 0.25em;background-color: #f0f8ff;}#sk-container-id-1 input.sk-toggleable__control:checked~div.sk-toggleable__content {max-height: 200px;max-width: 100%;overflow: auto;}#sk-container-id-1 input.sk-toggleable__control:checked~label.sk-toggleable__label-arrow:before {content: \"▾\";}#sk-container-id-1 div.sk-estimator input.sk-toggleable__control:checked~label.sk-toggleable__label {background-color: #d4ebff;}#sk-container-id-1 div.sk-label input.sk-toggleable__control:checked~label.sk-toggleable__label {background-color: #d4ebff;}#sk-container-id-1 input.sk-hidden--visually {border: 0;clip: rect(1px 1px 1px 1px);clip: rect(1px, 1px, 1px, 1px);height: 1px;margin: -1px;overflow: hidden;padding: 0;position: absolute;width: 1px;}#sk-container-id-1 div.sk-estimator {font-family: monospace;background-color: #f0f8ff;border: 1px dotted black;border-radius: 0.25em;box-sizing: border-box;margin-bottom: 0.5em;}#sk-container-id-1 div.sk-estimator:hover {background-color: #d4ebff;}#sk-container-id-1 div.sk-parallel-item::after {content: \"\";width: 100%;border-bottom: 1px solid gray;flex-grow: 1;}#sk-container-id-1 div.sk-label:hover label.sk-toggleable__label {background-color: #d4ebff;}#sk-container-id-1 div.sk-serial::before {content: \"\";position: absolute;border-left: 1px solid gray;box-sizing: border-box;top: 0;bottom: 0;left: 50%;z-index: 0;}#sk-container-id-1 div.sk-serial {display: flex;flex-direction: column;align-items: center;background-color: white;padding-right: 0.2em;padding-left: 0.2em;position: relative;}#sk-container-id-1 div.sk-item {position: relative;z-index: 1;}#sk-container-id-1 div.sk-parallel {display: flex;align-items: stretch;justify-content: center;background-color: white;position: relative;}#sk-container-id-1 div.sk-item::before, #sk-container-id-1 div.sk-parallel-item::before {content: \"\";position: absolute;border-left: 1px solid gray;box-sizing: border-box;top: 0;bottom: 0;left: 50%;z-index: -1;}#sk-container-id-1 div.sk-parallel-item {display: flex;flex-direction: column;z-index: 1;position: relative;background-color: white;}#sk-container-id-1 div.sk-parallel-item:first-child::after {align-self: flex-end;width: 50%;}#sk-container-id-1 div.sk-parallel-item:last-child::after {align-self: flex-start;width: 50%;}#sk-container-id-1 div.sk-parallel-item:only-child::after {width: 0;}#sk-container-id-1 div.sk-dashed-wrapped {border: 1px dashed gray;margin: 0 0.4em 0.5em 0.4em;box-sizing: border-box;padding-bottom: 0.4em;background-color: white;}#sk-container-id-1 div.sk-label label {font-family: monospace;font-weight: bold;display: inline-block;line-height: 1.2em;}#sk-container-id-1 div.sk-label-container {text-align: center;}#sk-container-id-1 div.sk-container {/* jupyter's `normalize.less` sets `[hidden] { display: none; }` but bootstrap.min.css set `[hidden] { display: none !important; }` so we also need the `!important` here to be able to override the default hidden behavior on the sphinx rendered scikit-learn.org. See: https://github.com/scikit-learn/scikit-learn/issues/21755 */display: inline-block !important;position: relative;}#sk-container-id-1 div.sk-text-repr-fallback {display: none;}</style><div id=\"sk-container-id-1\" class=\"sk-top-container\"><div class=\"sk-text-repr-fallback\"><pre>LinearRegression()</pre><b>In a Jupyter environment, please rerun this cell to show the HTML representation or trust the notebook. <br />On GitHub, the HTML representation is unable to render, please try loading this page with nbviewer.org.</b></div><div class=\"sk-container\" hidden><div class=\"sk-item\"><div class=\"sk-estimator sk-toggleable\"><input class=\"sk-toggleable__control sk-hidden--visually\" id=\"sk-estimator-id-1\" type=\"checkbox\" checked><label for=\"sk-estimator-id-1\" class=\"sk-toggleable__label sk-toggleable__label-arrow\">LinearRegression</label><div class=\"sk-toggleable__content\"><pre>LinearRegression()</pre></div></div></div></div></div>"
      ],
      "text/plain": [
       "LinearRegression()"
      ]
     },
     "execution_count": 26,
     "metadata": {},
     "output_type": "execute_result"
    }
   ],
   "source": [
    "# Train the model using the training sets\n",
    "regr.fit(X_train, y_train)"
   ]
  },
  {
   "cell_type": "code",
   "execution_count": 27,
   "id": "64a60655-1af8-4067-b65a-89d3d1838ac3",
   "metadata": {},
   "outputs": [],
   "source": [
    "# Make predictions using the testing set\n",
    "y_pred = regr.predict(X_test)"
   ]
  },
  {
   "cell_type": "code",
   "execution_count": 28,
   "id": "bee6c27a-6124-41d6-b8a8-bdfafda479ee",
   "metadata": {},
   "outputs": [
    {
     "name": "stdout",
     "output_type": "stream",
     "text": [
      "Coefficients: \n",
      " [-1.93135782  3.94821861 -0.04722313  0.61695754  6.93603103 -5.38383363\n",
      " -0.81412739]\n",
      "MSE: 567.47\n",
      "R^2: -0.82\n"
     ]
    }
   ],
   "source": [
    "# The coefficients\n",
    "print(\"Coefficients: \\n\", regr.coef_)\n",
    "# The mean squared error\n",
    "print(\"MSE: %.2f\" % mean_squared_error(y_test, y_pred))\n",
    "# The coefficient of determination: 1 is perfect prediction\n",
    "r_sqr_test = r2_score(y_test, y_pred)\n",
    "print(\"R^2: %.2f\" % r_sqr_test)"
   ]
  },
  {
   "cell_type": "code",
   "execution_count": 29,
   "id": "6a9ac900-8f80-43a1-bf66-b63beab5f0fb",
   "metadata": {},
   "outputs": [
    {
     "data": {
      "text/html": [
       "<div>\n",
       "<style scoped>\n",
       "    .dataframe tbody tr th:only-of-type {\n",
       "        vertical-align: middle;\n",
       "    }\n",
       "\n",
       "    .dataframe tbody tr th {\n",
       "        vertical-align: top;\n",
       "    }\n",
       "\n",
       "    .dataframe thead th {\n",
       "        text-align: right;\n",
       "    }\n",
       "</style>\n",
       "<table border=\"1\" class=\"dataframe\">\n",
       "  <thead>\n",
       "    <tr style=\"text-align: right;\">\n",
       "      <th></th>\n",
       "      <th>Coefficient</th>\n",
       "    </tr>\n",
       "    <tr>\n",
       "      <th>Feature</th>\n",
       "      <th></th>\n",
       "    </tr>\n",
       "  </thead>\n",
       "  <tbody>\n",
       "    <tr>\n",
       "      <th>PE_RATIO</th>\n",
       "      <td>-1.931358</td>\n",
       "    </tr>\n",
       "    <tr>\n",
       "      <th>EST_PE_NEXT_YR_AGGTE</th>\n",
       "      <td>3.948219</td>\n",
       "    </tr>\n",
       "    <tr>\n",
       "      <th>5Y GENERIC</th>\n",
       "      <td>-0.047223</td>\n",
       "    </tr>\n",
       "    <tr>\n",
       "      <th>PE Yield</th>\n",
       "      <td>0.616958</td>\n",
       "    </tr>\n",
       "    <tr>\n",
       "      <th>Fwd PE Yield</th>\n",
       "      <td>6.936031</td>\n",
       "    </tr>\n",
       "    <tr>\n",
       "      <th>Known_inflation_1Y</th>\n",
       "      <td>-5.383834</td>\n",
       "    </tr>\n",
       "    <tr>\n",
       "      <th>EXPECTED INFLATION 5Y</th>\n",
       "      <td>-0.814127</td>\n",
       "    </tr>\n",
       "  </tbody>\n",
       "</table>\n",
       "</div>"
      ],
      "text/plain": [
       "                      Coefficient\n",
       "Feature                          \n",
       "PE_RATIO                -1.931358\n",
       "EST_PE_NEXT_YR_AGGTE     3.948219\n",
       "5Y GENERIC              -0.047223\n",
       "PE Yield                 0.616958\n",
       "Fwd PE Yield             6.936031\n",
       "Known_inflation_1Y      -5.383834\n",
       "EXPECTED INFLATION 5Y   -0.814127"
      ]
     },
     "execution_count": 29,
     "metadata": {},
     "output_type": "execute_result"
    }
   ],
   "source": [
    "regression_result = pd.DataFrame([features, list(regr.coef_)]).T\n",
    "regression_result.columns = ['Feature','Coefficient']\n",
    "regression_result.set_index('Feature')"
   ]
  },
  {
   "cell_type": "code",
   "execution_count": null,
   "id": "c4dcdf6d-7d0e-49bf-9e75-543ccaa1682f",
   "metadata": {},
   "outputs": [],
   "source": []
  },
  {
   "cell_type": "markdown",
   "id": "3e024334-39ff-4090-a5cc-2d5735c32a11",
   "metadata": {},
   "source": [
    "## Linear regression with p-value"
   ]
  },
  {
   "cell_type": "code",
   "execution_count": 30,
   "id": "a9e4d14f-c644-439f-9140-fd0801b10e5f",
   "metadata": {},
   "outputs": [
    {
     "data": {
      "text/html": [
       "<table class=\"simpletable\">\n",
       "<caption>OLS Regression Results</caption>\n",
       "<tr>\n",
       "  <th>Dep. Variable:</th>            <td>y</td>        <th>  R-squared:         </th> <td>   0.275</td>\n",
       "</tr>\n",
       "<tr>\n",
       "  <th>Model:</th>                   <td>OLS</td>       <th>  Adj. R-squared:    </th> <td>   0.255</td>\n",
       "</tr>\n",
       "<tr>\n",
       "  <th>Method:</th>             <td>Least Squares</td>  <th>  F-statistic:       </th> <td>   13.62</td>\n",
       "</tr>\n",
       "<tr>\n",
       "  <th>Date:</th>             <td>Wed, 28 Feb 2024</td> <th>  Prob (F-statistic):</th> <td>6.53e-15</td>\n",
       "</tr>\n",
       "<tr>\n",
       "  <th>Time:</th>                 <td>16:03:52</td>     <th>  Log-Likelihood:    </th> <td> -1048.8</td>\n",
       "</tr>\n",
       "<tr>\n",
       "  <th>No. Observations:</th>      <td>   259</td>      <th>  AIC:               </th> <td>   2114.</td>\n",
       "</tr>\n",
       "<tr>\n",
       "  <th>Df Residuals:</th>          <td>   251</td>      <th>  BIC:               </th> <td>   2142.</td>\n",
       "</tr>\n",
       "<tr>\n",
       "  <th>Df Model:</th>              <td>     7</td>      <th>                     </th>     <td> </td>   \n",
       "</tr>\n",
       "<tr>\n",
       "  <th>Covariance Type:</th>      <td>nonrobust</td>    <th>                     </th>     <td> </td>   \n",
       "</tr>\n",
       "</table>\n",
       "<table class=\"simpletable\">\n",
       "<tr>\n",
       "    <td></td>       <th>coef</th>     <th>std err</th>      <th>t</th>      <th>P>|t|</th>  <th>[0.025</th>    <th>0.975]</th>  \n",
       "</tr>\n",
       "<tr>\n",
       "  <th>const</th> <td>  -51.0327</td> <td>   43.076</td> <td>   -1.185</td> <td> 0.237</td> <td> -135.870</td> <td>   33.805</td>\n",
       "</tr>\n",
       "<tr>\n",
       "  <th>x1</th>    <td>   -1.9314</td> <td>    2.075</td> <td>   -0.931</td> <td> 0.353</td> <td>   -6.019</td> <td>    2.156</td>\n",
       "</tr>\n",
       "<tr>\n",
       "  <th>x2</th>    <td>    3.9482</td> <td>    2.687</td> <td>    1.470</td> <td> 0.143</td> <td>   -1.343</td> <td>    9.240</td>\n",
       "</tr>\n",
       "<tr>\n",
       "  <th>x3</th>    <td>   -0.0472</td> <td>    0.861</td> <td>   -0.055</td> <td> 0.956</td> <td>   -1.742</td> <td>    1.648</td>\n",
       "</tr>\n",
       "<tr>\n",
       "  <th>x4</th>    <td>    0.6170</td> <td>    7.602</td> <td>    0.081</td> <td> 0.935</td> <td>  -14.355</td> <td>   15.589</td>\n",
       "</tr>\n",
       "<tr>\n",
       "  <th>x5</th>    <td>    6.9360</td> <td>    5.997</td> <td>    1.157</td> <td> 0.249</td> <td>   -4.875</td> <td>   18.747</td>\n",
       "</tr>\n",
       "<tr>\n",
       "  <th>x6</th>    <td>   -5.3838</td> <td>    0.979</td> <td>   -5.497</td> <td> 0.000</td> <td>   -7.313</td> <td>   -3.455</td>\n",
       "</tr>\n",
       "<tr>\n",
       "  <th>x7</th>    <td>   -0.8141</td> <td>    2.248</td> <td>   -0.362</td> <td> 0.717</td> <td>   -5.241</td> <td>    3.612</td>\n",
       "</tr>\n",
       "</table>\n",
       "<table class=\"simpletable\">\n",
       "<tr>\n",
       "  <th>Omnibus:</th>       <td>15.645</td> <th>  Durbin-Watson:     </th> <td>   0.170</td>\n",
       "</tr>\n",
       "<tr>\n",
       "  <th>Prob(Omnibus):</th> <td> 0.000</td> <th>  Jarque-Bera (JB):  </th> <td>  16.696</td>\n",
       "</tr>\n",
       "<tr>\n",
       "  <th>Skew:</th>          <td>-0.596</td> <th>  Prob(JB):          </th> <td>0.000237</td>\n",
       "</tr>\n",
       "<tr>\n",
       "  <th>Kurtosis:</th>      <td> 3.354</td> <th>  Cond. No.          </th> <td>1.33e+03</td>\n",
       "</tr>\n",
       "</table><br/><br/>Notes:<br/>[1] Standard Errors assume that the covariance matrix of the errors is correctly specified.<br/>[2] The condition number is large, 1.33e+03. This might indicate that there are<br/>strong multicollinearity or other numerical problems."
      ],
      "text/latex": [
       "\\begin{center}\n",
       "\\begin{tabular}{lclc}\n",
       "\\toprule\n",
       "\\textbf{Dep. Variable:}    &        y         & \\textbf{  R-squared:         } &     0.275   \\\\\n",
       "\\textbf{Model:}            &       OLS        & \\textbf{  Adj. R-squared:    } &     0.255   \\\\\n",
       "\\textbf{Method:}           &  Least Squares   & \\textbf{  F-statistic:       } &     13.62   \\\\\n",
       "\\textbf{Date:}             & Wed, 28 Feb 2024 & \\textbf{  Prob (F-statistic):} &  6.53e-15   \\\\\n",
       "\\textbf{Time:}             &     16:03:52     & \\textbf{  Log-Likelihood:    } &   -1048.8   \\\\\n",
       "\\textbf{No. Observations:} &         259      & \\textbf{  AIC:               } &     2114.   \\\\\n",
       "\\textbf{Df Residuals:}     &         251      & \\textbf{  BIC:               } &     2142.   \\\\\n",
       "\\textbf{Df Model:}         &           7      & \\textbf{                     } &             \\\\\n",
       "\\textbf{Covariance Type:}  &    nonrobust     & \\textbf{                     } &             \\\\\n",
       "\\bottomrule\n",
       "\\end{tabular}\n",
       "\\begin{tabular}{lcccccc}\n",
       "               & \\textbf{coef} & \\textbf{std err} & \\textbf{t} & \\textbf{P$> |$t$|$} & \\textbf{[0.025} & \\textbf{0.975]}  \\\\\n",
       "\\midrule\n",
       "\\textbf{const} &     -51.0327  &       43.076     &    -1.185  &         0.237        &     -135.870    &       33.805     \\\\\n",
       "\\textbf{x1}    &      -1.9314  &        2.075     &    -0.931  &         0.353        &       -6.019    &        2.156     \\\\\n",
       "\\textbf{x2}    &       3.9482  &        2.687     &     1.470  &         0.143        &       -1.343    &        9.240     \\\\\n",
       "\\textbf{x3}    &      -0.0472  &        0.861     &    -0.055  &         0.956        &       -1.742    &        1.648     \\\\\n",
       "\\textbf{x4}    &       0.6170  &        7.602     &     0.081  &         0.935        &      -14.355    &       15.589     \\\\\n",
       "\\textbf{x5}    &       6.9360  &        5.997     &     1.157  &         0.249        &       -4.875    &       18.747     \\\\\n",
       "\\textbf{x6}    &      -5.3838  &        0.979     &    -5.497  &         0.000        &       -7.313    &       -3.455     \\\\\n",
       "\\textbf{x7}    &      -0.8141  &        2.248     &    -0.362  &         0.717        &       -5.241    &        3.612     \\\\\n",
       "\\bottomrule\n",
       "\\end{tabular}\n",
       "\\begin{tabular}{lclc}\n",
       "\\textbf{Omnibus:}       & 15.645 & \\textbf{  Durbin-Watson:     } &    0.170  \\\\\n",
       "\\textbf{Prob(Omnibus):} &  0.000 & \\textbf{  Jarque-Bera (JB):  } &   16.696  \\\\\n",
       "\\textbf{Skew:}          & -0.596 & \\textbf{  Prob(JB):          } & 0.000237  \\\\\n",
       "\\textbf{Kurtosis:}      &  3.354 & \\textbf{  Cond. No.          } & 1.33e+03  \\\\\n",
       "\\bottomrule\n",
       "\\end{tabular}\n",
       "%\\caption{OLS Regression Results}\n",
       "\\end{center}\n",
       "\n",
       "Notes: \\newline\n",
       " [1] Standard Errors assume that the covariance matrix of the errors is correctly specified. \\newline\n",
       " [2] The condition number is large, 1.33e+03. This might indicate that there are \\newline\n",
       " strong multicollinearity or other numerical problems."
      ],
      "text/plain": [
       "<class 'statsmodels.iolib.summary.Summary'>\n",
       "\"\"\"\n",
       "                            OLS Regression Results                            \n",
       "==============================================================================\n",
       "Dep. Variable:                      y   R-squared:                       0.275\n",
       "Model:                            OLS   Adj. R-squared:                  0.255\n",
       "Method:                 Least Squares   F-statistic:                     13.62\n",
       "Date:                Wed, 28 Feb 2024   Prob (F-statistic):           6.53e-15\n",
       "Time:                        16:03:52   Log-Likelihood:                -1048.8\n",
       "No. Observations:                 259   AIC:                             2114.\n",
       "Df Residuals:                     251   BIC:                             2142.\n",
       "Df Model:                           7                                         \n",
       "Covariance Type:            nonrobust                                         \n",
       "==============================================================================\n",
       "                 coef    std err          t      P>|t|      [0.025      0.975]\n",
       "------------------------------------------------------------------------------\n",
       "const        -51.0327     43.076     -1.185      0.237    -135.870      33.805\n",
       "x1            -1.9314      2.075     -0.931      0.353      -6.019       2.156\n",
       "x2             3.9482      2.687      1.470      0.143      -1.343       9.240\n",
       "x3            -0.0472      0.861     -0.055      0.956      -1.742       1.648\n",
       "x4             0.6170      7.602      0.081      0.935     -14.355      15.589\n",
       "x5             6.9360      5.997      1.157      0.249      -4.875      18.747\n",
       "x6            -5.3838      0.979     -5.497      0.000      -7.313      -3.455\n",
       "x7            -0.8141      2.248     -0.362      0.717      -5.241       3.612\n",
       "==============================================================================\n",
       "Omnibus:                       15.645   Durbin-Watson:                   0.170\n",
       "Prob(Omnibus):                  0.000   Jarque-Bera (JB):               16.696\n",
       "Skew:                          -0.596   Prob(JB):                     0.000237\n",
       "Kurtosis:                       3.354   Cond. No.                     1.33e+03\n",
       "==============================================================================\n",
       "\n",
       "Notes:\n",
       "[1] Standard Errors assume that the covariance matrix of the errors is correctly specified.\n",
       "[2] The condition number is large, 1.33e+03. This might indicate that there are\n",
       "strong multicollinearity or other numerical problems.\n",
       "\"\"\""
      ]
     },
     "execution_count": 30,
     "metadata": {},
     "output_type": "execute_result"
    }
   ],
   "source": [
    "X2 = sm.add_constant(X_train)\n",
    "est = sm.OLS(y_train, X2)\n",
    "est2 = est.fit()\n",
    "est2.summary()"
   ]
  },
  {
   "cell_type": "code",
   "execution_count": 31,
   "id": "bc5c18d0",
   "metadata": {},
   "outputs": [
    {
     "name": "stderr",
     "output_type": "stream",
     "text": [
      "/var/folders/s7/8_j4bgj967g5l_x97vbsfvwr0000gn/T/ipykernel_48177/619441070.py:5: UserWarning: The figure layout has changed to tight\n",
      "  fig.tight_layout(pad=1.0)\n"
     ]
    },
    {
     "data": {
      "image/png": "[encoded data removed]",
      "text/plain": [
       "<Figure size 1600x800 with 8 Axes>"
      ]
     },
     "metadata": {},
     "output_type": "display_data"
    }
   ],
   "source": [
    "plt.rc(\"figure\", figsize=(16, 8))\n",
    "plt.rc(\"font\", size=14)\n",
    "\n",
    "fig = sm.graphics.plot_partregress_grid(est2)\n",
    "fig.tight_layout(pad=1.0)"
   ]
  },
  {
   "cell_type": "markdown",
   "id": "d43c54ca-0b1a-4bf9-80fd-617b05f353ca",
   "metadata": {},
   "source": [
    "* The R^2 of train"
   ]
  },
  {
   "cell_type": "code",
   "execution_count": 32,
   "id": "424cb3d6-d158-4b93-910e-6d96017471ce",
   "metadata": {},
   "outputs": [
    {
     "name": "stdout",
     "output_type": "stream",
     "text": [
      "R^2: 0.28\n"
     ]
    }
   ],
   "source": [
    "y_trained = regr.predict(X_train)\n",
    "y_trained\n",
    "r_sqr_train = r2_score(y_train, y_trained)\n",
    "print(\"R^2: %.2f\" % r_sqr_train)"
   ]
  },
  {
   "cell_type": "markdown",
   "id": "ef711f9d",
   "metadata": {},
   "source": [
    "that means the model is not flexible enough"
   ]
  },
  {
   "cell_type": "markdown",
   "id": "11dedcfd-eb73-40db-8556-472f695aa857",
   "metadata": {
    "tags": []
   },
   "source": [
    "# Desision tree"
   ]
  },
  {
   "cell_type": "code",
   "execution_count": 33,
   "id": "52978492-6d3b-4c47-bacb-0ad35b9ea0f1",
   "metadata": {},
   "outputs": [],
   "source": [
    "from sklearn import tree\n",
    "\n",
    "clf = tree.DecisionTreeClassifier(random_state=4, max_depth=4, min_samples_leaf=2)\n",
    "clf = clf.fit(X_train, y_classificated_train)"
   ]
  },
  {
   "cell_type": "code",
   "execution_count": 34,
   "id": "0e59d8f0-cac4-420c-b632-0d2b1ec12f98",
   "metadata": {},
   "outputs": [
    {
     "data": {
      "text/plain": [
       "[Text(0.6125, 0.9, 'x[0] <= 22.457\\ngini = 0.343\\nsamples = 259\\nvalue = [57, 202]'),\n",
       " Text(0.375, 0.7, 'x[5] <= 3.85\\ngini = 0.225\\nsamples = 201\\nvalue = [26, 175]'),\n",
       " Text(0.2, 0.5, 'x[2] <= 4.167\\ngini = 0.15\\nsamples = 183\\nvalue = [15, 168]'),\n",
       " Text(0.1, 0.3, 'x[1] <= 17.805\\ngini = 0.062\\nsamples = 157\\nvalue = [5, 152]'),\n",
       " Text(0.05, 0.1, 'gini = 0.05\\nsamples = 155\\nvalue = [4, 151]'),\n",
       " Text(0.15, 0.1, 'gini = 0.5\\nsamples = 2\\nvalue = [1, 1]'),\n",
       " Text(0.3, 0.3, 'x[4] <= 6.756\\ngini = 0.473\\nsamples = 26\\nvalue = [10, 16]'),\n",
       " Text(0.25, 0.1, 'gini = 0.0\\nsamples = 7\\nvalue = [0, 7]'),\n",
       " Text(0.35, 0.1, 'gini = 0.499\\nsamples = 19\\nvalue = [10, 9]'),\n",
       " Text(0.55, 0.5, 'x[2] <= 3.814\\ngini = 0.475\\nsamples = 18\\nvalue = [11, 7]'),\n",
       " Text(0.5, 0.3, 'x[4] <= 8.647\\ngini = 0.153\\nsamples = 12\\nvalue = [11, 1]'),\n",
       " Text(0.45, 0.1, 'gini = 0.0\\nsamples = 10\\nvalue = [10, 0]'),\n",
       " Text(0.55, 0.1, 'gini = 0.5\\nsamples = 2\\nvalue = [1, 1]'),\n",
       " Text(0.6, 0.3, 'gini = 0.0\\nsamples = 6\\nvalue = [0, 6]'),\n",
       " Text(0.85, 0.7, 'x[5] <= 2.65\\ngini = 0.498\\nsamples = 58\\nvalue = [31, 27]'),\n",
       " Text(0.8, 0.5, 'x[2] <= 4.443\\ngini = 0.411\\nsamples = 38\\nvalue = [11, 27]'),\n",
       " Text(0.7, 0.3, 'x[4] <= 6.445\\ngini = 0.48\\nsamples = 15\\nvalue = [9, 6]'),\n",
       " Text(0.65, 0.1, 'gini = 0.298\\nsamples = 11\\nvalue = [9, 2]'),\n",
       " Text(0.75, 0.1, 'gini = 0.0\\nsamples = 4\\nvalue = [0, 4]'),\n",
       " Text(0.9, 0.3, 'x[4] <= 4.305\\ngini = 0.159\\nsamples = 23\\nvalue = [2, 21]'),\n",
       " Text(0.85, 0.1, 'gini = 0.5\\nsamples = 2\\nvalue = [1, 1]'),\n",
       " Text(0.95, 0.1, 'gini = 0.091\\nsamples = 21\\nvalue = [1, 20]'),\n",
       " Text(0.9, 0.5, 'gini = 0.0\\nsamples = 20\\nvalue = [20, 0]')]"
      ]
     },
     "execution_count": 34,
     "metadata": {},
     "output_type": "execute_result"
    },
    {
     "data": {
      "image/png": "[encoded data removed]",
      "text/plain": [
       "<Figure size 1600x800 with 1 Axes>"
      ]
     },
     "metadata": {},
     "output_type": "display_data"
    }
   ],
   "source": [
    "tree.plot_tree(clf)"
   ]
  },
  {
   "cell_type": "code",
   "execution_count": 35,
   "id": "78506938-e746-4ced-8c98-299ed0ac06bd",
   "metadata": {},
   "outputs": [],
   "source": [
    "from sklearn.tree import export_text"
   ]
  },
  {
   "cell_type": "code",
   "execution_count": 36,
   "id": "9a4696eb-db85-4e24-8296-aeeeb2850707",
   "metadata": {},
   "outputs": [
    {
     "name": "stdout",
     "output_type": "stream",
     "text": [
      "|--- PE_RATIO <= 22.46\n",
      "|   |--- Known_inflation_1Y <= 3.85\n",
      "|   |   |--- 5Y GENERIC <= 4.17\n",
      "|   |   |   |--- EST_PE_NEXT_YR_AGGTE <= 17.80\n",
      "|   |   |   |   |--- class: 1\n",
      "|   |   |   |--- EST_PE_NEXT_YR_AGGTE >  17.80\n",
      "|   |   |   |   |--- class: 0\n",
      "|   |   |--- 5Y GENERIC >  4.17\n",
      "|   |   |   |--- Fwd PE Yield <= 6.76\n",
      "|   |   |   |   |--- class: 1\n",
      "|   |   |   |--- Fwd PE Yield >  6.76\n",
      "|   |   |   |   |--- class: 0\n",
      "|   |--- Known_inflation_1Y >  3.85\n",
      "|   |   |--- 5Y GENERIC <= 3.81\n",
      "|   |   |   |--- Fwd PE Yield <= 8.65\n",
      "|   |   |   |   |--- class: 0\n",
      "|   |   |   |--- Fwd PE Yield >  8.65\n",
      "|   |   |   |   |--- class: 0\n",
      "|   |   |--- 5Y GENERIC >  3.81\n",
      "|   |   |   |--- class: 1\n",
      "|--- PE_RATIO >  22.46\n",
      "|   |--- Known_inflation_1Y <= 2.65\n",
      "|   |   |--- 5Y GENERIC <= 4.44\n",
      "|   |   |   |--- Fwd PE Yield <= 6.45\n",
      "|   |   |   |   |--- class: 0\n",
      "|   |   |   |--- Fwd PE Yield >  6.45\n",
      "|   |   |   |   |--- class: 1\n",
      "|   |   |--- 5Y GENERIC >  4.44\n",
      "|   |   |   |--- Fwd PE Yield <= 4.31\n",
      "|   |   |   |   |--- class: 0\n",
      "|   |   |   |--- Fwd PE Yield >  4.31\n",
      "|   |   |   |   |--- class: 1\n",
      "|   |--- Known_inflation_1Y >  2.65\n",
      "|   |   |--- class: 0\n",
      "\n"
     ]
    }
   ],
   "source": [
    "r = export_text(clf, feature_names=features)\n",
    "print(r)"
   ]
  },
  {
   "cell_type": "code",
   "execution_count": 37,
   "id": "081d85e0-f887-4035-a1a1-1ad9ec742fe7",
   "metadata": {},
   "outputs": [],
   "source": [
    "y_pred = clf.predict(X_test)"
   ]
  },
  {
   "cell_type": "code",
   "execution_count": 38,
   "id": "f7101319-7ccb-4445-8d44-0dda7fb44f8a",
   "metadata": {},
   "outputs": [
    {
     "name": "stdout",
     "output_type": "stream",
     "text": [
      "Accuracy: 0.5416666666666666\n"
     ]
    }
   ],
   "source": [
    "from sklearn import metrics\n",
    "print(\"Accuracy:\",metrics.accuracy_score(y_classificated_test, y_pred))"
   ]
  },
  {
   "cell_type": "code",
   "execution_count": 39,
   "id": "53ede9d1-fb0a-4994-a6df-9400d9fd9e86",
   "metadata": {},
   "outputs": [
    {
     "name": "stdout",
     "output_type": "stream",
     "text": [
      "Precision: [0.34375 0.9375 ]\n"
     ]
    }
   ],
   "source": [
    "precision_tree = metrics.precision_score(y_classificated_test, y_pred, average=None)\n",
    "print(\"Precision:\", precision_tree)"
   ]
  },
  {
   "cell_type": "code",
   "execution_count": 40,
   "id": "129f5c50-3fdf-4905-9ac9-06f2e8f9ea04",
   "metadata": {},
   "outputs": [
    {
     "name": "stdout",
     "output_type": "stream",
     "text": [
      "Recall: [0.91666667 0.41666667]\n"
     ]
    }
   ],
   "source": [
    "recall_tree = metrics.recall_score(y_classificated_test, y_pred, average=None)\n",
    "print(\"Recall:\", recall_tree)"
   ]
  },
  {
   "cell_type": "code",
   "execution_count": 41,
   "id": "e54f7e57-10b1-4831-bc41-ad5b6d8ec47e",
   "metadata": {},
   "outputs": [
    {
     "data": {
      "text/plain": [
       "array([1, 0, 1, 1, 1, 1, 1, 1, 1, 1, 1, 1, 1, 1, 1, 1, 1, 1, 1, 1, 1, 1,\n",
       "       1, 1, 1, 1, 1, 0, 0, 0, 0, 0, 0, 0, 0, 0, 0, 0, 1, 1, 1, 1, 1, 1,\n",
       "       1, 1, 1, 1])"
      ]
     },
     "execution_count": 41,
     "metadata": {},
     "output_type": "execute_result"
    }
   ],
   "source": [
    "y_classificated_test"
   ]
  },
  {
   "cell_type": "code",
   "execution_count": 42,
   "id": "c4048589-1991-48fb-9845-4d9e42fbb5b7",
   "metadata": {},
   "outputs": [
    {
     "data": {
      "text/plain": [
       "array([1, 1, 1, 1, 1, 1, 1, 1, 1, 1, 0, 1, 1, 1, 0, 0, 0, 0, 0, 0, 0, 0,\n",
       "       0, 0, 0, 0, 0, 0, 0, 0, 0, 0, 0, 0, 0, 0, 0, 0, 0, 0, 0, 0, 0, 1,\n",
       "       1, 0, 1, 0])"
      ]
     },
     "execution_count": 42,
     "metadata": {},
     "output_type": "execute_result"
    }
   ],
   "source": [
    "y_pred"
   ]
  },
  {
   "cell_type": "markdown",
   "id": "39eb2092-2fc0-4c2f-a847-7ea42c0d2b8b",
   "metadata": {},
   "source": [
    "### This month"
   ]
  },
  {
   "cell_type": "code",
   "execution_count": 43,
   "id": "726e136b-6d8b-4bae-891b-62c8746bfa45",
   "metadata": {},
   "outputs": [
    {
     "data": {
      "text/plain": [
       "array([0])"
      ]
     },
     "execution_count": 43,
     "metadata": {},
     "output_type": "execute_result"
    }
   ],
   "source": [
    "y_pred_this_month = clf.predict(X_this_month)\n",
    "y_pred_this_month"
   ]
  },
  {
   "cell_type": "code",
   "execution_count": 44,
   "id": "9871efc0-bb9d-4795-ab73-7b9853e9018a",
   "metadata": {},
   "outputs": [
    {
     "data": {
      "text/plain": [
       "array([1, 0, 0, 0, 0, 1, 1, 1, 1, 1, 0, 0])"
      ]
     },
     "execution_count": 44,
     "metadata": {},
     "output_type": "execute_result"
    }
   ],
   "source": [
    "y_pred_this_year = clf.predict(X_this_year)\n",
    "y_pred_this_year"
   ]
  },
  {
   "cell_type": "markdown",
   "id": "bde94ecc-5915-47be-ae90-b1ee97e49c8a",
   "metadata": {
    "jp-MarkdownHeadingCollapsed": true,
    "tags": []
   },
   "source": [
    "### Viz the tree"
   ]
  },
  {
   "cell_type": "code",
   "execution_count": 45,
   "id": "97f71a6e-5728-48bb-b4e4-0160bade37d5",
   "metadata": {},
   "outputs": [],
   "source": [
    "# from sklearn.tree import export_graphviz\n",
    "# from sklearn.externals.six import StringIO  \n",
    "# from IPython.display import Image  \n",
    "# import pydotplus\n",
    "\n",
    "# dot_data = StringIO()\n",
    "# export_graphviz(clf, out_file=dot_data,  \n",
    "#                 filled=True, rounded=True,\n",
    "#                 special_characters=True,feature_names = features,class_names=['3','4','5'])\n",
    "# graph = pydotplus.graph_from_dot_data(dot_data.getvalue())  \n",
    "# graph.write_png('diabetes.png')\n",
    "# Image(graph.create_png())"
   ]
  },
  {
   "cell_type": "markdown",
   "id": "8ee82aed-3782-4545-b0d9-da5c77aa1801",
   "metadata": {},
   "source": [
    "### Grid search for the tree"
   ]
  },
  {
   "cell_type": "code",
   "execution_count": 46,
   "id": "60279103-263f-4764-a7ac-53af12bdfdbd",
   "metadata": {},
   "outputs": [],
   "source": [
    "from sklearn.model_selection import RandomizedSearchCV\n",
    "from sklearn.pipeline import Pipeline\n",
    "from sklearn.metrics import classification_report"
   ]
  },
  {
   "cell_type": "code",
   "execution_count": 47,
   "id": "df3bbc2a-97c7-4f54-b680-f429ded30351",
   "metadata": {},
   "outputs": [],
   "source": [
    "# hyperparameter tuning\n",
    "def grid_search():\n",
    "    param_grid = {\n",
    "        'max_depth': [2,3,4],\n",
    "        'min_samples_leaf': [3 , 8 ,10],\n",
    "        'class_weight': [\n",
    "                         {0: 3, 1:1},\n",
    "                         {0: 2, 1:3},\n",
    "                         {0: 7, 1:5}\n",
    "                        ]\n",
    "    }\n",
    "    \n",
    "    clf = tree.DecisionTreeClassifier(random_state=5)\n",
    "    search = RandomizedSearchCV(clf, param_grid, cv=5, n_jobs=-1, verbose=3)\n",
    "    search.fit(X_train,y_classificated_train)\n",
    "\n",
    "    print(\"Best parameter (CV score=%0.3f):\" % search.best_score_)\n",
    "    print(search.best_params_)"
   ]
  },
  {
   "cell_type": "code",
   "execution_count": 48,
   "id": "20ef412f-1264-4fe4-8e25-d622f61004db",
   "metadata": {},
   "outputs": [
    {
     "name": "stdout",
     "output_type": "stream",
     "text": [
      "Fitting 5 folds for each of 10 candidates, totalling 50 fits\n",
      "Best parameter (CV score=0.688):\n",
      "{'min_samples_leaf': 8, 'max_depth': 2, 'class_weight': {0: 7, 1: 5}}\n"
     ]
    }
   ],
   "source": [
    "start = time.time()\n",
    "\n",
    "grid_search()\n",
    "\n",
    "end = time.time()\n",
    "# print('execution time in minutes: ', (end - start)/60) "
   ]
  },
  {
   "cell_type": "code",
   "execution_count": 97,
   "id": "d4bd4ce4-6e4e-4bff-8825-7ab58834faf5",
   "metadata": {},
   "outputs": [
    {
     "name": "stdout",
     "output_type": "stream",
     "text": [
      "Accuracy: 0.75\n"
     ]
    }
   ],
   "source": [
    "clf = tree.DecisionTreeClassifier(random_state=4, max_depth=2, min_samples_leaf=8, class_weight={0: 7, 1: 3})\n",
    "clf.fit(X_train,y_classificated_train)\n",
    "y_pred = clf.predict(X_test)\n",
    "precision_tree = metrics.precision_score(y_classificated_test, y_pred, average=None)\n",
    "recall_tree = metrics.recall_score(y_classificated_test, y_pred, average=None)\n",
    "print(\"Accuracy:\",metrics.accuracy_score(y_classificated_test, y_pred))"
   ]
  },
  {
   "cell_type": "code",
   "execution_count": 98,
   "id": "97739a35-89cc-4923-a389-75d4754979db",
   "metadata": {},
   "outputs": [
    {
     "name": "stdout",
     "output_type": "stream",
     "text": [
      "Accuracy: 0.75\n"
     ]
    }
   ],
   "source": [
    "from sklearn import metrics\n",
    "print(\"Accuracy:\",metrics.accuracy_score(y_classificated_test, y_pred))"
   ]
  },
  {
   "cell_type": "code",
   "execution_count": 99,
   "id": "1127687b-c29c-4f21-8383-b421fd10b11f",
   "metadata": {},
   "outputs": [
    {
     "data": {
      "text/plain": [
       "array([0.5       , 0.96153846])"
      ]
     },
     "execution_count": 99,
     "metadata": {},
     "output_type": "execute_result"
    }
   ],
   "source": [
    "precision_tree"
   ]
  },
  {
   "cell_type": "code",
   "execution_count": 100,
   "id": "4fff477f-c69a-4483-841f-2d92174ec2a9",
   "metadata": {},
   "outputs": [
    {
     "data": {
      "text/plain": [
       "array([0.91666667, 0.69444444])"
      ]
     },
     "execution_count": 100,
     "metadata": {},
     "output_type": "execute_result"
    }
   ],
   "source": [
    "recall_tree"
   ]
  },
  {
   "cell_type": "code",
   "execution_count": 101,
   "id": "79216efb-0fe5-4683-9eb9-3235ec57bf2b",
   "metadata": {},
   "outputs": [],
   "source": [
    "y_pred = clf.predict(X_test)"
   ]
  },
  {
   "cell_type": "code",
   "execution_count": 102,
   "id": "7e15aaf4-e242-49cd-be45-28c9317c290a",
   "metadata": {},
   "outputs": [
    {
     "data": {
      "text/plain": [
       "array([1, 0, 1, 1, 1, 1, 1, 1, 1, 1, 1, 1, 1, 1, 1, 1, 1, 1, 1, 1, 1, 1,\n",
       "       1, 1, 1, 1, 1, 0, 0, 0, 0, 0, 0, 0, 0, 0, 0, 0, 1, 1, 1, 1, 1, 1,\n",
       "       1, 1, 1, 1])"
      ]
     },
     "execution_count": 102,
     "metadata": {},
     "output_type": "execute_result"
    }
   ],
   "source": [
    "y_classificated_test"
   ]
  },
  {
   "cell_type": "code",
   "execution_count": 103,
   "id": "a1b03b1a-a914-4c28-a4d0-fe8dc6c41f48",
   "metadata": {},
   "outputs": [
    {
     "data": {
      "text/plain": [
       "array([1, 1, 1, 1, 1, 1, 1, 1, 1, 1, 1, 1, 1, 1, 1, 1, 1, 1, 1, 1, 1, 1,\n",
       "       1, 1, 1, 1, 0, 0, 0, 0, 0, 0, 0, 0, 0, 0, 0, 0, 0, 0, 0, 0, 0, 0,\n",
       "       0, 0, 0, 0])"
      ]
     },
     "execution_count": 103,
     "metadata": {},
     "output_type": "execute_result"
    }
   ],
   "source": [
    "y_pred"
   ]
  },
  {
   "cell_type": "code",
   "execution_count": 104,
   "id": "72eca27d-5dca-4a2c-bac2-80bec28642e2",
   "metadata": {},
   "outputs": [
    {
     "data": {
      "text/plain": [
       "array([0, 0, 0, 0, 0, 0, 0, 0, 0, 0, 0, 0])"
      ]
     },
     "execution_count": 104,
     "metadata": {},
     "output_type": "execute_result"
    }
   ],
   "source": [
    "y_pred_this_year = clf.predict(X_this_year)\n",
    "y_pred_this_year"
   ]
  },
  {
   "cell_type": "markdown",
   "id": "a7b61ede-ab8d-425e-b3f3-fed55dbbad1d",
   "metadata": {},
   "source": [
    "# RandomForestClassifier"
   ]
  },
  {
   "cell_type": "code",
   "execution_count": 57,
   "id": "1d1c1011-f090-4849-8e6f-50a3ec85405f",
   "metadata": {},
   "outputs": [],
   "source": [
    "from sklearn.ensemble import RandomForestClassifier"
   ]
  },
  {
   "cell_type": "code",
   "execution_count": 58,
   "id": "dc4e6dcb-05fa-46dd-bb1b-a455415fccf8",
   "metadata": {},
   "outputs": [],
   "source": [
    "pipline = Pipeline(steps=[\n",
    "    ('model', RandomForestClassifier())\n",
    "])"
   ]
  },
  {
   "cell_type": "markdown",
   "id": "ff7c5278-de59-43b5-92a3-72fe8419234b",
   "metadata": {},
   "source": [
    "Possible scorings: https://scikit-learn.org/stable/modules/model_evaluation.html#scoring-parameter"
   ]
  },
  {
   "cell_type": "code",
   "execution_count": 59,
   "id": "ad055dfa-890e-4e70-a305-4308f825c0a7",
   "metadata": {},
   "outputs": [],
   "source": [
    "# hyperparameter tuning\n",
    "def grid_search():\n",
    "    param_grid = {\n",
    "        'model__n_estimators': n_estimators,\n",
    "        'model__max_features': max_features,\n",
    "        'model__max_depth': max_depth,\n",
    "        'model__min_samples_split': min_samples_split,\n",
    "        'model__min_samples_leaf': min_samples_leaf,\n",
    "        'model__bootstrap': bootstrap\n",
    "    }\n",
    "    global search\n",
    "    global scoring\n",
    "    scoring = 'f1_macro'\n",
    "    # scoring = 'recall'\n",
    "    # scoring = 'precision'\n",
    "    search = RandomizedSearchCV(pipline, param_grid, cv=5, n_jobs=-1, verbose=3, scoring=scoring)\n",
    "    search.fit(X_train,y_classificated_train)\n",
    "\n",
    "    print(\"Best parameter (CV score=%0.3f):\" % search.best_score_)\n",
    "    print(search.best_params_)"
   ]
  },
  {
   "cell_type": "code",
   "execution_count": 60,
   "id": "080a7e71-dbc2-44d3-8f41-03f070313361",
   "metadata": {},
   "outputs": [
    {
     "name": "stdout",
     "output_type": "stream",
     "text": [
      "Fitting 5 folds for each of 10 candidates, totalling 50 fits\n",
      "Best parameter (CV score=0.473):\n",
      "{'model__n_estimators': 71, 'model__min_samples_split': 8, 'model__min_samples_leaf': 2, 'model__max_features': 'sqrt', 'model__max_depth': 4, 'model__bootstrap': False}\n",
      "execution time in minutes:  0.024211319287618\n"
     ]
    },
    {
     "name": "stderr",
     "output_type": "stream",
     "text": [
      "/Users/kiril/anaconda3/envs/NTC_main/lib/python3.9/site-packages/sklearn/model_selection/_validation.py:425: FitFailedWarning: \n",
      "20 fits failed out of a total of 50.\n",
      "The score on these train-test partitions for these parameters will be set to nan.\n",
      "If these failures are not expected, you can try to debug them by setting error_score='raise'.\n",
      "\n",
      "Below are more details about the failures:\n",
      "--------------------------------------------------------------------------------\n",
      "16 fits failed with the following error:\n",
      "Traceback (most recent call last):\n",
      "  File \"/Users/kiril/anaconda3/envs/NTC_main/lib/python3.9/site-packages/sklearn/model_selection/_validation.py\", line 729, in _fit_and_score\n",
      "    estimator.fit(X_train, y_train, **fit_params)\n",
      "  File \"/Users/kiril/anaconda3/envs/NTC_main/lib/python3.9/site-packages/sklearn/base.py\", line 1152, in wrapper\n",
      "    return fit_method(estimator, *args, **kwargs)\n",
      "  File \"/Users/kiril/anaconda3/envs/NTC_main/lib/python3.9/site-packages/sklearn/pipeline.py\", line 427, in fit\n",
      "    self._final_estimator.fit(Xt, y, **fit_params_last_step)\n",
      "  File \"/Users/kiril/anaconda3/envs/NTC_main/lib/python3.9/site-packages/sklearn/base.py\", line 1145, in wrapper\n",
      "    estimator._validate_params()\n",
      "  File \"/Users/kiril/anaconda3/envs/NTC_main/lib/python3.9/site-packages/sklearn/base.py\", line 638, in _validate_params\n",
      "    validate_parameter_constraints(\n",
      "  File \"/Users/kiril/anaconda3/envs/NTC_main/lib/python3.9/site-packages/sklearn/utils/_param_validation.py\", line 96, in validate_parameter_constraints\n",
      "    raise InvalidParameterError(\n",
      "sklearn.utils._param_validation.InvalidParameterError: The 'max_features' parameter of RandomForestClassifier must be an int in the range [1, inf), a float in the range (0.0, 1.0], a str among {'sqrt', 'log2'} or None. Got 'auto' instead.\n",
      "\n",
      "--------------------------------------------------------------------------------\n",
      "4 fits failed with the following error:\n",
      "Traceback (most recent call last):\n",
      "  File \"/Users/kiril/anaconda3/envs/NTC_main/lib/python3.9/site-packages/sklearn/model_selection/_validation.py\", line 729, in _fit_and_score\n",
      "    estimator.fit(X_train, y_train, **fit_params)\n",
      "  File \"/Users/kiril/anaconda3/envs/NTC_main/lib/python3.9/site-packages/sklearn/base.py\", line 1152, in wrapper\n",
      "    return fit_method(estimator, *args, **kwargs)\n",
      "  File \"/Users/kiril/anaconda3/envs/NTC_main/lib/python3.9/site-packages/sklearn/pipeline.py\", line 427, in fit\n",
      "    self._final_estimator.fit(Xt, y, **fit_params_last_step)\n",
      "  File \"/Users/kiril/anaconda3/envs/NTC_main/lib/python3.9/site-packages/sklearn/base.py\", line 1145, in wrapper\n",
      "    estimator._validate_params()\n",
      "  File \"/Users/kiril/anaconda3/envs/NTC_main/lib/python3.9/site-packages/sklearn/base.py\", line 638, in _validate_params\n",
      "    validate_parameter_constraints(\n",
      "  File \"/Users/kiril/anaconda3/envs/NTC_main/lib/python3.9/site-packages/sklearn/utils/_param_validation.py\", line 96, in validate_parameter_constraints\n",
      "    raise InvalidParameterError(\n",
      "sklearn.utils._param_validation.InvalidParameterError: The 'max_features' parameter of RandomForestClassifier must be an int in the range [1, inf), a float in the range (0.0, 1.0], a str among {'log2', 'sqrt'} or None. Got 'auto' instead.\n",
      "\n",
      "  warnings.warn(some_fits_failed_message, FitFailedWarning)\n",
      "/Users/kiril/anaconda3/envs/NTC_main/lib/python3.9/site-packages/sklearn/model_selection/_search.py:979: UserWarning: One or more of the test scores are non-finite: [       nan 0.47296672        nan        nan 0.40834988 0.40713988\n",
      "        nan 0.40772328 0.40325718 0.41745109]\n",
      "  warnings.warn(\n"
     ]
    }
   ],
   "source": [
    "start = time.time()\n",
    "\n",
    "grid_search()\n",
    "\n",
    "end = time.time()\n",
    "print('execution time in minutes: ', (end - start)/60)"
   ]
  },
  {
   "cell_type": "code",
   "execution_count": 61,
   "id": "24d02def-bb63-4923-9aa4-4d091779cca1",
   "metadata": {},
   "outputs": [
    {
     "data": {
      "text/html": [
       "<div>\n",
       "<style scoped>\n",
       "    .dataframe tbody tr th:only-of-type {\n",
       "        vertical-align: middle;\n",
       "    }\n",
       "\n",
       "    .dataframe tbody tr th {\n",
       "        vertical-align: top;\n",
       "    }\n",
       "\n",
       "    .dataframe thead th {\n",
       "        text-align: right;\n",
       "    }\n",
       "</style>\n",
       "<table border=\"1\" class=\"dataframe\">\n",
       "  <thead>\n",
       "    <tr style=\"text-align: right;\">\n",
       "      <th></th>\n",
       "      <th>model__n_estimators</th>\n",
       "      <th>model__min_samples_split</th>\n",
       "      <th>model__min_samples_leaf</th>\n",
       "      <th>model__max_features</th>\n",
       "      <th>model__max_depth</th>\n",
       "      <th>model__bootstrap</th>\n",
       "    </tr>\n",
       "  </thead>\n",
       "  <tbody>\n",
       "    <tr>\n",
       "      <th>0</th>\n",
       "      <td>71</td>\n",
       "      <td>8</td>\n",
       "      <td>2</td>\n",
       "      <td>sqrt</td>\n",
       "      <td>4</td>\n",
       "      <td>False</td>\n",
       "    </tr>\n",
       "  </tbody>\n",
       "</table>\n",
       "</div>"
      ],
      "text/plain": [
       "   model__n_estimators  model__min_samples_split  model__min_samples_leaf  \\\n",
       "0                   71                         8                        2   \n",
       "\n",
       "  model__max_features  model__max_depth  model__bootstrap  \n",
       "0                sqrt                 4             False  "
      ]
     },
     "execution_count": 61,
     "metadata": {},
     "output_type": "execute_result"
    }
   ],
   "source": [
    "optimal_parameters = search.best_params_.copy()\n",
    "optimal_parameters = pd.DataFrame([optimal_parameters])\n",
    "optimal_parameters"
   ]
  },
  {
   "cell_type": "code",
   "execution_count": 62,
   "id": "8ad68d56-3802-4924-8a86-be3c698abf91",
   "metadata": {},
   "outputs": [
    {
     "data": {
      "text/html": [
       "<style>#sk-container-id-2 {color: black;}#sk-container-id-2 pre{padding: 0;}#sk-container-id-2 div.sk-toggleable {background-color: white;}#sk-container-id-2 label.sk-toggleable__label {cursor: pointer;display: block;width: 100%;margin-bottom: 0;padding: 0.3em;box-sizing: border-box;text-align: center;}#sk-container-id-2 label.sk-toggleable__label-arrow:before {content: \"▸\";float: left;margin-right: 0.25em;color: #696969;}#sk-container-id-2 label.sk-toggleable__label-arrow:hover:before {color: black;}#sk-container-id-2 div.sk-estimator:hover label.sk-toggleable__label-arrow:before {color: black;}#sk-container-id-2 div.sk-toggleable__content {max-height: 0;max-width: 0;overflow: hidden;text-align: left;background-color: #f0f8ff;}#sk-container-id-2 div.sk-toggleable__content pre {margin: 0.2em;color: black;border-radius: 0.25em;background-color: #f0f8ff;}#sk-container-id-2 input.sk-toggleable__control:checked~div.sk-toggleable__content {max-height: 200px;max-width: 100%;overflow: auto;}#sk-container-id-2 input.sk-toggleable__control:checked~label.sk-toggleable__label-arrow:before {content: \"▾\";}#sk-container-id-2 div.sk-estimator input.sk-toggleable__control:checked~label.sk-toggleable__label {background-color: #d4ebff;}#sk-container-id-2 div.sk-label input.sk-toggleable__control:checked~label.sk-toggleable__label {background-color: #d4ebff;}#sk-container-id-2 input.sk-hidden--visually {border: 0;clip: rect(1px 1px 1px 1px);clip: rect(1px, 1px, 1px, 1px);height: 1px;margin: -1px;overflow: hidden;padding: 0;position: absolute;width: 1px;}#sk-container-id-2 div.sk-estimator {font-family: monospace;background-color: #f0f8ff;border: 1px dotted black;border-radius: 0.25em;box-sizing: border-box;margin-bottom: 0.5em;}#sk-container-id-2 div.sk-estimator:hover {background-color: #d4ebff;}#sk-container-id-2 div.sk-parallel-item::after {content: \"\";width: 100%;border-bottom: 1px solid gray;flex-grow: 1;}#sk-container-id-2 div.sk-label:hover label.sk-toggleable__label {background-color: #d4ebff;}#sk-container-id-2 div.sk-serial::before {content: \"\";position: absolute;border-left: 1px solid gray;box-sizing: border-box;top: 0;bottom: 0;left: 50%;z-index: 0;}#sk-container-id-2 div.sk-serial {display: flex;flex-direction: column;align-items: center;background-color: white;padding-right: 0.2em;padding-left: 0.2em;position: relative;}#sk-container-id-2 div.sk-item {position: relative;z-index: 1;}#sk-container-id-2 div.sk-parallel {display: flex;align-items: stretch;justify-content: center;background-color: white;position: relative;}#sk-container-id-2 div.sk-item::before, #sk-container-id-2 div.sk-parallel-item::before {content: \"\";position: absolute;border-left: 1px solid gray;box-sizing: border-box;top: 0;bottom: 0;left: 50%;z-index: -1;}#sk-container-id-2 div.sk-parallel-item {display: flex;flex-direction: column;z-index: 1;position: relative;background-color: white;}#sk-container-id-2 div.sk-parallel-item:first-child::after {align-self: flex-end;width: 50%;}#sk-container-id-2 div.sk-parallel-item:last-child::after {align-self: flex-start;width: 50%;}#sk-container-id-2 div.sk-parallel-item:only-child::after {width: 0;}#sk-container-id-2 div.sk-dashed-wrapped {border: 1px dashed gray;margin: 0 0.4em 0.5em 0.4em;box-sizing: border-box;padding-bottom: 0.4em;background-color: white;}#sk-container-id-2 div.sk-label label {font-family: monospace;font-weight: bold;display: inline-block;line-height: 1.2em;}#sk-container-id-2 div.sk-label-container {text-align: center;}#sk-container-id-2 div.sk-container {/* jupyter's `normalize.less` sets `[hidden] { display: none; }` but bootstrap.min.css set `[hidden] { display: none !important; }` so we also need the `!important` here to be able to override the default hidden behavior on the sphinx rendered scikit-learn.org. See: https://github.com/scikit-learn/scikit-learn/issues/21755 */display: inline-block !important;position: relative;}#sk-container-id-2 div.sk-text-repr-fallback {display: none;}</style><div id=\"sk-container-id-2\" class=\"sk-top-container\"><div class=\"sk-text-repr-fallback\"><pre>RandomForestClassifier(bootstrap=False, max_depth=4, min_samples_leaf=2,\n",
       "                       min_samples_split=8, n_estimators=71)</pre><b>In a Jupyter environment, please rerun this cell to show the HTML representation or trust the notebook. <br />On GitHub, the HTML representation is unable to render, please try loading this page with nbviewer.org.</b></div><div class=\"sk-container\" hidden><div class=\"sk-item\"><div class=\"sk-estimator sk-toggleable\"><input class=\"sk-toggleable__control sk-hidden--visually\" id=\"sk-estimator-id-2\" type=\"checkbox\" checked><label for=\"sk-estimator-id-2\" class=\"sk-toggleable__label sk-toggleable__label-arrow\">RandomForestClassifier</label><div class=\"sk-toggleable__content\"><pre>RandomForestClassifier(bootstrap=False, max_depth=4, min_samples_leaf=2,\n",
       "                       min_samples_split=8, n_estimators=71)</pre></div></div></div></div></div>"
      ],
      "text/plain": [
       "RandomForestClassifier(bootstrap=False, max_depth=4, min_samples_leaf=2,\n",
       "                       min_samples_split=8, n_estimators=71)"
      ]
     },
     "execution_count": 62,
     "metadata": {},
     "output_type": "execute_result"
    }
   ],
   "source": [
    "rf = RandomForestClassifier(n_estimators=optimal_parameters['model__n_estimators'][0],\n",
    "                            min_samples_split=optimal_parameters['model__min_samples_split'][0],\n",
    "                            min_samples_leaf=optimal_parameters['model__min_samples_leaf'][0],\n",
    "                            max_features=optimal_parameters['model__max_features'][0],\n",
    "                            max_depth=optimal_parameters['model__max_depth'][0],\n",
    "                            bootstrap=optimal_parameters['model__bootstrap'][0])\n",
    "rf.fit(X_train,y_classificated_train)"
   ]
  },
  {
   "cell_type": "code",
   "execution_count": 63,
   "id": "ad7df697",
   "metadata": {},
   "outputs": [],
   "source": [
    "y_pred = rf.predict(X_test)\n",
    "precision_rf = metrics.precision_score(y_classificated_test, y_pred, average=None).round(3)\n",
    "recall_rf = metrics.recall_score(y_classificated_test, y_pred, average=None).round(3)"
   ]
  },
  {
   "cell_type": "code",
   "execution_count": 64,
   "id": "af12f924",
   "metadata": {},
   "outputs": [
    {
     "name": "stdout",
     "output_type": "stream",
     "text": [
      "Accuracy: 0.8125\n"
     ]
    }
   ],
   "source": [
    "print(\"Accuracy:\",metrics.accuracy_score(y_classificated_test, y_pred))"
   ]
  },
  {
   "cell_type": "code",
   "execution_count": 65,
   "id": "ca1bb1a7",
   "metadata": {},
   "outputs": [
    {
     "data": {
      "text/plain": [
       "array([1, 1, 1, 1, 1, 1, 1, 1, 1, 1, 1, 1, 1, 1, 1, 1, 0, 0, 1, 1, 0, 1,\n",
       "       1, 1, 1, 0, 0, 0, 0, 0, 0, 0, 0, 0, 0, 0, 0, 0, 0, 0, 1, 0, 1, 1,\n",
       "       1, 1, 1, 1])"
      ]
     },
     "execution_count": 65,
     "metadata": {},
     "output_type": "execute_result"
    }
   ],
   "source": [
    "y_pred"
   ]
  },
  {
   "cell_type": "code",
   "execution_count": 66,
   "id": "1dcc5e60",
   "metadata": {},
   "outputs": [
    {
     "data": {
      "text/plain": [
       "array([1, 0, 1, 1, 1, 1, 1, 1, 1, 1, 1, 1, 1, 1, 1, 1, 1, 1, 1, 1, 1, 1,\n",
       "       1, 1, 1, 1, 1, 0, 0, 0, 0, 0, 0, 0, 0, 0, 0, 0, 1, 1, 1, 1, 1, 1,\n",
       "       1, 1, 1, 1])"
      ]
     },
     "execution_count": 66,
     "metadata": {},
     "output_type": "execute_result"
    }
   ],
   "source": [
    "y_classificated_test"
   ]
  },
  {
   "cell_type": "code",
   "execution_count": 67,
   "id": "bc11755f-523a-476a-b05e-855428b31466",
   "metadata": {},
   "outputs": [
    {
     "data": {
      "text/plain": [
       "array([0.579, 0.966])"
      ]
     },
     "execution_count": 67,
     "metadata": {},
     "output_type": "execute_result"
    }
   ],
   "source": [
    "precision_rf"
   ]
  },
  {
   "cell_type": "code",
   "execution_count": 68,
   "id": "799c0e05-60c0-4329-9acc-255e39116231",
   "metadata": {},
   "outputs": [
    {
     "data": {
      "text/plain": [
       "array([0.917, 0.778])"
      ]
     },
     "execution_count": 68,
     "metadata": {},
     "output_type": "execute_result"
    }
   ],
   "source": [
    "recall_rf"
   ]
  },
  {
   "cell_type": "markdown",
   "id": "792d89de",
   "metadata": {},
   "source": [
    "### This month"
   ]
  },
  {
   "cell_type": "code",
   "execution_count": 69,
   "id": "5cc8968a",
   "metadata": {},
   "outputs": [
    {
     "data": {
      "text/plain": [
       "array([0])"
      ]
     },
     "execution_count": 69,
     "metadata": {},
     "output_type": "execute_result"
    }
   ],
   "source": [
    "y_pred_this_month = rf.predict(X_this_month)\n",
    "y_pred_this_month"
   ]
  },
  {
   "cell_type": "code",
   "execution_count": 70,
   "id": "1291f930-3c65-4574-ad33-71bbf90d7d52",
   "metadata": {},
   "outputs": [
    {
     "data": {
      "text/plain": [
       "array([1, 1, 1, 1, 1, 1, 1, 1, 1, 1, 0, 0])"
      ]
     },
     "execution_count": 70,
     "metadata": {},
     "output_type": "execute_result"
    }
   ],
   "source": [
    "y_pred_this_year = rf.predict(X_this_year)\n",
    "y_pred_this_year"
   ]
  },
  {
   "cell_type": "markdown",
   "id": "4c989b5c",
   "metadata": {
    "jp-MarkdownHeadingCollapsed": true,
    "tags": []
   },
   "source": [
    "### Results"
   ]
  },
  {
   "cell_type": "code",
   "execution_count": 71,
   "id": "d59398fd-4b03-4349-8071-8c5d8bb65fe2",
   "metadata": {},
   "outputs": [],
   "source": [
    "# rf_results = search.best_params_.copy()\n",
    "# rf_results.update({'days for test' : days_for_test,\n",
    "#                    'Regression R^2 of train' : r_sqr_train,\n",
    "#                    'Regression R^2 of test' : r_sqr_test,\n",
    "#                    'Tree_precision' : precision_tree,\n",
    "#                    'Tree_recall' : recall_tree,\n",
    "#                     'Forest_Scoring' : scoring,\n",
    "#                     'Forest_Precision' : precision_rf,\n",
    "#                    'Forest_Recall' : recall_rf,\n",
    "#                     'Forest_Target' : target,\n",
    "#                     'Range' : (increase),\n",
    "#                      'Forest_y_pred' : y_pred,\n",
    "#                      'Forest_y_test' : y_classificated_test,\n",
    "#                        'features' : features,\n",
    "#                       'A forecast for the next year' : y_pred_this_month})"
   ]
  },
  {
   "cell_type": "code",
   "execution_count": 72,
   "id": "3bb31d30-b403-45e9-b5c5-bb3297c1acc9",
   "metadata": {},
   "outputs": [],
   "source": [
    "# current_rf_results = pd.DataFrame([rf_results])\n",
    "# current_rf_results"
   ]
  },
  {
   "cell_type": "code",
   "execution_count": 73,
   "id": "0784e0d7",
   "metadata": {},
   "outputs": [],
   "source": [
    "# only one time\n",
    "# current_rf_results.to_csv('rf_results.csv', index= False)"
   ]
  },
  {
   "cell_type": "code",
   "execution_count": 74,
   "id": "b60f3e1c-e214-4fb7-b0c6-695043d4b66a",
   "metadata": {},
   "outputs": [],
   "source": [
    "# past_rf_results = pd.read_csv(\"rf_results.csv\")\n",
    "# past_rf_results"
   ]
  },
  {
   "cell_type": "code",
   "execution_count": 75,
   "id": "f1d0382e-3dab-4222-a971-db3f086e30c1",
   "metadata": {},
   "outputs": [],
   "source": [
    "# pd.concat([past_rf_results, current_rf_results], ignore_index=True).to_csv(\"./rf_results.csv\", index= False)"
   ]
  },
  {
   "cell_type": "code",
   "execution_count": 76,
   "id": "0ce53c3f-7b8f-40a8-b13b-760c7c72948b",
   "metadata": {},
   "outputs": [],
   "source": [
    "# pd.read_csv(\"rf_results.csv\")"
   ]
  },
  {
   "cell_type": "markdown",
   "id": "ad85e951-12d3-4b4e-bee0-00e3c4cb909f",
   "metadata": {},
   "source": [
    "# XGBOOST"
   ]
  },
  {
   "cell_type": "markdown",
   "id": "a8be7574-0b99-430e-84d2-c0c24b943778",
   "metadata": {},
   "source": [
    "### random example"
   ]
  },
  {
   "cell_type": "code",
   "execution_count": 77,
   "id": "efa13e0a-d8a2-4305-ad21-b015753f5d48",
   "metadata": {
    "jupyter": {
     "source_hidden": true
    },
    "tags": []
   },
   "outputs": [],
   "source": [
    "# # Import packages\n",
    "# import pandas as pd\n",
    "# from sklearn.preprocessing import LabelEncoder          \n",
    "# from sklearn.model_selection import train_test_split  \n",
    "# import matplotlib.pyplot as plt \n",
    "# import numpy as np\n",
    "# import xgboost as xgb\n",
    "\n",
    "# # Read data\n",
    "# url = 'https://raw.githubusercontent.com/datasciencedojo/datasets/master/titanic.csv'\n",
    "# data = pd.read_csv(url)\n",
    "\n",
    "# # Check missing values\n",
    "# data.isnull().sum()\n",
    "# # Drop columns with too many missing values\n",
    "# data.drop('Cabin', axis=1, inplace=True)\n",
    "# # Drop data with missing values \n",
    "# data.dropna(inplace=True)\n",
    "\n",
    "# # Inspect data\n",
    "# data.head()\n",
    "# # Transfrom attribute\n",
    "# le = LabelEncoder()\n",
    "# data['Sex'] = le.fit_transform(data['Sex'])\n",
    "\n",
    "# # Decide variables to use\n",
    "# X = data[['Pclass', 'Sex', 'Age', 'SibSp', 'Parch', 'Fare']]\n",
    "# y = data['Survived']\n",
    "\n",
    "# # train/test split (80/20)\n",
    "# x_train, x_test, y_train, y_test = train_test_split(X, y, test_size=0.2, random_state=65)\n",
    "\n",
    "# # XGBoost (different learning rate)\n",
    "# learning_rate_range = np.arange(0.01, 1, 0.05)\n",
    "# test_XG = [] \n",
    "# train_XG = []\n",
    "# for lr in learning_rate_range:\n",
    "#     xgb_classifier = xgb.XGBClassifier(eta = lr)\n",
    "#     xgb_classifier.fit(x_train, y_train)\n",
    "#     train_XG.append(xgb_classifier.score(x_train, y_train))\n",
    "#     test_XG.append(xgb_classifier.score(x_test, y_test))\n",
    "# # Line plot\n",
    "# fig = plt.figure(figsize=(10, 7))\n",
    "# plt.plot(learning_rate_range, train_XG, c='orange', label='Train')\n",
    "# plt.plot(learning_rate_range, test_XG, c='m', label='Test')\n",
    "# plt.xlabel('Learning rate')\n",
    "# plt.xticks(learning_rate_range)\n",
    "# plt.ylabel('Accuracy score')\n",
    "# plt.ylim(0.6, 1)\n",
    "# plt.legend(prop={'size': 12}, loc=3)\n",
    "# plt.title('Accuracy score vs. Learning rate of XGBoost', size=14)\n",
    "# plt.show()\n",
    "\n",
    "# # Resolve overfitting \n",
    "# # new learning rate range\n",
    "# learning_rate_range = np.arange(0.01, 0.5, 0.05)\n",
    "# fig = plt.figure(figsize=(19, 17))\n",
    "# idx = 1\n",
    "# # grid search for min_child_weight\n",
    "# for weight in np.arange(0, 4.5, 0.5):\n",
    "#     train = []\n",
    "#     test = []\n",
    "#     for lr in learning_rate_range:\n",
    "#         xgb_classifier = xgb.XGBClassifier(eta = lr, reg_lambda=1, min_child_weight=weight)\n",
    "#         xgb_classifier.fit(x_train, y_train)\n",
    "#         train.append(xgb_classifier.score(x_train, y_train))\n",
    "#         test.append(xgb_classifier.score(x_test, y_test))\n",
    "#     fig.add_subplot(3, 3, idx)\n",
    "#     idx += 1\n",
    "#     plt.plot(learning_rate_range, train, c='orange', label='Training')\n",
    "#     plt.plot(learning_rate_range, test, c='m', label='Testing')\n",
    "#     plt.xlabel('Learning rate')\n",
    "#     plt.xticks(learning_rate_range)\n",
    "#     plt.ylabel('Accuracy score')\n",
    "#     plt.ylim(0.6, 1)\n",
    "#     plt.legend(prop={'size': 12}, loc=3)\n",
    "#     title = \"Min child weight:\" + str(weight)\n",
    "#     plt.title(title, size=16)\n",
    "# plt.show()"
   ]
  },
  {
   "cell_type": "markdown",
   "id": "c5d44c60-56a4-4061-aca5-20b50a2b529a",
   "metadata": {},
   "source": [
    "### model"
   ]
  },
  {
   "cell_type": "code",
   "execution_count": 78,
   "id": "b3e2aa50-a831-4d16-82cb-a09723c95674",
   "metadata": {},
   "outputs": [],
   "source": [
    "import xgboost as xgb"
   ]
  },
  {
   "cell_type": "code",
   "execution_count": 79,
   "id": "dc48628c-5473-4381-a05f-4661c55b5878",
   "metadata": {},
   "outputs": [],
   "source": [
    "model = xgb.XGBClassifier(objective='binary:logistic', random_state=42)"
   ]
  },
  {
   "cell_type": "code",
   "execution_count": 80,
   "id": "502651fd-6b4c-48ec-933f-b84ea60923e1",
   "metadata": {},
   "outputs": [
    {
     "data": {
      "text/html": [
       "<style>#sk-container-id-3 {color: black;}#sk-container-id-3 pre{padding: 0;}#sk-container-id-3 div.sk-toggleable {background-color: white;}#sk-container-id-3 label.sk-toggleable__label {cursor: pointer;display: block;width: 100%;margin-bottom: 0;padding: 0.3em;box-sizing: border-box;text-align: center;}#sk-container-id-3 label.sk-toggleable__label-arrow:before {content: \"▸\";float: left;margin-right: 0.25em;color: #696969;}#sk-container-id-3 label.sk-toggleable__label-arrow:hover:before {color: black;}#sk-container-id-3 div.sk-estimator:hover label.sk-toggleable__label-arrow:before {color: black;}#sk-container-id-3 div.sk-toggleable__content {max-height: 0;max-width: 0;overflow: hidden;text-align: left;background-color: #f0f8ff;}#sk-container-id-3 div.sk-toggleable__content pre {margin: 0.2em;color: black;border-radius: 0.25em;background-color: #f0f8ff;}#sk-container-id-3 input.sk-toggleable__control:checked~div.sk-toggleable__content {max-height: 200px;max-width: 100%;overflow: auto;}#sk-container-id-3 input.sk-toggleable__control:checked~label.sk-toggleable__label-arrow:before {content: \"▾\";}#sk-container-id-3 div.sk-estimator input.sk-toggleable__control:checked~label.sk-toggleable__label {background-color: #d4ebff;}#sk-container-id-3 div.sk-label input.sk-toggleable__control:checked~label.sk-toggleable__label {background-color: #d4ebff;}#sk-container-id-3 input.sk-hidden--visually {border: 0;clip: rect(1px 1px 1px 1px);clip: rect(1px, 1px, 1px, 1px);height: 1px;margin: -1px;overflow: hidden;padding: 0;position: absolute;width: 1px;}#sk-container-id-3 div.sk-estimator {font-family: monospace;background-color: #f0f8ff;border: 1px dotted black;border-radius: 0.25em;box-sizing: border-box;margin-bottom: 0.5em;}#sk-container-id-3 div.sk-estimator:hover {background-color: #d4ebff;}#sk-container-id-3 div.sk-parallel-item::after {content: \"\";width: 100%;border-bottom: 1px solid gray;flex-grow: 1;}#sk-container-id-3 div.sk-label:hover label.sk-toggleable__label {background-color: #d4ebff;}#sk-container-id-3 div.sk-serial::before {content: \"\";position: absolute;border-left: 1px solid gray;box-sizing: border-box;top: 0;bottom: 0;left: 50%;z-index: 0;}#sk-container-id-3 div.sk-serial {display: flex;flex-direction: column;align-items: center;background-color: white;padding-right: 0.2em;padding-left: 0.2em;position: relative;}#sk-container-id-3 div.sk-item {position: relative;z-index: 1;}#sk-container-id-3 div.sk-parallel {display: flex;align-items: stretch;justify-content: center;background-color: white;position: relative;}#sk-container-id-3 div.sk-item::before, #sk-container-id-3 div.sk-parallel-item::before {content: \"\";position: absolute;border-left: 1px solid gray;box-sizing: border-box;top: 0;bottom: 0;left: 50%;z-index: -1;}#sk-container-id-3 div.sk-parallel-item {display: flex;flex-direction: column;z-index: 1;position: relative;background-color: white;}#sk-container-id-3 div.sk-parallel-item:first-child::after {align-self: flex-end;width: 50%;}#sk-container-id-3 div.sk-parallel-item:last-child::after {align-self: flex-start;width: 50%;}#sk-container-id-3 div.sk-parallel-item:only-child::after {width: 0;}#sk-container-id-3 div.sk-dashed-wrapped {border: 1px dashed gray;margin: 0 0.4em 0.5em 0.4em;box-sizing: border-box;padding-bottom: 0.4em;background-color: white;}#sk-container-id-3 div.sk-label label {font-family: monospace;font-weight: bold;display: inline-block;line-height: 1.2em;}#sk-container-id-3 div.sk-label-container {text-align: center;}#sk-container-id-3 div.sk-container {/* jupyter's `normalize.less` sets `[hidden] { display: none; }` but bootstrap.min.css set `[hidden] { display: none !important; }` so we also need the `!important` here to be able to override the default hidden behavior on the sphinx rendered scikit-learn.org. See: https://github.com/scikit-learn/scikit-learn/issues/21755 */display: inline-block !important;position: relative;}#sk-container-id-3 div.sk-text-repr-fallback {display: none;}</style><div id=\"sk-container-id-3\" class=\"sk-top-container\"><div class=\"sk-text-repr-fallback\"><pre>XGBClassifier(base_score=None, booster=None, callbacks=None,\n",
       "              colsample_bylevel=None, colsample_bynode=None,\n",
       "              colsample_bytree=None, device=None, early_stopping_rounds=None,\n",
       "              enable_categorical=False, eval_metric=None, feature_types=None,\n",
       "              gamma=None, grow_policy=None, importance_type=None,\n",
       "              interaction_constraints=None, learning_rate=None, max_bin=None,\n",
       "              max_cat_threshold=None, max_cat_to_onehot=None,\n",
       "              max_delta_step=None, max_depth=None, max_leaves=None,\n",
       "              min_child_weight=None, missing=nan, monotone_constraints=None,\n",
       "              multi_strategy=None, n_estimators=None, n_jobs=None,\n",
       "              num_parallel_tree=None, random_state=42, ...)</pre><b>In a Jupyter environment, please rerun this cell to show the HTML representation or trust the notebook. <br />On GitHub, the HTML representation is unable to render, please try loading this page with nbviewer.org.</b></div><div class=\"sk-container\" hidden><div class=\"sk-item\"><div class=\"sk-estimator sk-toggleable\"><input class=\"sk-toggleable__control sk-hidden--visually\" id=\"sk-estimator-id-3\" type=\"checkbox\" checked><label for=\"sk-estimator-id-3\" class=\"sk-toggleable__label sk-toggleable__label-arrow\">XGBClassifier</label><div class=\"sk-toggleable__content\"><pre>XGBClassifier(base_score=None, booster=None, callbacks=None,\n",
       "              colsample_bylevel=None, colsample_bynode=None,\n",
       "              colsample_bytree=None, device=None, early_stopping_rounds=None,\n",
       "              enable_categorical=False, eval_metric=None, feature_types=None,\n",
       "              gamma=None, grow_policy=None, importance_type=None,\n",
       "              interaction_constraints=None, learning_rate=None, max_bin=None,\n",
       "              max_cat_threshold=None, max_cat_to_onehot=None,\n",
       "              max_delta_step=None, max_depth=None, max_leaves=None,\n",
       "              min_child_weight=None, missing=nan, monotone_constraints=None,\n",
       "              multi_strategy=None, n_estimators=None, n_jobs=None,\n",
       "              num_parallel_tree=None, random_state=42, ...)</pre></div></div></div></div></div>"
      ],
      "text/plain": [
       "XGBClassifier(base_score=None, booster=None, callbacks=None,\n",
       "              colsample_bylevel=None, colsample_bynode=None,\n",
       "              colsample_bytree=None, device=None, early_stopping_rounds=None,\n",
       "              enable_categorical=False, eval_metric=None, feature_types=None,\n",
       "              gamma=None, grow_policy=None, importance_type=None,\n",
       "              interaction_constraints=None, learning_rate=None, max_bin=None,\n",
       "              max_cat_threshold=None, max_cat_to_onehot=None,\n",
       "              max_delta_step=None, max_depth=None, max_leaves=None,\n",
       "              min_child_weight=None, missing=nan, monotone_constraints=None,\n",
       "              multi_strategy=None, n_estimators=None, n_jobs=None,\n",
       "              num_parallel_tree=None, random_state=42, ...)"
      ]
     },
     "execution_count": 80,
     "metadata": {},
     "output_type": "execute_result"
    }
   ],
   "source": [
    "# Train the model\n",
    "model.fit(X_train, y_classificated_train)"
   ]
  },
  {
   "cell_type": "code",
   "execution_count": 81,
   "id": "50bbd809-23eb-4380-88fb-a46e283f1ca4",
   "metadata": {},
   "outputs": [],
   "source": [
    "# Make predictions on the test set\n",
    "y_pred = model.predict(X_test,)"
   ]
  },
  {
   "cell_type": "code",
   "execution_count": 82,
   "id": "fda25410-949c-4d11-86ca-f2a579297b51",
   "metadata": {},
   "outputs": [
    {
     "name": "stdout",
     "output_type": "stream",
     "text": [
      "Accuracy: 0.83\n"
     ]
    }
   ],
   "source": [
    "# Calculate accuracy\n",
    "accuracy = metrics.accuracy_score(y_classificated_test, y_pred)\n",
    "print(f\"Accuracy: {accuracy:.2f}\")"
   ]
  },
  {
   "cell_type": "code",
   "execution_count": 83,
   "id": "45d24208-4dc5-4b87-94da-de20d36f49e9",
   "metadata": {},
   "outputs": [],
   "source": [
    "precision_xgb = metrics.precision_score(y_classificated_test, y_pred, average=None)\n",
    "recall_xgb = metrics.recall_score(y_classificated_test, y_pred, average=None)"
   ]
  },
  {
   "cell_type": "code",
   "execution_count": 84,
   "id": "db6f6d6a-7765-4586-b379-d538e6f08a83",
   "metadata": {},
   "outputs": [
    {
     "data": {
      "text/plain": [
       "array([0.61111111, 0.96666667])"
      ]
     },
     "execution_count": 84,
     "metadata": {},
     "output_type": "execute_result"
    }
   ],
   "source": [
    "precision_xgb"
   ]
  },
  {
   "cell_type": "code",
   "execution_count": 85,
   "id": "43cebfd7-0204-4093-a47f-c5a594fa9c71",
   "metadata": {},
   "outputs": [
    {
     "data": {
      "text/plain": [
       "array([0.91666667, 0.80555556])"
      ]
     },
     "execution_count": 85,
     "metadata": {},
     "output_type": "execute_result"
    }
   ],
   "source": [
    "recall_xgb"
   ]
  },
  {
   "cell_type": "code",
   "execution_count": 86,
   "id": "0e20e83d-3123-43c7-b907-86acc8298f93",
   "metadata": {},
   "outputs": [
    {
     "data": {
      "text/plain": [
       "array([1, 0, 1, 1, 1, 1, 1, 1, 1, 1, 1, 1, 1, 1, 1, 1, 1, 1, 1, 1, 1, 1,\n",
       "       1, 1, 1, 1, 1, 0, 0, 0, 0, 0, 0, 0, 0, 0, 0, 0, 1, 1, 1, 1, 1, 1,\n",
       "       1, 1, 1, 1])"
      ]
     },
     "execution_count": 86,
     "metadata": {},
     "output_type": "execute_result"
    }
   ],
   "source": [
    "y_classificated_test"
   ]
  },
  {
   "cell_type": "code",
   "execution_count": 87,
   "id": "1d4ed122-0fca-4aa9-889c-8b4ed4817e34",
   "metadata": {},
   "outputs": [
    {
     "data": {
      "text/plain": [
       "array([1, 1, 1, 1, 1, 1, 1, 1, 1, 1, 1, 1, 1, 1, 1, 1, 1, 1, 1, 1, 0, 1,\n",
       "       1, 0, 0, 0, 0, 0, 0, 0, 0, 0, 0, 0, 0, 0, 0, 0, 1, 1, 1, 1, 1, 0,\n",
       "       1, 1, 1, 0])"
      ]
     },
     "execution_count": 87,
     "metadata": {},
     "output_type": "execute_result"
    }
   ],
   "source": [
    "y_pred"
   ]
  },
  {
   "cell_type": "markdown",
   "id": "0337264b-5d1a-4f03-b856-5ff167274471",
   "metadata": {},
   "source": [
    "#### This month"
   ]
  },
  {
   "cell_type": "code",
   "execution_count": 88,
   "id": "0ccdd5b6-f7c9-4c0c-903b-d97cccc78055",
   "metadata": {},
   "outputs": [
    {
     "data": {
      "text/plain": [
       "array([0])"
      ]
     },
     "execution_count": 88,
     "metadata": {},
     "output_type": "execute_result"
    }
   ],
   "source": [
    "y_pred_this_month = model.predict(X_this_month)\n",
    "y_pred_this_month"
   ]
  },
  {
   "cell_type": "code",
   "execution_count": 89,
   "id": "264b6697-bd72-4156-a7d0-b786fb8d50e9",
   "metadata": {},
   "outputs": [
    {
     "data": {
      "text/plain": [
       "array([1, 1, 0, 0, 1, 0, 0, 1, 1, 0, 0, 0])"
      ]
     },
     "execution_count": 89,
     "metadata": {},
     "output_type": "execute_result"
    },
    {
     "name": "stdout",
     "output_type": "stream",
     "text": [
      "[CV 1/5] END class_weight={0: 7, 1: 5}, max_depth=3, min_samples_leaf=8;, score=0.423 total time=   0.0s\n",
      "[CV 2/5] END model__bootstrap=False, model__max_depth=4, model__max_features=sqrt, model__min_samples_leaf=2, model__min_samples_split=8, model__n_estimators=71;, score=0.227 total time=   0.0s\n",
      "[CV 2/5] END model__bootstrap=True, model__max_depth=2, model__max_features=sqrt, model__min_samples_leaf=8, model__min_samples_split=7, model__n_estimators=793;, score=0.266 total time=   0.6s\n",
      "[CV 3/5] END model__bootstrap=True, model__max_depth=2, model__max_features=sqrt, model__min_samples_leaf=8, model__min_samples_split=7, model__n_estimators=793;, score=0.435 total time=   0.5s\n",
      "[CV 5/5] END class_weight={0: 3, 1: 1}, max_depth=2, min_samples_leaf=10;, score=0.902 total time=   0.0s\n",
      "[CV 2/5] END class_weight={0: 2, 1: 3}, max_depth=4, min_samples_leaf=8;, score=0.404 total time=   0.0s\n",
      "[CV 1/5] END class_weight={0: 3, 1: 1}, max_depth=3, min_samples_leaf=10;, score=0.327 total time=   0.0s\n",
      "[CV 5/5] END class_weight={0: 3, 1: 1}, max_depth=3, min_samples_leaf=10;, score=0.902 total time=   0.0s\n",
      "[CV 3/5] END model__bootstrap=False, model__max_depth=5, model__max_features=auto, model__min_samples_leaf=2, model__min_samples_split=6, model__n_estimators=381;, score=nan total time=   0.0s\n",
      "[CV 1/5] END model__bootstrap=True, model__max_depth=4, model__max_features=auto, model__min_samples_leaf=2, model__min_samples_split=4, model__n_estimators=535;, score=nan total time=   0.0s\n",
      "[CV 2/5] END model__bootstrap=True, model__max_depth=4, model__max_features=auto, model__min_samples_leaf=2, model__min_samples_split=4, model__n_estimators=535;, score=nan total time=   0.0s\n",
      "[CV 5/5] END model__bootstrap=True, model__max_depth=4, model__max_features=auto, model__min_samples_leaf=2, model__min_samples_split=4, model__n_estimators=535;, score=nan total time=   0.0s\n",
      "[CV 1/5] END model__bootstrap=True, model__max_depth=3, model__max_features=sqrt, model__min_samples_leaf=8, model__min_samples_split=3, model__n_estimators=845;, score=0.461 total time=   0.5s\n",
      "[CV 1/5] END model__bootstrap=True, model__max_depth=3, model__max_features=sqrt, model__min_samples_leaf=4, model__min_samples_split=4, model__n_estimators=484;, score=0.479 total time=   0.3s\n",
      "[CV 2/5] END model__bootstrap=True, model__max_depth=3, model__max_features=sqrt, model__min_samples_leaf=4, model__min_samples_split=4, model__n_estimators=484;, score=0.228 total time=   0.3s\n",
      "[CV 3/5] END class_weight={0: 7, 1: 5}, max_depth=3, min_samples_leaf=8;, score=0.558 total time=   0.0s\n",
      "[CV 3/5] END model__bootstrap=False, model__max_depth=4, model__max_features=sqrt, model__min_samples_leaf=2, model__min_samples_split=8, model__n_estimators=71;, score=0.429 total time=   0.0s\n",
      "[CV 2/5] END model__bootstrap=True, model__max_depth=3, model__max_features=sqrt, model__min_samples_leaf=8, model__min_samples_split=3, model__n_estimators=845;, score=0.269 total time=   0.5s\n",
      "[CV 3/5] END model__bootstrap=True, model__max_depth=3, model__max_features=sqrt, model__min_samples_leaf=8, model__min_samples_split=3, model__n_estimators=845;, score=0.435 total time=   0.5s\n",
      "[CV 2/5] END class_weight={0: 7, 1: 5}, max_depth=3, min_samples_leaf=8;, score=0.288 total time=   0.0s\n",
      "[CV 2/5] END model__bootstrap=True, model__max_depth=2, model__max_features=auto, model__min_samples_leaf=9, model__min_samples_split=3, model__n_estimators=381;, score=nan total time=   0.0s\n",
      "[CV 5/5] END model__bootstrap=False, model__max_depth=4, model__max_features=sqrt, model__min_samples_leaf=2, model__min_samples_split=8, model__n_estimators=71;, score=0.778 total time=   0.0s\n",
      "[CV 1/5] END model__bootstrap=True, model__max_depth=2, model__max_features=sqrt, model__min_samples_leaf=6, model__min_samples_split=4, model__n_estimators=484;, score=0.479 total time=   0.3s\n",
      "[CV 2/5] END model__bootstrap=True, model__max_depth=2, model__max_features=sqrt, model__min_samples_leaf=6, model__min_samples_split=4, model__n_estimators=484;, score=0.254 total time=   0.3s\n",
      "[CV 3/5] END model__bootstrap=True, model__max_depth=3, model__max_features=sqrt, model__min_samples_leaf=4, model__min_samples_split=4, model__n_estimators=484;, score=0.435 total time=   0.3s\n",
      "[CV 4/5] END model__bootstrap=True, model__max_depth=3, model__max_features=sqrt, model__min_samples_leaf=4, model__min_samples_split=4, model__n_estimators=484;, score=0.435 total time=   0.3s\n",
      "[CV 2/5] END class_weight={0: 3, 1: 1}, max_depth=2, min_samples_leaf=10;, score=0.462 total time=   0.0s\n",
      "[CV 5/5] END class_weight={0: 7, 1: 5}, max_depth=2, min_samples_leaf=8;, score=0.882 total time=   0.0s\n",
      "[CV 3/5] END class_weight={0: 3, 1: 1}, max_depth=4, min_samples_leaf=3;, score=0.385 total time=   0.0s\n",
      "[CV 1/5] END class_weight={0: 2, 1: 3}, max_depth=4, min_samples_leaf=10;, score=0.519 total time=   0.0s\n",
      "[CV 5/5] END class_weight={0: 2, 1: 3}, max_depth=4, min_samples_leaf=10;, score=0.784 total time=   0.0s\n",
      "[CV 1/5] END class_weight={0: 2, 1: 3}, max_depth=4, min_samples_leaf=8;, score=0.519 total time=   0.0s\n",
      "[CV 3/5] END class_weight={0: 2, 1: 3}, max_depth=4, min_samples_leaf=8;, score=0.673 total time=   0.0s\n",
      "[CV 5/5] END class_weight={0: 2, 1: 3}, max_depth=4, min_samples_leaf=8;, score=0.784 total time=   0.0s\n",
      "[CV 4/5] END class_weight={0: 3, 1: 1}, max_depth=3, min_samples_leaf=10;, score=0.827 total time=   0.0s\n",
      "[CV 1/5] END model__bootstrap=True, model__max_depth=2, model__max_features=auto, model__min_samples_leaf=9, model__min_samples_split=3, model__n_estimators=381;, score=nan total time=   0.0s\n",
      "[CV 3/5] END model__bootstrap=True, model__max_depth=2, model__max_features=auto, model__min_samples_leaf=9, model__min_samples_split=3, model__n_estimators=381;, score=nan total time=   0.0s\n",
      "[CV 4/5] END model__bootstrap=True, model__max_depth=2, model__max_features=auto, model__min_samples_leaf=9, model__min_samples_split=3, model__n_estimators=381;, score=nan total time=   0.0s\n",
      "[CV 5/5] END model__bootstrap=True, model__max_depth=2, model__max_features=auto, model__min_samples_leaf=9, model__min_samples_split=3, model__n_estimators=381;, score=nan total time=   0.0s\n",
      "[CV 1/5] END model__bootstrap=False, model__max_depth=4, model__max_features=sqrt, model__min_samples_leaf=2, model__min_samples_split=8, model__n_estimators=71;, score=0.497 total time=   0.0s\n",
      "[CV 4/5] END model__bootstrap=False, model__max_depth=5, model__max_features=auto, model__min_samples_leaf=2, model__min_samples_split=6, model__n_estimators=381;, score=nan total time=   0.0s\n",
      "[CV 5/5] END model__bootstrap=False, model__max_depth=5, model__max_features=auto, model__min_samples_leaf=2, model__min_samples_split=6, model__n_estimators=381;, score=nan total time=   0.0s\n",
      "[CV 1/5] END model__bootstrap=False, model__max_depth=3, model__max_features=auto, model__min_samples_leaf=4, model__min_samples_split=6, model__n_estimators=845;, score=nan total time=   0.0s\n",
      "[CV 2/5] END model__bootstrap=False, model__max_depth=3, model__max_features=auto, model__min_samples_leaf=4, model__min_samples_split=6, model__n_estimators=845;, score=nan total time=   0.0s\n",
      "[CV 3/5] END model__bootstrap=False, model__max_depth=3, model__max_features=auto, model__min_samples_leaf=4, model__min_samples_split=6, model__n_estimators=845;, score=nan total time=   0.0s\n",
      "[CV 4/5] END model__bootstrap=False, model__max_depth=3, model__max_features=auto, model__min_samples_leaf=4, model__min_samples_split=6, model__n_estimators=845;, score=nan total time=   0.0s\n",
      "[CV 5/5] END model__bootstrap=False, model__max_depth=3, model__max_features=auto, model__min_samples_leaf=4, model__min_samples_split=6, model__n_estimators=845;, score=nan total time=   0.0s\n",
      "[CV 3/5] END model__bootstrap=True, model__max_depth=2, model__max_features=sqrt, model__min_samples_leaf=6, model__min_samples_split=4, model__n_estimators=484;, score=0.435 total time=   0.4s\n",
      "[CV 4/5] END model__bootstrap=True, model__max_depth=2, model__max_features=sqrt, model__min_samples_leaf=6, model__min_samples_split=4, model__n_estimators=484;, score=0.435 total time=   0.3s\n",
      "[CV 5/5] END model__bootstrap=True, model__max_depth=3, model__max_features=sqrt, model__min_samples_leaf=4, model__min_samples_split=4, model__n_estimators=484;, score=0.440 total time=   0.3s\n",
      "[CV 1/5] END model__bootstrap=False, model__max_depth=3, model__max_features=sqrt, model__min_samples_leaf=7, model__min_samples_split=3, model__n_estimators=742;, score=0.497 total time=   0.3s\n",
      "[CV 1/5] END class_weight={0: 3, 1: 1}, max_depth=2, min_samples_leaf=10;, score=0.327 total time=   0.0s\n",
      "[CV 4/5] END class_weight={0: 7, 1: 5}, max_depth=3, min_samples_leaf=8;, score=0.808 total time=   0.0s\n",
      "[CV 5/5] END class_weight={0: 7, 1: 5}, max_depth=3, min_samples_leaf=8;, score=0.882 total time=   0.0s\n",
      "[CV 1/5] END class_weight={0: 2, 1: 3}, max_depth=3, min_samples_leaf=10;, score=0.519 total time=   0.0s\n",
      "[CV 2/5] END class_weight={0: 2, 1: 3}, max_depth=3, min_samples_leaf=10;, score=0.442 total time=   0.0s\n",
      "[CV 3/5] END class_weight={0: 2, 1: 3}, max_depth=3, min_samples_leaf=10;, score=0.673 total time=   0.0s\n",
      "[CV 4/5] END class_weight={0: 2, 1: 3}, max_depth=3, min_samples_leaf=10;, score=0.769 total time=   0.0s\n",
      "[CV 5/5] END class_weight={0: 2, 1: 3}, max_depth=3, min_samples_leaf=10;, score=0.784 total time=   0.0s\n",
      "[CV 1/5] END class_weight={0: 7, 1: 5}, max_depth=4, min_samples_leaf=8;, score=0.500 total time=   0.0s\n",
      "[CV 2/5] END class_weight={0: 7, 1: 5}, max_depth=4, min_samples_leaf=8;, score=0.462 total time=   0.0s\n",
      "[CV 3/5] END class_weight={0: 7, 1: 5}, max_depth=4, min_samples_leaf=8;, score=0.558 total time=   0.0s\n",
      "[CV 4/5] END class_weight={0: 7, 1: 5}, max_depth=4, min_samples_leaf=8;, score=0.846 total time=   0.0s\n",
      "[CV 5/5] END class_weight={0: 7, 1: 5}, max_depth=4, min_samples_leaf=8;, score=0.882 total time=   0.0s\n",
      "[CV 1/5] END class_weight={0: 7, 1: 5}, max_depth=2, min_samples_leaf=8;, score=0.519 total time=   0.0s\n",
      "[CV 2/5] END class_weight={0: 7, 1: 5}, max_depth=2, min_samples_leaf=8;, score=0.462 total time=   0.0s\n",
      "[CV 3/5] END class_weight={0: 7, 1: 5}, max_depth=2, min_samples_leaf=8;, score=0.769 total time=   0.0s\n",
      "[CV 4/5] END class_weight={0: 7, 1: 5}, max_depth=2, min_samples_leaf=8;, score=0.808 total time=   0.0s\n",
      "[CV 1/5] END class_weight={0: 3, 1: 1}, max_depth=4, min_samples_leaf=3;, score=0.308 total time=   0.0s\n",
      "[CV 2/5] END class_weight={0: 3, 1: 1}, max_depth=4, min_samples_leaf=3;, score=0.288 total time=   0.0s\n",
      "[CV 4/5] END class_weight={0: 3, 1: 1}, max_depth=4, min_samples_leaf=3;, score=0.769 total time=   0.0s\n",
      "[CV 5/5] END class_weight={0: 3, 1: 1}, max_depth=4, min_samples_leaf=3;, score=0.882 total time=   0.0s\n",
      "[CV 2/5] END class_weight={0: 2, 1: 3}, max_depth=4, min_samples_leaf=10;, score=0.442 total time=   0.0s\n",
      "[CV 3/5] END class_weight={0: 2, 1: 3}, max_depth=4, min_samples_leaf=10;, score=0.673 total time=   0.0s\n",
      "[CV 4/5] END class_weight={0: 2, 1: 3}, max_depth=4, min_samples_leaf=10;, score=0.769 total time=   0.0s\n",
      "[CV 4/5] END class_weight={0: 2, 1: 3}, max_depth=4, min_samples_leaf=8;, score=0.769 total time=   0.0s\n",
      "[CV 3/5] END class_weight={0: 3, 1: 1}, max_depth=3, min_samples_leaf=10;, score=0.558 total time=   0.0s\n",
      "[CV 1/5] END class_weight={0: 7, 1: 5}, max_depth=3, min_samples_leaf=10;, score=0.423 total time=   0.0s\n",
      "[CV 4/5] END class_weight={0: 7, 1: 5}, max_depth=3, min_samples_leaf=10;, score=0.827 total time=   0.0s\n",
      "[CV 5/5] END class_weight={0: 7, 1: 5}, max_depth=3, min_samples_leaf=10;, score=0.902 total time=   0.0s\n",
      "[CV 2/5] END model__bootstrap=False, model__max_depth=5, model__max_features=auto, model__min_samples_leaf=2, model__min_samples_split=6, model__n_estimators=381;, score=nan total time=   0.0s\n",
      "[CV 4/5] END model__bootstrap=True, model__max_depth=2, model__max_features=sqrt, model__min_samples_leaf=8, model__min_samples_split=7, model__n_estimators=793;, score=0.435 total time=   0.5s\n",
      "[CV 5/5] END model__bootstrap=True, model__max_depth=2, model__max_features=sqrt, model__min_samples_leaf=8, model__min_samples_split=7, model__n_estimators=793;, score=0.440 total time=   0.5s\n",
      "[CV 4/5] END model__bootstrap=False, model__max_depth=3, model__max_features=sqrt, model__min_samples_leaf=7, model__min_samples_split=3, model__n_estimators=742;, score=0.435 total time=   0.3s\n",
      "[CV 3/5] END class_weight={0: 3, 1: 1}, max_depth=2, min_samples_leaf=10;, score=0.577 total time=   0.0s\n",
      "[CV 2/5] END class_weight={0: 7, 1: 5}, max_depth=3, min_samples_leaf=10;, score=0.288 total time=   0.0s\n",
      "[CV 4/5] END model__bootstrap=False, model__max_depth=4, model__max_features=sqrt, model__min_samples_leaf=2, model__min_samples_split=8, model__n_estimators=71;, score=0.435 total time=   0.0s\n",
      "[CV 3/5] END model__bootstrap=True, model__max_depth=4, model__max_features=auto, model__min_samples_leaf=2, model__min_samples_split=4, model__n_estimators=535;, score=nan total time=   0.0s\n",
      "[CV 4/5] END model__bootstrap=True, model__max_depth=4, model__max_features=auto, model__min_samples_leaf=2, model__min_samples_split=4, model__n_estimators=535;, score=nan total time=   0.0s\n",
      "[CV 4/5] END model__bootstrap=True, model__max_depth=3, model__max_features=sqrt, model__min_samples_leaf=8, model__min_samples_split=3, model__n_estimators=845;, score=0.435 total time=   0.5s\n",
      "[CV 5/5] END model__bootstrap=True, model__max_depth=3, model__max_features=sqrt, model__min_samples_leaf=8, model__min_samples_split=3, model__n_estimators=845;, score=0.440 total time=   0.5s\n",
      "[CV 5/5] END model__bootstrap=False, model__max_depth=3, model__max_features=sqrt, model__min_samples_leaf=7, model__min_samples_split=3, model__n_estimators=742;, score=0.440 total time=   0.3s\n",
      "[CV 4/5] END class_weight={0: 3, 1: 1}, max_depth=2, min_samples_leaf=10;, score=0.827 total time=   0.0s\n",
      "[CV 2/5] END class_weight={0: 3, 1: 1}, max_depth=3, min_samples_leaf=10;, score=0.288 total time=   0.0s\n",
      "[CV 3/5] END class_weight={0: 7, 1: 5}, max_depth=3, min_samples_leaf=10;, score=0.558 total time=   0.0s\n",
      "[CV 1/5] END model__bootstrap=False, model__max_depth=5, model__max_features=auto, model__min_samples_leaf=2, model__min_samples_split=6, model__n_estimators=381;, score=nan total time=   0.0s\n",
      "[CV 5/5] END model__bootstrap=True, model__max_depth=2, model__max_features=sqrt, model__min_samples_leaf=6, model__min_samples_split=4, model__n_estimators=484;, score=0.440 total time=   0.3s\n",
      "[CV 1/5] END model__bootstrap=True, model__max_depth=2, model__max_features=sqrt, model__min_samples_leaf=8, model__min_samples_split=7, model__n_estimators=793;, score=0.461 total time=   0.5s\n",
      "[CV 2/5] END model__bootstrap=False, model__max_depth=3, model__max_features=sqrt, model__min_samples_leaf=7, model__min_samples_split=3, model__n_estimators=742;, score=0.281 total time=   0.3s\n",
      "[CV 3/5] END model__bootstrap=False, model__max_depth=3, model__max_features=sqrt, model__min_samples_leaf=7, model__min_samples_split=3, model__n_estimators=742;, score=0.435 total time=   0.2s\n"
     ]
    }
   ],
   "source": [
    "y_pred_this_year = model.predict(X_this_year)\n",
    "y_pred_this_year"
   ]
  },
  {
   "cell_type": "markdown",
   "id": "092f4013-46b3-4526-bec1-f9da3035f86e",
   "metadata": {},
   "source": [
    "### Grid search"
   ]
  },
  {
   "cell_type": "code",
   "execution_count": null,
   "id": "f7c56e63-b8c0-4ef8-8e6c-081aaefc1f73",
   "metadata": {},
   "outputs": [],
   "source": [
    "from sklearn.model_selection import GridSearchCV\n",
    "# Create an XGBoost classifier with grid search for hyperparameter tuning\n",
    "model_grid = xgb.XGBClassifier(objective='binary:logistic', min_child_weight=0.01, random_state=41)\n",
    "\n",
    "# Define hyperparameters for fine-tuning with broader ranges\n",
    "param_grid = {\n",
    "    'learning_rate': np.logspace(-3, 0, 4),  # Range from 0.001 to 1\n",
    "    'max_depth': np.arange(3, 10, 1),  # Range from 3 to 9\n",
    "    'n_estimators': np.arange(50, 200, 50),  # Range from 50 to 150\n",
    "    'subsample': np.arange(0.5, 1.1, 0.1),  # Range from 0.5 to 1.0\n",
    "    'colsample_bytree': np.arange(0.5, 1.1, 0.1)  # Range from 0.5 to 1.0\n",
    "}\n",
    "\n",
    "# Use GridSearchCV to find the best combination of hyperparameters\n",
    "grid_search = GridSearchCV(estimator=model_grid, param_grid=param_grid, cv=5, scoring='accuracy', n_jobs=-1)\n",
    "grid_search.fit(X_train, y_classificated_train)\n",
    "\n",
    "# Get the best model from the grid search\n",
    "best_model = grid_search.best_estimator_\n",
    "\n",
    "# Make predictions on the test set\n",
    "y_pred = best_model.predict(X_test)\n",
    "\n",
    "# Calculate F1 score\n",
    "from sklearn.metrics import f1_score\n",
    "f1 = f1_score(y_classificated_test, y_pred)\n",
    "print(f\"Best Hyperparameters: {grid_search.best_params_}\")\n",
    "print(f\"F1 Score: {f1:.2f}\")"
   ]
  },
  {
   "cell_type": "code",
   "execution_count": null,
   "id": "a26df694-e8af-4095-b633-f9d67c965b66",
   "metadata": {},
   "outputs": [],
   "source": [
    "# Calculate accuracy\n",
    "accuracy = metrics.accuracy_score(y_classificated_test, y_pred)\n",
    "print(f\"Accuracy: {accuracy:.2f}\")"
   ]
  },
  {
   "cell_type": "code",
   "execution_count": null,
   "id": "454b3e4f-ac1d-438f-b45d-03a0e8955741",
   "metadata": {},
   "outputs": [],
   "source": [
    "precision_xgb_grid = metrics.precision_score(y_classificated_test, y_pred, average=None)\n",
    "recall_xgb_grid = metrics.recall_score(y_classificated_test, y_pred, average=None)"
   ]
  },
  {
   "cell_type": "code",
   "execution_count": null,
   "id": "53febb19-4560-4e2b-ae11-73aba1c4840e",
   "metadata": {},
   "outputs": [],
   "source": [
    "precision_xgb_grid"
   ]
  },
  {
   "cell_type": "code",
   "execution_count": null,
   "id": "a86d1ee6-8107-48f2-880c-8577ea7efa96",
   "metadata": {},
   "outputs": [],
   "source": [
    "recall_xgb_grid"
   ]
  },
  {
   "cell_type": "code",
   "execution_count": null,
   "id": "d73216bb-d7b3-4744-a81b-06d1faf3876b",
   "metadata": {},
   "outputs": [],
   "source": [
    "y_classificated_test"
   ]
  },
  {
   "cell_type": "code",
   "execution_count": null,
   "id": "3a376d15-2351-4d7d-ae65-a11d4b29ba66",
   "metadata": {},
   "outputs": [],
   "source": [
    "y_pred"
   ]
  },
  {
   "cell_type": "markdown",
   "id": "6d71fe39-2c5c-4976-a532-fac79baed74f",
   "metadata": {},
   "source": [
    "#### This month"
   ]
  },
  {
   "cell_type": "code",
   "execution_count": null,
   "id": "061bb237-4695-46cf-920a-1af5c46563d7",
   "metadata": {},
   "outputs": [],
   "source": [
    "y_pred_this_month = best_model.predict(X_this_month)\n",
    "y_pred_this_month"
   ]
  },
  {
   "cell_type": "code",
   "execution_count": null,
   "id": "6ea871cb-0d67-4d99-99be-00ae20bf1b5f",
   "metadata": {},
   "outputs": [],
   "source": [
    "y_pred_this_year = best_model.predict(X_this_year)\n",
    "y_pred_this_year"
   ]
  },
  {
   "cell_type": "code",
   "execution_count": null,
   "id": "83dd6c3d-6c46-4dd0-8f66-72f767227659",
   "metadata": {},
   "outputs": [],
   "source": []
  }
 ],
 "metadata": {
  "kernelspec": {
   "display_name": "Python 3 (ipykernel)",
   "language": "python",
   "name": "python3"
  },
  "language_info": {
   "codemirror_mode": {
    "name": "ipython",
    "version": 3
   },
   "file_extension": ".py",
   "mimetype": "text/x-python",
   "name": "python",
   "nbconvert_exporter": "python",
   "pygments_lexer": "ipython3",
   "version": "3.9.17"
  }
 },
 "nbformat": 4,
 "nbformat_minor": 5
}
