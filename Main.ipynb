{
 "cells": [
  {
   "cell_type": "code",
   "execution_count": 1,
   "id": "1dcc6fb5-1bc3-4a03-9d03-a7aa7a0fc3b7",
   "metadata": {},
   "outputs": [],
   "source": [
    "%load_ext autoreload\n",
    "%autoreload 2"
   ]
  },
  {
   "cell_type": "code",
   "execution_count": 2,
   "id": "0196b2aa-f269-4643-9091-a3dec70d4b71",
   "metadata": {},
   "outputs": [],
   "source": [
    "import pandas as pd\n",
    "import matplotlib.pyplot as plt\n",
    "import numpy as np\n",
    "from sklearn import datasets, linear_model\n",
    "from sklearn.metrics import mean_squared_error, r2_score\n",
    "import statsmodels.api as sm\n",
    "import time"
   ]
  },
  {
   "cell_type": "markdown",
   "id": "4844c526",
   "metadata": {},
   "source": [
    "## Parameters"
   ]
  },
  {
   "cell_type": "code",
   "execution_count": 3,
   "id": "ca85759d",
   "metadata": {},
   "outputs": [],
   "source": [
    "features = ['PE_RATIO', 'Fwd_PE_RATIO', '5Y_GENERIC', '1Y_GENERIC', 'PE_Yield', 'FWD_PE_minus_5Y', 'CPI_YOY' ,'Expected_inflation_5Y']\n",
    "# features = ['PE_RATIO']\n",
    "# features = ['Fwd_PE_RATIO']\n",
    "# features = ['5Y_GENERIC']\n",
    "# features = ['1Y_GENERIC']\n",
    "# features = ['PE_Yield']\n",
    "# features = ['FWD_PE_minus_5Y']\n",
    "# features = ['CPI_YOY']\n",
    "# features = ['Expected_inflation_5Y']"
   ]
  },
  {
   "cell_type": "code",
   "execution_count": null,
   "id": "917ec2d4",
   "metadata": {},
   "outputs": [],
   "source": []
  },
  {
   "cell_type": "code",
   "execution_count": 4,
   "id": "ea791f4d",
   "metadata": {},
   "outputs": [],
   "source": [
    "days_for_test = 48\n",
    "target = 'S&P_500_FORWARD_1_YEAR_GAIN'\n",
    "\n",
    "# The yearly forward change in S&P 500 for classification (in %)\n",
    "decline = -0.1\n",
    "increase = 1\n",
    "\n",
    "# Number of trees in random forest\n",
    "n_estimators = [int(x) for x in np.linspace(start = 200, stop = 1000, num = 20)]\n",
    "# Number of features to consider at every split\n",
    "max_features = ['auto', 'sqrt']\n",
    "# Maximum number of levels in tree\n",
    "max_depth = [int(x) for x in np.linspace(2, 7)]\n",
    "max_depth.append(None)\n",
    "# Minimum number of samples required to split a node\n",
    "min_samples_split = [2, 5, 10]\n",
    "# Minimum number of samples required at each leaf node\n",
    "min_samples_leaf = [1, 2, 4]\n",
    "# Method of selecting samples for training each tree\n",
    "bootstrap = [True, False]"
   ]
  },
  {
   "cell_type": "markdown",
   "id": "9d9bcb7b",
   "metadata": {},
   "source": [
    "## Open the data"
   ]
  },
  {
   "cell_type": "code",
   "execution_count": 5,
   "id": "89946723-8eea-4a55-adf5-0fccd0b24e96",
   "metadata": {},
   "outputs": [],
   "source": [
    "df = pd.read_csv(r'C:\\Users\\User\\Documents\\GitHub\\Investment_5Y_and_s&p500_yield_spread\\data.csv')"
   ]
  },
  {
   "cell_type": "code",
   "execution_count": 6,
   "id": "4f1f03cb",
   "metadata": {},
   "outputs": [
    {
     "data": {
      "text/html": [
       "<div>\n",
       "<style scoped>\n",
       "    .dataframe tbody tr th:only-of-type {\n",
       "        vertical-align: middle;\n",
       "    }\n",
       "\n",
       "    .dataframe tbody tr th {\n",
       "        vertical-align: top;\n",
       "    }\n",
       "\n",
       "    .dataframe thead th {\n",
       "        text-align: right;\n",
       "    }\n",
       "</style>\n",
       "<table border=\"1\" class=\"dataframe\">\n",
       "  <thead>\n",
       "    <tr style=\"text-align: right;\">\n",
       "      <th></th>\n",
       "      <th>date</th>\n",
       "      <th>PE_RATIO</th>\n",
       "      <th>Fwd_PE_RATIO</th>\n",
       "      <th>5Y_GENERIC</th>\n",
       "      <th>1Y_GENERIC</th>\n",
       "      <th>S&amp;P_500_TR</th>\n",
       "      <th>PE_Yield</th>\n",
       "      <th>Fwd_PE_Yield</th>\n",
       "      <th>FWD_PE_minus_5Y</th>\n",
       "      <th>S&amp;P_500_FORWARD_1_YEAR_GAIN</th>\n",
       "      <th>CPI_YOY</th>\n",
       "      <th>GENERIC_INFLATION_INDEXED_5Y_GOV_BOND</th>\n",
       "      <th>Expected_inflation_5Y</th>\n",
       "    </tr>\n",
       "  </thead>\n",
       "  <tbody>\n",
       "    <tr>\n",
       "      <th>1</th>\n",
       "      <td>29/07/2022</td>\n",
       "      <td>20.0</td>\n",
       "      <td>17.0</td>\n",
       "      <td>2.7</td>\n",
       "      <td>2.89</td>\n",
       "      <td>8730.0</td>\n",
       "      <td>5.00%</td>\n",
       "      <td>5.90%</td>\n",
       "      <td>3.30%</td>\n",
       "      <td>NaN</td>\n",
       "      <td>9.1</td>\n",
       "      <td>-0.108</td>\n",
       "      <td>2.79%</td>\n",
       "    </tr>\n",
       "  </tbody>\n",
       "</table>\n",
       "</div>"
      ],
      "text/plain": [
       "         date  PE_RATIO  Fwd_PE_RATIO  5Y_GENERIC  1Y_GENERIC  S&P_500_TR  \\\n",
       "1  29/07/2022      20.0          17.0         2.7        2.89      8730.0   \n",
       "\n",
       "  PE_Yield Fwd_PE_Yield FWD_PE_minus_5Y S&P_500_FORWARD_1_YEAR_GAIN  CPI_YOY  \\\n",
       "1    5.00%        5.90%           3.30%                         NaN      9.1   \n",
       "\n",
       "   GENERIC_INFLATION_INDEXED_5Y_GOV_BOND Expected_inflation_5Y  \n",
       "1                                 -0.108                 2.79%  "
      ]
     },
     "execution_count": 6,
     "metadata": {},
     "output_type": "execute_result"
    }
   ],
   "source": [
    "this_month = df.iloc[[1]]\n",
    "this_month"
   ]
  },
  {
   "cell_type": "code",
   "execution_count": 7,
   "id": "ab9e8bf2-6bff-43a8-844b-64f4593b2158",
   "metadata": {},
   "outputs": [
    {
     "data": {
      "text/html": [
       "<div>\n",
       "<style scoped>\n",
       "    .dataframe tbody tr th:only-of-type {\n",
       "        vertical-align: middle;\n",
       "    }\n",
       "\n",
       "    .dataframe tbody tr th {\n",
       "        vertical-align: top;\n",
       "    }\n",
       "\n",
       "    .dataframe thead th {\n",
       "        text-align: right;\n",
       "    }\n",
       "</style>\n",
       "<table border=\"1\" class=\"dataframe\">\n",
       "  <thead>\n",
       "    <tr style=\"text-align: right;\">\n",
       "      <th></th>\n",
       "      <th>date</th>\n",
       "      <th>PE_RATIO</th>\n",
       "      <th>Fwd_PE_RATIO</th>\n",
       "      <th>5Y_GENERIC</th>\n",
       "      <th>1Y_GENERIC</th>\n",
       "      <th>S&amp;P_500_TR</th>\n",
       "      <th>PE_Yield</th>\n",
       "      <th>Fwd_PE_Yield</th>\n",
       "      <th>FWD_PE_minus_5Y</th>\n",
       "      <th>S&amp;P_500_FORWARD_1_YEAR_GAIN</th>\n",
       "      <th>CPI_YOY</th>\n",
       "      <th>GENERIC_INFLATION_INDEXED_5Y_GOV_BOND</th>\n",
       "      <th>Expected_inflation_5Y</th>\n",
       "    </tr>\n",
       "  </thead>\n",
       "  <tbody>\n",
       "    <tr>\n",
       "      <th>25</th>\n",
       "      <td>30/07/2021</td>\n",
       "      <td>26.0</td>\n",
       "      <td>20.0</td>\n",
       "      <td>0.7</td>\n",
       "      <td>0.06</td>\n",
       "      <td>9155.0</td>\n",
       "      <td>3.80%</td>\n",
       "      <td>5.00%</td>\n",
       "      <td>4.30%</td>\n",
       "      <td>-4.60%</td>\n",
       "      <td>5.4</td>\n",
       "      <td>-1.970</td>\n",
       "      <td>2.71%</td>\n",
       "    </tr>\n",
       "    <tr>\n",
       "      <th>27</th>\n",
       "      <td>30/06/2021</td>\n",
       "      <td>26.0</td>\n",
       "      <td>20.0</td>\n",
       "      <td>0.9</td>\n",
       "      <td>0.07</td>\n",
       "      <td>8943.0</td>\n",
       "      <td>3.80%</td>\n",
       "      <td>4.90%</td>\n",
       "      <td>4.10%</td>\n",
       "      <td>-10.60%</td>\n",
       "      <td>5.0</td>\n",
       "      <td>-1.635</td>\n",
       "      <td>2.57%</td>\n",
       "    </tr>\n",
       "    <tr>\n",
       "      <th>29</th>\n",
       "      <td>31/05/2021</td>\n",
       "      <td>29.0</td>\n",
       "      <td>20.0</td>\n",
       "      <td>0.8</td>\n",
       "      <td>0.03</td>\n",
       "      <td>8739.0</td>\n",
       "      <td>3.40%</td>\n",
       "      <td>5.00%</td>\n",
       "      <td>4.20%</td>\n",
       "      <td>-0.30%</td>\n",
       "      <td>4.2</td>\n",
       "      <td>-1.814</td>\n",
       "      <td>2.66%</td>\n",
       "    </tr>\n",
       "    <tr>\n",
       "      <th>31</th>\n",
       "      <td>30/04/2021</td>\n",
       "      <td>30.0</td>\n",
       "      <td>20.0</td>\n",
       "      <td>0.8</td>\n",
       "      <td>0.05</td>\n",
       "      <td>8678.0</td>\n",
       "      <td>3.40%</td>\n",
       "      <td>5.00%</td>\n",
       "      <td>4.10%</td>\n",
       "      <td>0.20%</td>\n",
       "      <td>2.6</td>\n",
       "      <td>-1.739</td>\n",
       "      <td>2.63%</td>\n",
       "    </tr>\n",
       "    <tr>\n",
       "      <th>33</th>\n",
       "      <td>31/03/2021</td>\n",
       "      <td>28.0</td>\n",
       "      <td>20.0</td>\n",
       "      <td>0.9</td>\n",
       "      <td>0.06</td>\n",
       "      <td>8238.0</td>\n",
       "      <td>3.50%</td>\n",
       "      <td>5.00%</td>\n",
       "      <td>4.10%</td>\n",
       "      <td>15.60%</td>\n",
       "      <td>1.7</td>\n",
       "      <td>-1.757</td>\n",
       "      <td>2.74%</td>\n",
       "    </tr>\n",
       "    <tr>\n",
       "      <th>...</th>\n",
       "      <td>...</td>\n",
       "      <td>...</td>\n",
       "      <td>...</td>\n",
       "      <td>...</td>\n",
       "      <td>...</td>\n",
       "      <td>...</td>\n",
       "      <td>...</td>\n",
       "      <td>...</td>\n",
       "      <td>...</td>\n",
       "      <td>...</td>\n",
       "      <td>...</td>\n",
       "      <td>...</td>\n",
       "      <td>...</td>\n",
       "    </tr>\n",
       "    <tr>\n",
       "      <th>593</th>\n",
       "      <td>28/11/1997</td>\n",
       "      <td>23.0</td>\n",
       "      <td>18.0</td>\n",
       "      <td>5.8</td>\n",
       "      <td>5.50</td>\n",
       "      <td>1277.0</td>\n",
       "      <td>4.40%</td>\n",
       "      <td>5.50%</td>\n",
       "      <td>-0.30%</td>\n",
       "      <td>23.70%</td>\n",
       "      <td>2.1</td>\n",
       "      <td>3.566</td>\n",
       "      <td>2.20%</td>\n",
       "    </tr>\n",
       "    <tr>\n",
       "      <th>595</th>\n",
       "      <td>31/10/1997</td>\n",
       "      <td>22.0</td>\n",
       "      <td>17.0</td>\n",
       "      <td>5.7</td>\n",
       "      <td>5.35</td>\n",
       "      <td>1220.0</td>\n",
       "      <td>4.60%</td>\n",
       "      <td>5.80%</td>\n",
       "      <td>0.10%</td>\n",
       "      <td>22.00%</td>\n",
       "      <td>2.2</td>\n",
       "      <td>3.573</td>\n",
       "      <td>2.06%</td>\n",
       "    </tr>\n",
       "    <tr>\n",
       "      <th>597</th>\n",
       "      <td>30/09/1997</td>\n",
       "      <td>23.0</td>\n",
       "      <td>18.0</td>\n",
       "      <td>6.0</td>\n",
       "      <td>5.44</td>\n",
       "      <td>1263.0</td>\n",
       "      <td>4.40%</td>\n",
       "      <td>5.60%</td>\n",
       "      <td>-0.30%</td>\n",
       "      <td>9.00%</td>\n",
       "      <td>2.2</td>\n",
       "      <td>3.689</td>\n",
       "      <td>2.22%</td>\n",
       "    </tr>\n",
       "    <tr>\n",
       "      <th>599</th>\n",
       "      <td>29/08/1997</td>\n",
       "      <td>22.0</td>\n",
       "      <td>17.0</td>\n",
       "      <td>6.2</td>\n",
       "      <td>5.57</td>\n",
       "      <td>1197.0</td>\n",
       "      <td>4.60%</td>\n",
       "      <td>6.00%</td>\n",
       "      <td>-0.30%</td>\n",
       "      <td>8.10%</td>\n",
       "      <td>2.2</td>\n",
       "      <td>3.596</td>\n",
       "      <td>2.54%</td>\n",
       "    </tr>\n",
       "    <tr>\n",
       "      <th>601</th>\n",
       "      <td>31/07/1997</td>\n",
       "      <td>23.0</td>\n",
       "      <td>18.0</td>\n",
       "      <td>5.9</td>\n",
       "      <td>5.43</td>\n",
       "      <td>1268.0</td>\n",
       "      <td>4.30%</td>\n",
       "      <td>5.60%</td>\n",
       "      <td>-0.30%</td>\n",
       "      <td>19.30%</td>\n",
       "      <td>2.3</td>\n",
       "      <td>3.590</td>\n",
       "      <td>2.23%</td>\n",
       "    </tr>\n",
       "  </tbody>\n",
       "</table>\n",
       "<p>289 rows × 13 columns</p>\n",
       "</div>"
      ],
      "text/plain": [
       "           date  PE_RATIO  Fwd_PE_RATIO  5Y_GENERIC  1Y_GENERIC  S&P_500_TR  \\\n",
       "25   30/07/2021      26.0          20.0         0.7        0.06      9155.0   \n",
       "27   30/06/2021      26.0          20.0         0.9        0.07      8943.0   \n",
       "29   31/05/2021      29.0          20.0         0.8        0.03      8739.0   \n",
       "31   30/04/2021      30.0          20.0         0.8        0.05      8678.0   \n",
       "33   31/03/2021      28.0          20.0         0.9        0.06      8238.0   \n",
       "..          ...       ...           ...         ...         ...         ...   \n",
       "593  28/11/1997      23.0          18.0         5.8        5.50      1277.0   \n",
       "595  31/10/1997      22.0          17.0         5.7        5.35      1220.0   \n",
       "597  30/09/1997      23.0          18.0         6.0        5.44      1263.0   \n",
       "599  29/08/1997      22.0          17.0         6.2        5.57      1197.0   \n",
       "601  31/07/1997      23.0          18.0         5.9        5.43      1268.0   \n",
       "\n",
       "    PE_Yield Fwd_PE_Yield FWD_PE_minus_5Y S&P_500_FORWARD_1_YEAR_GAIN  \\\n",
       "25     3.80%        5.00%           4.30%                      -4.60%   \n",
       "27     3.80%        4.90%           4.10%                     -10.60%   \n",
       "29     3.40%        5.00%           4.20%                      -0.30%   \n",
       "31     3.40%        5.00%           4.10%                       0.20%   \n",
       "33     3.50%        5.00%           4.10%                      15.60%   \n",
       "..       ...          ...             ...                         ...   \n",
       "593    4.40%        5.50%          -0.30%                      23.70%   \n",
       "595    4.60%        5.80%           0.10%                      22.00%   \n",
       "597    4.40%        5.60%          -0.30%                       9.00%   \n",
       "599    4.60%        6.00%          -0.30%                       8.10%   \n",
       "601    4.30%        5.60%          -0.30%                      19.30%   \n",
       "\n",
       "     CPI_YOY  GENERIC_INFLATION_INDEXED_5Y_GOV_BOND Expected_inflation_5Y  \n",
       "25       5.4                                 -1.970                 2.71%  \n",
       "27       5.0                                 -1.635                 2.57%  \n",
       "29       4.2                                 -1.814                 2.66%  \n",
       "31       2.6                                 -1.739                 2.63%  \n",
       "33       1.7                                 -1.757                 2.74%  \n",
       "..       ...                                    ...                   ...  \n",
       "593      2.1                                  3.566                 2.20%  \n",
       "595      2.2                                  3.573                 2.06%  \n",
       "597      2.2                                  3.689                 2.22%  \n",
       "599      2.2                                  3.596                 2.54%  \n",
       "601      2.3                                  3.590                 2.23%  \n",
       "\n",
       "[289 rows x 13 columns]"
      ]
     },
     "execution_count": 7,
     "metadata": {},
     "output_type": "execute_result"
    }
   ],
   "source": [
    "df.dropna(inplace=True)\n",
    "df"
   ]
  },
  {
   "cell_type": "code",
   "execution_count": 8,
   "id": "bd2c54f6-7991-4920-9d7a-326228fc5fed",
   "metadata": {},
   "outputs": [
    {
     "name": "stdout",
     "output_type": "stream",
     "text": [
      "<class 'pandas.core.frame.DataFrame'>\n",
      "Int64Index: 289 entries, 25 to 601\n",
      "Data columns (total 13 columns):\n",
      " #   Column                                 Non-Null Count  Dtype  \n",
      "---  ------                                 --------------  -----  \n",
      " 0   date                                   289 non-null    object \n",
      " 1   PE_RATIO                               289 non-null    float64\n",
      " 2   Fwd_PE_RATIO                           289 non-null    float64\n",
      " 3   5Y_GENERIC                             289 non-null    float64\n",
      " 4   1Y_GENERIC                             289 non-null    float64\n",
      " 5   S&P_500_TR                             289 non-null    float64\n",
      " 6   PE_Yield                               289 non-null    object \n",
      " 7   Fwd_PE_Yield                           289 non-null    object \n",
      " 8   FWD_PE_minus_5Y                        289 non-null    object \n",
      " 9   S&P_500_FORWARD_1_YEAR_GAIN            289 non-null    object \n",
      " 10  CPI_YOY                                289 non-null    float64\n",
      " 11  GENERIC_INFLATION_INDEXED_5Y_GOV_BOND  289 non-null    float64\n",
      " 12  Expected_inflation_5Y                  289 non-null    object \n",
      "dtypes: float64(7), object(6)\n",
      "memory usage: 31.6+ KB\n"
     ]
    }
   ],
   "source": [
    "df.info()"
   ]
  },
  {
   "cell_type": "code",
   "execution_count": 9,
   "id": "4e4780a5",
   "metadata": {},
   "outputs": [],
   "source": [
    "df['PE_Yield'] = df['PE_Yield'].str.rstrip('%').astype('float')\n",
    "df['Fwd_PE_Yield'] = df['Fwd_PE_Yield'].str.rstrip('%').astype('float')\n",
    "df['FWD_PE_minus_5Y'] = df['FWD_PE_minus_5Y'].str.rstrip('%').astype('float')\n",
    "df['S&P_500_FORWARD_1_YEAR_GAIN'] = df['S&P_500_FORWARD_1_YEAR_GAIN'].str.rstrip('%').astype('float')\n",
    "df['Expected_inflation_5Y'] = df['Expected_inflation_5Y'].str.rstrip('%').astype('float')"
   ]
  },
  {
   "cell_type": "code",
   "execution_count": 10,
   "id": "53b254b7",
   "metadata": {},
   "outputs": [
    {
     "data": {
      "text/html": [
       "<div>\n",
       "<style scoped>\n",
       "    .dataframe tbody tr th:only-of-type {\n",
       "        vertical-align: middle;\n",
       "    }\n",
       "\n",
       "    .dataframe tbody tr th {\n",
       "        vertical-align: top;\n",
       "    }\n",
       "\n",
       "    .dataframe thead th {\n",
       "        text-align: right;\n",
       "    }\n",
       "</style>\n",
       "<table border=\"1\" class=\"dataframe\">\n",
       "  <thead>\n",
       "    <tr style=\"text-align: right;\">\n",
       "      <th></th>\n",
       "      <th>date</th>\n",
       "      <th>PE_RATIO</th>\n",
       "      <th>Fwd_PE_RATIO</th>\n",
       "      <th>5Y_GENERIC</th>\n",
       "      <th>1Y_GENERIC</th>\n",
       "      <th>S&amp;P_500_TR</th>\n",
       "      <th>PE_Yield</th>\n",
       "      <th>Fwd_PE_Yield</th>\n",
       "      <th>FWD_PE_minus_5Y</th>\n",
       "      <th>S&amp;P_500_FORWARD_1_YEAR_GAIN</th>\n",
       "      <th>CPI_YOY</th>\n",
       "      <th>GENERIC_INFLATION_INDEXED_5Y_GOV_BOND</th>\n",
       "      <th>Expected_inflation_5Y</th>\n",
       "    </tr>\n",
       "  </thead>\n",
       "  <tbody>\n",
       "    <tr>\n",
       "      <th>601</th>\n",
       "      <td>31/07/1997</td>\n",
       "      <td>23.0</td>\n",
       "      <td>18.0</td>\n",
       "      <td>5.9</td>\n",
       "      <td>5.43</td>\n",
       "      <td>1268.0</td>\n",
       "      <td>4.3</td>\n",
       "      <td>5.6</td>\n",
       "      <td>-0.3</td>\n",
       "      <td>19.3</td>\n",
       "      <td>2.3</td>\n",
       "      <td>3.590</td>\n",
       "      <td>2.23</td>\n",
       "    </tr>\n",
       "    <tr>\n",
       "      <th>599</th>\n",
       "      <td>29/08/1997</td>\n",
       "      <td>22.0</td>\n",
       "      <td>17.0</td>\n",
       "      <td>6.2</td>\n",
       "      <td>5.57</td>\n",
       "      <td>1197.0</td>\n",
       "      <td>4.6</td>\n",
       "      <td>6.0</td>\n",
       "      <td>-0.3</td>\n",
       "      <td>8.1</td>\n",
       "      <td>2.2</td>\n",
       "      <td>3.596</td>\n",
       "      <td>2.54</td>\n",
       "    </tr>\n",
       "  </tbody>\n",
       "</table>\n",
       "</div>"
      ],
      "text/plain": [
       "           date  PE_RATIO  Fwd_PE_RATIO  5Y_GENERIC  1Y_GENERIC  S&P_500_TR  \\\n",
       "601  31/07/1997      23.0          18.0         5.9        5.43      1268.0   \n",
       "599  29/08/1997      22.0          17.0         6.2        5.57      1197.0   \n",
       "\n",
       "     PE_Yield  Fwd_PE_Yield  FWD_PE_minus_5Y  S&P_500_FORWARD_1_YEAR_GAIN  \\\n",
       "601       4.3           5.6             -0.3                         19.3   \n",
       "599       4.6           6.0             -0.3                          8.1   \n",
       "\n",
       "     CPI_YOY  GENERIC_INFLATION_INDEXED_5Y_GOV_BOND  Expected_inflation_5Y  \n",
       "601      2.3                                  3.590                   2.23  \n",
       "599      2.2                                  3.596                   2.54  "
      ]
     },
     "execution_count": 10,
     "metadata": {},
     "output_type": "execute_result"
    }
   ],
   "source": [
    "df.sort_index(ascending=False, inplace=True)\n",
    "df.head(2)"
   ]
  },
  {
   "cell_type": "code",
   "execution_count": 11,
   "id": "278c190a",
   "metadata": {},
   "outputs": [
    {
     "name": "stdout",
     "output_type": "stream",
     "text": [
      "<class 'pandas.core.frame.DataFrame'>\n",
      "Int64Index: 289 entries, 601 to 25\n",
      "Data columns (total 13 columns):\n",
      " #   Column                                 Non-Null Count  Dtype  \n",
      "---  ------                                 --------------  -----  \n",
      " 0   date                                   289 non-null    object \n",
      " 1   PE_RATIO                               289 non-null    float64\n",
      " 2   Fwd_PE_RATIO                           289 non-null    float64\n",
      " 3   5Y_GENERIC                             289 non-null    float64\n",
      " 4   1Y_GENERIC                             289 non-null    float64\n",
      " 5   S&P_500_TR                             289 non-null    float64\n",
      " 6   PE_Yield                               289 non-null    float64\n",
      " 7   Fwd_PE_Yield                           289 non-null    float64\n",
      " 8   FWD_PE_minus_5Y                        289 non-null    float64\n",
      " 9   S&P_500_FORWARD_1_YEAR_GAIN            289 non-null    float64\n",
      " 10  CPI_YOY                                289 non-null    float64\n",
      " 11  GENERIC_INFLATION_INDEXED_5Y_GOV_BOND  289 non-null    float64\n",
      " 12  Expected_inflation_5Y                  289 non-null    float64\n",
      "dtypes: float64(12), object(1)\n",
      "memory usage: 31.6+ KB\n"
     ]
    }
   ],
   "source": [
    "df.info()"
   ]
  },
  {
   "cell_type": "markdown",
   "id": "d498a133-21ca-4371-b69d-fd188bb45b2e",
   "metadata": {},
   "source": [
    "## Train-test split"
   ]
  },
  {
   "cell_type": "markdown",
   "id": "0915a8b7-0820-4e76-97fd-270491fae75d",
   "metadata": {},
   "source": [
    "### X"
   ]
  },
  {
   "cell_type": "code",
   "execution_count": 12,
   "id": "9171c51c-8648-438f-9d63-5592389a0057",
   "metadata": {},
   "outputs": [
    {
     "data": {
      "text/plain": [
       "(289, 8)"
      ]
     },
     "execution_count": 12,
     "metadata": {},
     "output_type": "execute_result"
    }
   ],
   "source": [
    "X = np.array(df[features])\n",
    "X.shape"
   ]
  },
  {
   "cell_type": "code",
   "execution_count": 13,
   "id": "44b2c812-0245-40e9-a505-3d6247483aac",
   "metadata": {},
   "outputs": [],
   "source": [
    "# Split the data into training/testing sets\n",
    "X_train = X[:-days_for_test]\n",
    "X_test = X[-days_for_test:]"
   ]
  },
  {
   "cell_type": "markdown",
   "id": "ceedee80",
   "metadata": {},
   "source": [
    "### This month, unknown y"
   ]
  },
  {
   "cell_type": "code",
   "execution_count": 14,
   "id": "0a21cac1",
   "metadata": {},
   "outputs": [
    {
     "name": "stderr",
     "output_type": "stream",
     "text": [
      "C:\\Users\\User\\AppData\\Local\\Temp/ipykernel_3224/3405499328.py:1: SettingWithCopyWarning: \n",
      "A value is trying to be set on a copy of a slice from a DataFrame.\n",
      "Try using .loc[row_indexer,col_indexer] = value instead\n",
      "\n",
      "See the caveats in the documentation: https://pandas.pydata.org/pandas-docs/stable/user_guide/indexing.html#returning-a-view-versus-a-copy\n",
      "  this_month['PE_Yield'] = this_month['PE_Yield'].str.rstrip('%').astype('float')\n",
      "C:\\Users\\User\\AppData\\Local\\Temp/ipykernel_3224/3405499328.py:2: SettingWithCopyWarning: \n",
      "A value is trying to be set on a copy of a slice from a DataFrame.\n",
      "Try using .loc[row_indexer,col_indexer] = value instead\n",
      "\n",
      "See the caveats in the documentation: https://pandas.pydata.org/pandas-docs/stable/user_guide/indexing.html#returning-a-view-versus-a-copy\n",
      "  this_month['Fwd_PE_Yield'] = this_month['Fwd_PE_Yield'].str.rstrip('%').astype('float')\n",
      "C:\\Users\\User\\AppData\\Local\\Temp/ipykernel_3224/3405499328.py:3: SettingWithCopyWarning: \n",
      "A value is trying to be set on a copy of a slice from a DataFrame.\n",
      "Try using .loc[row_indexer,col_indexer] = value instead\n",
      "\n",
      "See the caveats in the documentation: https://pandas.pydata.org/pandas-docs/stable/user_guide/indexing.html#returning-a-view-versus-a-copy\n",
      "  this_month['FWD_PE_minus_5Y'] = this_month['FWD_PE_minus_5Y'].str.rstrip('%').astype('float')\n",
      "C:\\Users\\User\\AppData\\Local\\Temp/ipykernel_3224/3405499328.py:4: SettingWithCopyWarning: \n",
      "A value is trying to be set on a copy of a slice from a DataFrame.\n",
      "Try using .loc[row_indexer,col_indexer] = value instead\n",
      "\n",
      "See the caveats in the documentation: https://pandas.pydata.org/pandas-docs/stable/user_guide/indexing.html#returning-a-view-versus-a-copy\n",
      "  this_month['S&P_500_FORWARD_1_YEAR_GAIN'] = this_month['S&P_500_FORWARD_1_YEAR_GAIN'].str.rstrip('%').astype('float')\n",
      "C:\\Users\\User\\AppData\\Local\\Temp/ipykernel_3224/3405499328.py:5: SettingWithCopyWarning: \n",
      "A value is trying to be set on a copy of a slice from a DataFrame.\n",
      "Try using .loc[row_indexer,col_indexer] = value instead\n",
      "\n",
      "See the caveats in the documentation: https://pandas.pydata.org/pandas-docs/stable/user_guide/indexing.html#returning-a-view-versus-a-copy\n",
      "  this_month['Expected_inflation_5Y'] = this_month['Expected_inflation_5Y'].str.rstrip('%').astype('float')\n"
     ]
    }
   ],
   "source": [
    "this_month['PE_Yield'] = this_month['PE_Yield'].str.rstrip('%').astype('float')\n",
    "this_month['Fwd_PE_Yield'] = this_month['Fwd_PE_Yield'].str.rstrip('%').astype('float')\n",
    "this_month['FWD_PE_minus_5Y'] = this_month['FWD_PE_minus_5Y'].str.rstrip('%').astype('float')\n",
    "this_month['S&P_500_FORWARD_1_YEAR_GAIN'] = this_month['S&P_500_FORWARD_1_YEAR_GAIN'].str.rstrip('%').astype('float')\n",
    "this_month['Expected_inflation_5Y'] = this_month['Expected_inflation_5Y'].str.rstrip('%').astype('float')"
   ]
  },
  {
   "cell_type": "code",
   "execution_count": 15,
   "id": "0395e2f9",
   "metadata": {},
   "outputs": [
    {
     "data": {
      "text/plain": [
       "array([[20.  , 17.  ,  2.7 ,  2.89,  5.  ,  3.3 ,  9.1 ,  2.79]])"
      ]
     },
     "execution_count": 15,
     "metadata": {},
     "output_type": "execute_result"
    }
   ],
   "source": [
    "X_this_month = np.array(this_month[features])\n",
    "X_this_month"
   ]
  },
  {
   "cell_type": "markdown",
   "id": "2583258c-8249-4a37-b74a-f19fe98f3225",
   "metadata": {},
   "source": [
    "### y for regression"
   ]
  },
  {
   "cell_type": "code",
   "execution_count": 16,
   "id": "7e40b2c8-8bdb-40f4-8a04-1b757717e25a",
   "metadata": {},
   "outputs": [],
   "source": [
    "y = np.array(df[target])"
   ]
  },
  {
   "cell_type": "code",
   "execution_count": 17,
   "id": "6860fae5",
   "metadata": {},
   "outputs": [
    {
     "data": {
      "text/plain": [
       "601    19.3\n",
       "599     8.1\n",
       "597     9.0\n",
       "595    22.0\n",
       "593    23.7\n",
       "       ... \n",
       "33     15.6\n",
       "31      0.2\n",
       "29     -0.3\n",
       "27    -10.6\n",
       "25     -4.6\n",
       "Name: S&P_500_FORWARD_1_YEAR_GAIN, Length: 289, dtype: float64"
      ]
     },
     "execution_count": 17,
     "metadata": {},
     "output_type": "execute_result"
    }
   ],
   "source": [
    "df[target]"
   ]
  },
  {
   "cell_type": "code",
   "execution_count": 18,
   "id": "1a1eafee-3db3-4528-a1d0-ffce3fd0eea1",
   "metadata": {},
   "outputs": [],
   "source": [
    "# Split the targets into training/testing sets\n",
    "y_train = y[:-days_for_test]\n",
    "y_test = y[-days_for_test:]"
   ]
  },
  {
   "cell_type": "markdown",
   "id": "63b3116a-bfd9-41a6-abcb-55dbdc6e289b",
   "metadata": {},
   "source": [
    "### y for classificator"
   ]
  },
  {
   "cell_type": "code",
   "execution_count": 19,
   "id": "4858ee40-673b-4cf0-904b-1180491d3c06",
   "metadata": {},
   "outputs": [
    {
     "data": {
      "text/plain": [
       "<AxesSubplot:>"
      ]
     },
     "execution_count": 19,
     "metadata": {},
     "output_type": "execute_result"
    },
    {
     "data": {
      "image/png": "[encoded data removed]",
      "text/plain": [
       "<Figure size 432x288 with 1 Axes>"
      ]
     },
     "metadata": {
      "needs_background": "light"
     },
     "output_type": "display_data"
    }
   ],
   "source": [
    "df['S&P_500_FORWARD_1_YEAR_GAIN'].hist(bins=80)"
   ]
  },
  {
   "cell_type": "code",
   "execution_count": 20,
   "id": "f465cd8d-d0f3-4076-a3a3-74090943fef8",
   "metadata": {},
   "outputs": [
    {
     "data": {
      "text/plain": [
       "(289, 13)"
      ]
     },
     "execution_count": 20,
     "metadata": {},
     "output_type": "execute_result"
    }
   ],
   "source": [
    "df.shape"
   ]
  },
  {
   "cell_type": "code",
   "execution_count": 21,
   "id": "bcaf2c3a",
   "metadata": {},
   "outputs": [],
   "source": [
    "y_classificated = np.where(y>increase,1,np.where(y<=decline,-1,0))"
   ]
  },
  {
   "cell_type": "code",
   "execution_count": 22,
   "id": "c3bdc5b2",
   "metadata": {},
   "outputs": [
    {
     "data": {
      "text/plain": [
       "array([ 1,  1,  1,  1,  1,  1,  1,  1,  1,  1,  1,  1,  1,  1,  1,  1,  1,\n",
       "        1,  1,  1,  1,  1,  1,  1,  1,  1,  1,  1, -1, -1, -1, -1, -1, -1,\n",
       "       -1, -1, -1, -1, -1, -1, -1, -1, -1, -1,  0, -1, -1, -1, -1, -1, -1,\n",
       "       -1, -1, -1, -1, -1, -1, -1, -1,  0,  1,  1,  1,  1,  1,  1,  1,  1,\n",
       "        1,  1,  1,  1,  1,  1,  1,  1,  1,  1,  1,  1,  1,  1,  1,  1,  1,\n",
       "        1,  1,  1,  1,  1,  1,  1,  1,  1,  1,  1,  1,  1,  1,  1,  1,  1,\n",
       "        1,  1,  1,  1,  1,  1,  1,  1,  1,  1,  1,  1, -1, -1, -1, -1, -1,\n",
       "       -1, -1, -1, -1, -1, -1, -1, -1, -1, -1, -1, -1, -1, -1, -1, -1,  1,\n",
       "        1,  1,  1,  1,  1,  1,  1,  1,  1,  1,  1,  1,  1,  1,  1,  1,  1,\n",
       "        1,  1,  1,  1,  1,  1,  1,  1,  1,  1,  1,  1,  1, -1,  1,  1,  1,\n",
       "        1,  1,  1,  1,  1,  1,  1,  1,  1,  1,  1,  1,  1,  1,  1,  1,  1,\n",
       "        1,  1,  1,  1,  1,  1,  1,  1,  1,  1,  1,  1,  1,  1,  1,  1,  1,\n",
       "        1,  0, -1,  1,  1,  1, -1, -1,  1,  1,  1,  1,  1,  1,  1,  1,  1,\n",
       "        1,  1,  1,  1,  1,  1,  1,  1,  1,  1,  1,  1,  1,  1,  1,  1,  1,\n",
       "        1,  1,  1,  1,  1,  1,  1, -1, -1,  1,  1,  1,  1,  1,  1,  1,  1,\n",
       "        1,  1,  1,  1,  1, -1,  0,  1,  1,  1,  1,  1,  1,  1,  1,  1,  1,\n",
       "        1,  1,  1,  1,  1,  1,  1,  1,  1,  1,  1,  1,  1,  0, -1, -1, -1])"
      ]
     },
     "execution_count": 22,
     "metadata": {},
     "output_type": "execute_result"
    }
   ],
   "source": [
    "y_classificated"
   ]
  },
  {
   "cell_type": "code",
   "execution_count": 23,
   "id": "8f9641ca-15a1-4f94-a81c-acd8c510bf24",
   "metadata": {},
   "outputs": [],
   "source": [
    "# Split the targets into training/testing sets\n",
    "y_classificated_train = y_classificated[:-days_for_test]\n",
    "y_classificated_test = y_classificated[-days_for_test:]"
   ]
  },
  {
   "cell_type": "markdown",
   "id": "e28ad7e9-9a90-43be-af4d-79cce88cc235",
   "metadata": {},
   "source": [
    "## Linear regression"
   ]
  },
  {
   "cell_type": "code",
   "execution_count": 24,
   "id": "44c85d9c-4283-4b03-9aa0-165f7eb86536",
   "metadata": {},
   "outputs": [],
   "source": [
    "# Create linear regression object\n",
    "regr = linear_model.LinearRegression()"
   ]
  },
  {
   "cell_type": "code",
   "execution_count": 25,
   "id": "b36ea401-968a-48a7-a738-a51cae28776e",
   "metadata": {},
   "outputs": [
    {
     "data": {
      "text/plain": [
       "LinearRegression()"
      ]
     },
     "execution_count": 25,
     "metadata": {},
     "output_type": "execute_result"
    }
   ],
   "source": [
    "# Train the model using the training sets\n",
    "regr.fit(X_train, y_train)"
   ]
  },
  {
   "cell_type": "code",
   "execution_count": 26,
   "id": "64a60655-1af8-4067-b65a-89d3d1838ac3",
   "metadata": {},
   "outputs": [],
   "source": [
    "# Make predictions using the testing set\n",
    "y_pred = regr.predict(X_test)"
   ]
  },
  {
   "cell_type": "code",
   "execution_count": 27,
   "id": "bee6c27a-6124-41d6-b8a8-bdfafda479ee",
   "metadata": {},
   "outputs": [
    {
     "name": "stdout",
     "output_type": "stream",
     "text": [
      "Coefficients: \n",
      " [-0.10576003  1.13860283 -1.53378081  3.45220235  8.2611764   1.36572186\n",
      " -5.43555766 -3.05428106]\n",
      "MSE: 292.57\n",
      "R^2: -0.34\n"
     ]
    }
   ],
   "source": [
    "# The coefficients\n",
    "print(\"Coefficients: \\n\", regr.coef_)\n",
    "# The mean squared error\n",
    "print(\"MSE: %.2f\" % mean_squared_error(y_test, y_pred))\n",
    "# The coefficient of determination: 1 is perfect prediction\n",
    "r_sqr_test = r2_score(y_test, y_pred)\n",
    "print(\"R^2: %.2f\" % r_sqr_test)"
   ]
  },
  {
   "cell_type": "code",
   "execution_count": 28,
   "id": "6a9ac900-8f80-43a1-bf66-b63beab5f0fb",
   "metadata": {},
   "outputs": [
    {
     "data": {
      "text/html": [
       "<div>\n",
       "<style scoped>\n",
       "    .dataframe tbody tr th:only-of-type {\n",
       "        vertical-align: middle;\n",
       "    }\n",
       "\n",
       "    .dataframe tbody tr th {\n",
       "        vertical-align: top;\n",
       "    }\n",
       "\n",
       "    .dataframe thead th {\n",
       "        text-align: right;\n",
       "    }\n",
       "</style>\n",
       "<table border=\"1\" class=\"dataframe\">\n",
       "  <thead>\n",
       "    <tr style=\"text-align: right;\">\n",
       "      <th></th>\n",
       "      <th>Coefficient</th>\n",
       "    </tr>\n",
       "    <tr>\n",
       "      <th>Feature</th>\n",
       "      <th></th>\n",
       "    </tr>\n",
       "  </thead>\n",
       "  <tbody>\n",
       "    <tr>\n",
       "      <th>PE_RATIO</th>\n",
       "      <td>-0.10576</td>\n",
       "    </tr>\n",
       "    <tr>\n",
       "      <th>Fwd_PE_RATIO</th>\n",
       "      <td>1.138603</td>\n",
       "    </tr>\n",
       "    <tr>\n",
       "      <th>5Y_GENERIC</th>\n",
       "      <td>-1.533781</td>\n",
       "    </tr>\n",
       "    <tr>\n",
       "      <th>1Y_GENERIC</th>\n",
       "      <td>3.452202</td>\n",
       "    </tr>\n",
       "    <tr>\n",
       "      <th>PE_Yield</th>\n",
       "      <td>8.261176</td>\n",
       "    </tr>\n",
       "    <tr>\n",
       "      <th>FWD_PE_minus_5Y</th>\n",
       "      <td>1.365722</td>\n",
       "    </tr>\n",
       "    <tr>\n",
       "      <th>CPI_YOY</th>\n",
       "      <td>-5.435558</td>\n",
       "    </tr>\n",
       "    <tr>\n",
       "      <th>Expected_inflation_5Y</th>\n",
       "      <td>-3.054281</td>\n",
       "    </tr>\n",
       "  </tbody>\n",
       "</table>\n",
       "</div>"
      ],
      "text/plain": [
       "                      Coefficient\n",
       "Feature                          \n",
       "PE_RATIO                 -0.10576\n",
       "Fwd_PE_RATIO             1.138603\n",
       "5Y_GENERIC              -1.533781\n",
       "1Y_GENERIC               3.452202\n",
       "PE_Yield                 8.261176\n",
       "FWD_PE_minus_5Y          1.365722\n",
       "CPI_YOY                 -5.435558\n",
       "Expected_inflation_5Y   -3.054281"
      ]
     },
     "execution_count": 28,
     "metadata": {},
     "output_type": "execute_result"
    }
   ],
   "source": [
    "regression_result = pd.DataFrame([features, list(regr.coef_)]).T\n",
    "regression_result.columns = ['Feature','Coefficient']\n",
    "regression_result.set_index('Feature')"
   ]
  },
  {
   "cell_type": "markdown",
   "id": "3e024334-39ff-4090-a5cc-2d5735c32a11",
   "metadata": {},
   "source": [
    "## Linear regression with p-value"
   ]
  },
  {
   "cell_type": "code",
   "execution_count": 29,
   "id": "a9e4d14f-c644-439f-9140-fd0801b10e5f",
   "metadata": {
    "scrolled": false
   },
   "outputs": [
    {
     "data": {
      "text/html": [
       "<table class=\"simpletable\">\n",
       "<caption>OLS Regression Results</caption>\n",
       "<tr>\n",
       "  <th>Dep. Variable:</th>            <td>y</td>        <th>  R-squared:         </th> <td>   0.276</td>\n",
       "</tr>\n",
       "<tr>\n",
       "  <th>Model:</th>                   <td>OLS</td>       <th>  Adj. R-squared:    </th> <td>   0.251</td>\n",
       "</tr>\n",
       "<tr>\n",
       "  <th>Method:</th>             <td>Least Squares</td>  <th>  F-statistic:       </th> <td>   11.03</td>\n",
       "</tr>\n",
       "<tr>\n",
       "  <th>Date:</th>             <td>Mon, 22 Aug 2022</td> <th>  Prob (F-statistic):</th> <td>3.52e-13</td>\n",
       "</tr>\n",
       "<tr>\n",
       "  <th>Time:</th>                 <td>15:29:58</td>     <th>  Log-Likelihood:    </th> <td> -982.08</td>\n",
       "</tr>\n",
       "<tr>\n",
       "  <th>No. Observations:</th>      <td>   241</td>      <th>  AIC:               </th> <td>   1982.</td>\n",
       "</tr>\n",
       "<tr>\n",
       "  <th>Df Residuals:</th>          <td>   232</td>      <th>  BIC:               </th> <td>   2014.</td>\n",
       "</tr>\n",
       "<tr>\n",
       "  <th>Df Model:</th>              <td>     8</td>      <th>                     </th>     <td> </td>   \n",
       "</tr>\n",
       "<tr>\n",
       "  <th>Covariance Type:</th>      <td>nonrobust</td>    <th>                     </th>     <td> </td>   \n",
       "</tr>\n",
       "</table>\n",
       "<table class=\"simpletable\">\n",
       "<tr>\n",
       "    <td></td>       <th>coef</th>     <th>std err</th>      <th>t</th>      <th>P>|t|</th>  <th>[0.025</th>    <th>0.975]</th>  \n",
       "</tr>\n",
       "<tr>\n",
       "  <th>const</th> <td>  -41.8059</td> <td>   45.141</td> <td>   -0.926</td> <td> 0.355</td> <td> -130.744</td> <td>   47.132</td>\n",
       "</tr>\n",
       "<tr>\n",
       "  <th>x1</th>    <td>   -0.1058</td> <td>    1.559</td> <td>   -0.068</td> <td> 0.946</td> <td>   -3.177</td> <td>    2.966</td>\n",
       "</tr>\n",
       "<tr>\n",
       "  <th>x2</th>    <td>    1.1386</td> <td>    2.066</td> <td>    0.551</td> <td> 0.582</td> <td>   -2.932</td> <td>    5.209</td>\n",
       "</tr>\n",
       "<tr>\n",
       "  <th>x3</th>    <td>   -1.5338</td> <td>    4.810</td> <td>   -0.319</td> <td> 0.750</td> <td>  -11.010</td> <td>    7.943</td>\n",
       "</tr>\n",
       "<tr>\n",
       "  <th>x4</th>    <td>    3.4522</td> <td>    1.566</td> <td>    2.205</td> <td> 0.028</td> <td>    0.368</td> <td>    6.537</td>\n",
       "</tr>\n",
       "<tr>\n",
       "  <th>x5</th>    <td>    8.2612</td> <td>    5.953</td> <td>    1.388</td> <td> 0.167</td> <td>   -3.468</td> <td>   19.990</td>\n",
       "</tr>\n",
       "<tr>\n",
       "  <th>x6</th>    <td>    1.3657</td> <td>    4.701</td> <td>    0.291</td> <td> 0.772</td> <td>   -7.897</td> <td>   10.628</td>\n",
       "</tr>\n",
       "<tr>\n",
       "  <th>x7</th>    <td>   -5.4356</td> <td>    1.016</td> <td>   -5.352</td> <td> 0.000</td> <td>   -7.437</td> <td>   -3.434</td>\n",
       "</tr>\n",
       "<tr>\n",
       "  <th>x8</th>    <td>   -3.0543</td> <td>    2.170</td> <td>   -1.407</td> <td> 0.161</td> <td>   -7.330</td> <td>    1.222</td>\n",
       "</tr>\n",
       "</table>\n",
       "<table class=\"simpletable\">\n",
       "<tr>\n",
       "  <th>Omnibus:</th>       <td>25.748</td> <th>  Durbin-Watson:     </th> <td>   0.174</td>\n",
       "</tr>\n",
       "<tr>\n",
       "  <th>Prob(Omnibus):</th> <td> 0.000</td> <th>  Jarque-Bera (JB):  </th> <td>  31.005</td>\n",
       "</tr>\n",
       "<tr>\n",
       "  <th>Skew:</th>          <td>-0.793</td> <th>  Prob(JB):          </th> <td>1.85e-07</td>\n",
       "</tr>\n",
       "<tr>\n",
       "  <th>Kurtosis:</th>      <td> 3.758</td> <th>  Cond. No.          </th> <td>1.29e+03</td>\n",
       "</tr>\n",
       "</table><br/><br/>Notes:<br/>[1] Standard Errors assume that the covariance matrix of the errors is correctly specified.<br/>[2] The condition number is large, 1.29e+03. This might indicate that there are<br/>strong multicollinearity or other numerical problems."
      ],
      "text/plain": [
       "<class 'statsmodels.iolib.summary.Summary'>\n",
       "\"\"\"\n",
       "                            OLS Regression Results                            \n",
       "==============================================================================\n",
       "Dep. Variable:                      y   R-squared:                       0.276\n",
       "Model:                            OLS   Adj. R-squared:                  0.251\n",
       "Method:                 Least Squares   F-statistic:                     11.03\n",
       "Date:                Mon, 22 Aug 2022   Prob (F-statistic):           3.52e-13\n",
       "Time:                        15:29:58   Log-Likelihood:                -982.08\n",
       "No. Observations:                 241   AIC:                             1982.\n",
       "Df Residuals:                     232   BIC:                             2014.\n",
       "Df Model:                           8                                         \n",
       "Covariance Type:            nonrobust                                         \n",
       "==============================================================================\n",
       "                 coef    std err          t      P>|t|      [0.025      0.975]\n",
       "------------------------------------------------------------------------------\n",
       "const        -41.8059     45.141     -0.926      0.355    -130.744      47.132\n",
       "x1            -0.1058      1.559     -0.068      0.946      -3.177       2.966\n",
       "x2             1.1386      2.066      0.551      0.582      -2.932       5.209\n",
       "x3            -1.5338      4.810     -0.319      0.750     -11.010       7.943\n",
       "x4             3.4522      1.566      2.205      0.028       0.368       6.537\n",
       "x5             8.2612      5.953      1.388      0.167      -3.468      19.990\n",
       "x6             1.3657      4.701      0.291      0.772      -7.897      10.628\n",
       "x7            -5.4356      1.016     -5.352      0.000      -7.437      -3.434\n",
       "x8            -3.0543      2.170     -1.407      0.161      -7.330       1.222\n",
       "==============================================================================\n",
       "Omnibus:                       25.748   Durbin-Watson:                   0.174\n",
       "Prob(Omnibus):                  0.000   Jarque-Bera (JB):               31.005\n",
       "Skew:                          -0.793   Prob(JB):                     1.85e-07\n",
       "Kurtosis:                       3.758   Cond. No.                     1.29e+03\n",
       "==============================================================================\n",
       "\n",
       "Notes:\n",
       "[1] Standard Errors assume that the covariance matrix of the errors is correctly specified.\n",
       "[2] The condition number is large, 1.29e+03. This might indicate that there are\n",
       "strong multicollinearity or other numerical problems.\n",
       "\"\"\""
      ]
     },
     "execution_count": 29,
     "metadata": {},
     "output_type": "execute_result"
    }
   ],
   "source": [
    "X2 = sm.add_constant(X_train)\n",
    "est = sm.OLS(y_train, X2)\n",
    "est2 = est.fit()\n",
    "est2.summary()"
   ]
  },
  {
   "cell_type": "code",
   "execution_count": 30,
   "id": "bc5c18d0",
   "metadata": {},
   "outputs": [
    {
     "data": {
      "image/png": "[encoded data removed]",
      "text/plain": [
       "<Figure size 1152x576 with 9 Axes>"
      ]
     },
     "metadata": {
      "needs_background": "light"
     },
     "output_type": "display_data"
    }
   ],
   "source": [
    "plt.rc(\"figure\", figsize=(16, 8))\n",
    "plt.rc(\"font\", size=14)\n",
    "\n",
    "fig = sm.graphics.plot_partregress_grid(est2)\n",
    "fig.tight_layout(pad=1.0)"
   ]
  },
  {
   "cell_type": "markdown",
   "id": "d43c54ca-0b1a-4bf9-80fd-617b05f353ca",
   "metadata": {},
   "source": [
    "* The R^2 of train"
   ]
  },
  {
   "cell_type": "code",
   "execution_count": 31,
   "id": "424cb3d6-d158-4b93-910e-6d96017471ce",
   "metadata": {},
   "outputs": [
    {
     "name": "stdout",
     "output_type": "stream",
     "text": [
      "R^2: 0.28\n"
     ]
    }
   ],
   "source": [
    "y_trained = regr.predict(X_train)\n",
    "y_trained\n",
    "r_sqr_train = r2_score(y_train, y_trained)\n",
    "print(\"R^2: %.2f\" % r_sqr_train)"
   ]
  },
  {
   "cell_type": "markdown",
   "id": "ef711f9d",
   "metadata": {},
   "source": [
    "that means the model is not flexible enough"
   ]
  },
  {
   "cell_type": "markdown",
   "id": "11dedcfd-eb73-40db-8556-472f695aa857",
   "metadata": {
    "tags": []
   },
   "source": [
    "## Desision tree"
   ]
  },
  {
   "cell_type": "code",
   "execution_count": 32,
   "id": "52978492-6d3b-4c47-bacb-0ad35b9ea0f1",
   "metadata": {},
   "outputs": [],
   "source": [
    "from sklearn import tree\n",
    "\n",
    "clf = tree.DecisionTreeClassifier(random_state=4, max_depth=4, min_samples_leaf=2)\n",
    "clf = clf.fit(X_train, y_classificated_train)"
   ]
  },
  {
   "cell_type": "code",
   "execution_count": 33,
   "id": "0e59d8f0-cac4-420c-b632-0d2b1ec12f98",
   "metadata": {},
   "outputs": [
    {
     "data": {
      "text/plain": [
       "[Text(495.99999999999994, 391.392, 'X[3] <= 5.63\\ngini = 0.371\\nsamples = 241\\nvalue = [55, 3, 183]'),\n",
       " Text(396.79999999999995, 304.416, 'X[3] <= 1.535\\ngini = 0.322\\nsamples = 228\\nvalue = [42, 3, 183]'),\n",
       " Text(198.39999999999998, 217.44, 'X[3] <= 0.085\\ngini = 0.091\\nsamples = 106\\nvalue = [4, 1, 101]'),\n",
       " Text(99.19999999999999, 130.464, 'gini = 0.5\\nsamples = 2\\nvalue = [0, 1, 1]'),\n",
       " Text(297.59999999999997, 130.464, 'X[3] <= 0.195\\ngini = 0.074\\nsamples = 104\\nvalue = [4, 0, 100]'),\n",
       " Text(198.39999999999998, 43.488, 'gini = 0.172\\nsamples = 42\\nvalue = [4, 0, 38]'),\n",
       " Text(396.79999999999995, 43.488, 'gini = 0.0\\nsamples = 62\\nvalue = [0, 0, 62]'),\n",
       " Text(595.1999999999999, 217.44, 'X[1] <= 12.5\\ngini = 0.451\\nsamples = 122\\nvalue = [38, 2, 82]'),\n",
       " Text(495.99999999999994, 130.464, 'gini = 0.0\\nsamples = 7\\nvalue = [7, 0, 0]'),\n",
       " Text(694.3999999999999, 130.464, 'X[2] <= 5.05\\ngini = 0.419\\nsamples = 115\\nvalue = [31, 2, 82]'),\n",
       " Text(595.1999999999999, 43.488, 'gini = 0.475\\nsamples = 92\\nvalue = [31, 2, 59]'),\n",
       " Text(793.5999999999999, 43.488, 'gini = 0.0\\nsamples = 23\\nvalue = [0, 0, 23]'),\n",
       " Text(595.1999999999999, 304.416, 'gini = 0.0\\nsamples = 13\\nvalue = [13, 0, 0]')]"
      ]
     },
     "execution_count": 33,
     "metadata": {},
     "output_type": "execute_result"
    },
    {
     "data": {
      "image/png": "[encoded data removed]",
      "text/plain": [
       "<Figure size 1152x576 with 1 Axes>"
      ]
     },
     "metadata": {
      "needs_background": "light"
     },
     "output_type": "display_data"
    }
   ],
   "source": [
    "tree.plot_tree(clf)"
   ]
  },
  {
   "cell_type": "code",
   "execution_count": 34,
   "id": "78506938-e746-4ced-8c98-299ed0ac06bd",
   "metadata": {},
   "outputs": [],
   "source": [
    "from sklearn.tree import export_text"
   ]
  },
  {
   "cell_type": "code",
   "execution_count": 35,
   "id": "9a4696eb-db85-4e24-8296-aeeeb2850707",
   "metadata": {},
   "outputs": [
    {
     "name": "stdout",
     "output_type": "stream",
     "text": [
      "|--- 1Y_GENERIC <= 5.63\n",
      "|   |--- 1Y_GENERIC <= 1.53\n",
      "|   |   |--- 1Y_GENERIC <= 0.09\n",
      "|   |   |   |--- class: 0\n",
      "|   |   |--- 1Y_GENERIC >  0.09\n",
      "|   |   |   |--- 1Y_GENERIC <= 0.20\n",
      "|   |   |   |   |--- class: 1\n",
      "|   |   |   |--- 1Y_GENERIC >  0.20\n",
      "|   |   |   |   |--- class: 1\n",
      "|   |--- 1Y_GENERIC >  1.53\n",
      "|   |   |--- Fwd_PE_RATIO <= 12.50\n",
      "|   |   |   |--- class: -1\n",
      "|   |   |--- Fwd_PE_RATIO >  12.50\n",
      "|   |   |   |--- 5Y_GENERIC <= 5.05\n",
      "|   |   |   |   |--- class: 1\n",
      "|   |   |   |--- 5Y_GENERIC >  5.05\n",
      "|   |   |   |   |--- class: 1\n",
      "|--- 1Y_GENERIC >  5.63\n",
      "|   |--- class: -1\n",
      "\n"
     ]
    }
   ],
   "source": [
    "r = export_text(clf, feature_names=features)\n",
    "print(r)"
   ]
  },
  {
   "cell_type": "code",
   "execution_count": 36,
   "id": "081d85e0-f887-4035-a1a1-1ad9ec742fe7",
   "metadata": {},
   "outputs": [],
   "source": [
    "y_pred = clf.predict(X_test)"
   ]
  },
  {
   "cell_type": "code",
   "execution_count": 37,
   "id": "f7101319-7ccb-4445-8d44-0dda7fb44f8a",
   "metadata": {},
   "outputs": [
    {
     "name": "stdout",
     "output_type": "stream",
     "text": [
      "Accuracy: 0.7916666666666666\n"
     ]
    }
   ],
   "source": [
    "from sklearn import metrics\n",
    "print(\"Accuracy:\",metrics.accuracy_score(y_classificated_test, y_pred))"
   ]
  },
  {
   "cell_type": "code",
   "execution_count": 38,
   "id": "53ede9d1-fb0a-4994-a6df-9400d9fd9e86",
   "metadata": {},
   "outputs": [
    {
     "name": "stdout",
     "output_type": "stream",
     "text": [
      "Precision: [0.         0.14285714 0.90243902]\n"
     ]
    },
    {
     "name": "stderr",
     "output_type": "stream",
     "text": [
      "C:\\Users\\User\\anaconda3\\lib\\site-packages\\sklearn\\metrics\\_classification.py:1248: UndefinedMetricWarning: Precision is ill-defined and being set to 0.0 in labels with no predicted samples. Use `zero_division` parameter to control this behavior.\n",
      "  _warn_prf(average, modifier, msg_start, len(result))\n"
     ]
    }
   ],
   "source": [
    "precision_tree = metrics.precision_score(y_classificated_test, y_pred, average=None)\n",
    "print(\"Precision:\", precision_tree)"
   ]
  },
  {
   "cell_type": "code",
   "execution_count": 39,
   "id": "129f5c50-3fdf-4905-9ac9-06f2e8f9ea04",
   "metadata": {},
   "outputs": [
    {
     "name": "stdout",
     "output_type": "stream",
     "text": [
      "Recall: [0.    0.5   0.925]\n"
     ]
    }
   ],
   "source": [
    "recall_tree = metrics.recall_score(y_classificated_test, y_pred, average=None)\n",
    "print(\"Recall:\", recall_tree)"
   ]
  },
  {
   "cell_type": "code",
   "execution_count": 40,
   "id": "e54f7e57-10b1-4831-bc41-ad5b6d8ec47e",
   "metadata": {},
   "outputs": [
    {
     "data": {
      "text/plain": [
       "array([ 1,  1,  1,  1, -1, -1,  1,  1,  1,  1,  1,  1,  1,  1,  1,  1,  1,\n",
       "        1,  1, -1,  0,  1,  1,  1,  1,  1,  1,  1,  1,  1,  1,  1,  1,  1,\n",
       "        1,  1,  1,  1,  1,  1,  1,  1,  1,  1,  0, -1, -1, -1])"
      ]
     },
     "execution_count": 40,
     "metadata": {},
     "output_type": "execute_result"
    }
   ],
   "source": [
    "y_classificated_test"
   ]
  },
  {
   "cell_type": "code",
   "execution_count": 41,
   "id": "c4048589-1991-48fb-9845-4d9e42fbb5b7",
   "metadata": {},
   "outputs": [
    {
     "data": {
      "text/plain": [
       "array([1, 1, 1, 1, 1, 1, 1, 1, 1, 1, 1, 1, 1, 1, 1, 1, 1, 1, 1, 1, 1, 1,\n",
       "       1, 1, 1, 1, 1, 1, 1, 1, 1, 1, 1, 1, 1, 1, 1, 1, 1, 1, 1, 0, 0, 0,\n",
       "       0, 0, 0, 0])"
      ]
     },
     "execution_count": 41,
     "metadata": {},
     "output_type": "execute_result"
    }
   ],
   "source": [
    "y_pred"
   ]
  },
  {
   "cell_type": "markdown",
   "id": "bde94ecc-5915-47be-ae90-b1ee97e49c8a",
   "metadata": {
    "jp-MarkdownHeadingCollapsed": true,
    "tags": []
   },
   "source": [
    "### Viz the tree"
   ]
  },
  {
   "cell_type": "code",
   "execution_count": 42,
   "id": "97f71a6e-5728-48bb-b4e4-0160bade37d5",
   "metadata": {},
   "outputs": [],
   "source": [
    "# from sklearn.tree import export_graphviz\n",
    "# from sklearn.externals.six import StringIO  \n",
    "# from IPython.display import Image  \n",
    "# import pydotplus\n",
    "\n",
    "# dot_data = StringIO()\n",
    "# export_graphviz(clf, out_file=dot_data,  \n",
    "#                 filled=True, rounded=True,\n",
    "#                 special_characters=True,feature_names = features,class_names=['3','4','5'])\n",
    "# graph = pydotplus.graph_from_dot_data(dot_data.getvalue())  \n",
    "# graph.write_png('diabetes.png')\n",
    "# Image(graph.create_png())"
   ]
  },
  {
   "cell_type": "markdown",
   "id": "8ee82aed-3782-4545-b0d9-da5c77aa1801",
   "metadata": {},
   "source": [
    "### Grid search for the tree"
   ]
  },
  {
   "cell_type": "code",
   "execution_count": 43,
   "id": "60279103-263f-4764-a7ac-53af12bdfdbd",
   "metadata": {},
   "outputs": [],
   "source": [
    "from sklearn.model_selection import RandomizedSearchCV\n",
    "from sklearn.pipeline import Pipeline\n",
    "from sklearn.metrics import classification_report"
   ]
  },
  {
   "cell_type": "code",
   "execution_count": 44,
   "id": "df3bbc2a-97c7-4f54-b680-f429ded30351",
   "metadata": {},
   "outputs": [],
   "source": [
    "# hyperparameter tuning\n",
    "def grid_search():\n",
    "    param_grid = {\n",
    "        'max_depth': [2,3,4],\n",
    "        'min_samples_leaf': [3 , 8 ,10],\n",
    "        'class_weight': [\n",
    "                         {-1: 3, 0: 2, 1:3},\n",
    "                         {-1: 2, 0: 1, 1:2},\n",
    "                         {-1: 7, 0: 1, 1:5}\n",
    "                        ]\n",
    "    }\n",
    "    \n",
    "    clf = tree.DecisionTreeClassifier(random_state=4)\n",
    "    search = RandomizedSearchCV(clf, param_grid, cv=5, n_jobs=-1, verbose=3)\n",
    "    search.fit(X_train,y_classificated_train)\n",
    "\n",
    "    print(\"Best parameter (CV score=%0.3f):\" % search.best_score_)\n",
    "    print(search.best_params_)"
   ]
  },
  {
   "cell_type": "code",
   "execution_count": 45,
   "id": "20ef412f-1264-4fe4-8e25-d622f61004db",
   "metadata": {},
   "outputs": [
    {
     "name": "stdout",
     "output_type": "stream",
     "text": [
      "Fitting 5 folds for each of 10 candidates, totalling 50 fits\n"
     ]
    },
    {
     "name": "stderr",
     "output_type": "stream",
     "text": [
      "C:\\Users\\User\\anaconda3\\lib\\site-packages\\sklearn\\model_selection\\_split.py:666: UserWarning: The least populated class in y has only 3 members, which is less than n_splits=5.\n",
      "  warnings.warn((\"The least populated class in y has only %d\"\n"
     ]
    },
    {
     "name": "stdout",
     "output_type": "stream",
     "text": [
      "Best parameter (CV score=0.640):\n",
      "{'min_samples_leaf': 10, 'max_depth': 2, 'class_weight': {-1: 3, 0: 2, 1: 3}}\n",
      "execution time in minutes:  0.08366516828536988\n"
     ]
    }
   ],
   "source": [
    "start = time.time()\n",
    "\n",
    "grid_search()\n",
    "\n",
    "end = time.time()\n",
    "print('execution time in minutes: ', (end - start)/60) "
   ]
  },
  {
   "cell_type": "code",
   "execution_count": 68,
   "id": "d4bd4ce4-6e4e-4bff-8825-7ab58834faf5",
   "metadata": {},
   "outputs": [
    {
     "name": "stderr",
     "output_type": "stream",
     "text": [
      "C:\\Users\\User\\anaconda3\\lib\\site-packages\\sklearn\\metrics\\_classification.py:1248: UndefinedMetricWarning: Precision is ill-defined and being set to 0.0 in labels with no predicted samples. Use `zero_division` parameter to control this behavior.\n",
      "  _warn_prf(average, modifier, msg_start, len(result))\n"
     ]
    }
   ],
   "source": [
    "clf = tree.DecisionTreeClassifier(random_state=4, max_depth=2, min_samples_leaf=10, class_weight={-1: 3, 0: 1, 1: 3})\n",
    "clf.fit(X_train,y_classificated_train)\n",
    "y_pred = clf.predict(X_test)\n",
    "precision_tree = metrics.precision_score(y_classificated_test, y_pred, average=None)\n",
    "recall_tree = metrics.recall_score(y_classificated_test, y_pred, average=None)"
   ]
  },
  {
   "cell_type": "code",
   "execution_count": 69,
   "id": "1127687b-c29c-4f21-8383-b421fd10b11f",
   "metadata": {},
   "outputs": [
    {
     "data": {
      "text/plain": [
       "array([0.        , 0.        , 0.83333333])"
      ]
     },
     "execution_count": 69,
     "metadata": {},
     "output_type": "execute_result"
    }
   ],
   "source": [
    "precision_tree"
   ]
  },
  {
   "cell_type": "code",
   "execution_count": 70,
   "id": "4fff477f-c69a-4483-841f-2d92174ec2a9",
   "metadata": {},
   "outputs": [
    {
     "data": {
      "text/plain": [
       "array([0., 0., 1.])"
      ]
     },
     "execution_count": 70,
     "metadata": {},
     "output_type": "execute_result"
    }
   ],
   "source": [
    "recall_tree"
   ]
  },
  {
   "cell_type": "markdown",
   "id": "a7b61ede-ab8d-425e-b3f3-fed55dbbad1d",
   "metadata": {},
   "source": [
    "## RandomForestClassifier"
   ]
  },
  {
   "cell_type": "code",
   "execution_count": 49,
   "id": "1d1c1011-f090-4849-8e6f-50a3ec85405f",
   "metadata": {},
   "outputs": [],
   "source": [
    "from sklearn.ensemble import RandomForestClassifier"
   ]
  },
  {
   "cell_type": "code",
   "execution_count": 50,
   "id": "dc4e6dcb-05fa-46dd-bb1b-a455415fccf8",
   "metadata": {},
   "outputs": [],
   "source": [
    "pipline = Pipeline(steps=[\n",
    "    ('model', RandomForestClassifier())\n",
    "])"
   ]
  },
  {
   "cell_type": "markdown",
   "id": "ff7c5278-de59-43b5-92a3-72fe8419234b",
   "metadata": {},
   "source": [
    "Possible scorings: https://scikit-learn.org/stable/modules/model_evaluation.html#scoring-parameter"
   ]
  },
  {
   "cell_type": "code",
   "execution_count": 51,
   "id": "ad055dfa-890e-4e70-a305-4308f825c0a7",
   "metadata": {},
   "outputs": [],
   "source": [
    "# hyperparameter tuning\n",
    "def grid_search():\n",
    "    param_grid = {\n",
    "        'model__n_estimators': n_estimators,\n",
    "        'model__max_features': max_features,\n",
    "        'model__max_depth': max_depth,\n",
    "        'model__min_samples_split': min_samples_split,\n",
    "        'model__min_samples_leaf': min_samples_leaf,\n",
    "        'model__bootstrap': bootstrap\n",
    "    }\n",
    "    global search\n",
    "    global scoring\n",
    "    scoring = 'f1_macro'\n",
    "    search = RandomizedSearchCV(pipline, param_grid, cv=5, n_jobs=-1, verbose=3, scoring=scoring)\n",
    "    search.fit(X_train,y_classificated_train)\n",
    "\n",
    "    print(\"Best parameter (CV score=%0.3f):\" % search.best_score_)\n",
    "    print(search.best_params_)"
   ]
  },
  {
   "cell_type": "code",
   "execution_count": 52,
   "id": "080a7e71-dbc2-44d3-8f41-03f070313361",
   "metadata": {},
   "outputs": [
    {
     "name": "stdout",
     "output_type": "stream",
     "text": [
      "Fitting 5 folds for each of 10 candidates, totalling 50 fits\n"
     ]
    },
    {
     "name": "stderr",
     "output_type": "stream",
     "text": [
      "C:\\Users\\User\\anaconda3\\lib\\site-packages\\sklearn\\model_selection\\_split.py:666: UserWarning: The least populated class in y has only 3 members, which is less than n_splits=5.\n",
      "  warnings.warn((\"The least populated class in y has only %d\"\n"
     ]
    },
    {
     "name": "stdout",
     "output_type": "stream",
     "text": [
      "Best parameter (CV score=0.391):\n",
      "{'model__n_estimators': 831, 'model__min_samples_split': 10, 'model__min_samples_leaf': 1, 'model__max_features': 'auto', 'model__max_depth': 6, 'model__bootstrap': False}\n",
      "execution time in minutes:  0.5429387132326762\n"
     ]
    }
   ],
   "source": [
    "start = time.time()\n",
    "\n",
    "grid_search()\n",
    "\n",
    "end = time.time()\n",
    "print('execution time in minutes: ', (end - start)/60)"
   ]
  },
  {
   "cell_type": "code",
   "execution_count": 53,
   "id": "24d02def-bb63-4923-9aa4-4d091779cca1",
   "metadata": {},
   "outputs": [
    {
     "data": {
      "text/html": [
       "<div>\n",
       "<style scoped>\n",
       "    .dataframe tbody tr th:only-of-type {\n",
       "        vertical-align: middle;\n",
       "    }\n",
       "\n",
       "    .dataframe tbody tr th {\n",
       "        vertical-align: top;\n",
       "    }\n",
       "\n",
       "    .dataframe thead th {\n",
       "        text-align: right;\n",
       "    }\n",
       "</style>\n",
       "<table border=\"1\" class=\"dataframe\">\n",
       "  <thead>\n",
       "    <tr style=\"text-align: right;\">\n",
       "      <th></th>\n",
       "      <th>model__n_estimators</th>\n",
       "      <th>model__min_samples_split</th>\n",
       "      <th>model__min_samples_leaf</th>\n",
       "      <th>model__max_features</th>\n",
       "      <th>model__max_depth</th>\n",
       "      <th>model__bootstrap</th>\n",
       "    </tr>\n",
       "  </thead>\n",
       "  <tbody>\n",
       "    <tr>\n",
       "      <th>0</th>\n",
       "      <td>831</td>\n",
       "      <td>10</td>\n",
       "      <td>1</td>\n",
       "      <td>auto</td>\n",
       "      <td>6</td>\n",
       "      <td>False</td>\n",
       "    </tr>\n",
       "  </tbody>\n",
       "</table>\n",
       "</div>"
      ],
      "text/plain": [
       "   model__n_estimators  model__min_samples_split  model__min_samples_leaf  \\\n",
       "0                  831                        10                        1   \n",
       "\n",
       "  model__max_features  model__max_depth  model__bootstrap  \n",
       "0                auto                 6             False  "
      ]
     },
     "execution_count": 53,
     "metadata": {},
     "output_type": "execute_result"
    }
   ],
   "source": [
    "optimal_parameters = search.best_params_.copy()\n",
    "optimal_parameters = pd.DataFrame([optimal_parameters])\n",
    "optimal_parameters"
   ]
  },
  {
   "cell_type": "code",
   "execution_count": 54,
   "id": "8ad68d56-3802-4924-8a86-be3c698abf91",
   "metadata": {},
   "outputs": [
    {
     "data": {
      "text/plain": [
       "RandomForestClassifier(bootstrap=False, max_depth=6, min_samples_split=10,\n",
       "                       n_estimators=831)"
      ]
     },
     "execution_count": 54,
     "metadata": {},
     "output_type": "execute_result"
    }
   ],
   "source": [
    "rf = RandomForestClassifier(n_estimators=optimal_parameters['model__n_estimators'][0],\n",
    "                            min_samples_split=optimal_parameters['model__min_samples_split'][0],\n",
    "                            min_samples_leaf=optimal_parameters['model__min_samples_leaf'][0],\n",
    "                            max_features=optimal_parameters['model__max_features'][0],\n",
    "                            max_depth=optimal_parameters['model__max_depth'][0],\n",
    "                            bootstrap=optimal_parameters['model__bootstrap'][0])\n",
    "rf.fit(X_train,y_classificated_train)"
   ]
  },
  {
   "cell_type": "code",
   "execution_count": 55,
   "id": "ad7df697",
   "metadata": {},
   "outputs": [
    {
     "name": "stderr",
     "output_type": "stream",
     "text": [
      "C:\\Users\\User\\anaconda3\\lib\\site-packages\\sklearn\\metrics\\_classification.py:1248: UndefinedMetricWarning: Precision is ill-defined and being set to 0.0 in labels with no predicted samples. Use `zero_division` parameter to control this behavior.\n",
      "  _warn_prf(average, modifier, msg_start, len(result))\n"
     ]
    }
   ],
   "source": [
    "y_pred = rf.predict(X_test)\n",
    "precision_rf = metrics.precision_score(y_classificated_test, y_pred, average=None).round(3)\n",
    "recall_rf = metrics.recall_score(y_classificated_test, y_pred, average=None).round(3)"
   ]
  },
  {
   "cell_type": "code",
   "execution_count": 56,
   "id": "af12f924",
   "metadata": {},
   "outputs": [],
   "source": [
    "# X_test"
   ]
  },
  {
   "cell_type": "code",
   "execution_count": 57,
   "id": "ca1bb1a7",
   "metadata": {},
   "outputs": [
    {
     "data": {
      "text/plain": [
       "array([ 1,  1,  1,  1,  1,  1,  1,  1,  1,  1,  1,  1,  1,  1,  1,  1,  1,\n",
       "        1,  1,  1,  1,  1,  1,  1,  1,  1,  1,  1,  1,  1,  1,  1,  1,  1,\n",
       "        1,  1,  1,  1,  1,  1,  1,  1,  1,  1,  1, -1, -1, -1])"
      ]
     },
     "execution_count": 57,
     "metadata": {},
     "output_type": "execute_result"
    }
   ],
   "source": [
    "y_pred"
   ]
  },
  {
   "cell_type": "code",
   "execution_count": 58,
   "id": "1dcc5e60",
   "metadata": {},
   "outputs": [
    {
     "data": {
      "text/plain": [
       "array([ 1,  1,  1,  1, -1, -1,  1,  1,  1,  1,  1,  1,  1,  1,  1,  1,  1,\n",
       "        1,  1, -1,  0,  1,  1,  1,  1,  1,  1,  1,  1,  1,  1,  1,  1,  1,\n",
       "        1,  1,  1,  1,  1,  1,  1,  1,  1,  1,  0, -1, -1, -1])"
      ]
     },
     "execution_count": 58,
     "metadata": {},
     "output_type": "execute_result"
    }
   ],
   "source": [
    "y_classificated_test"
   ]
  },
  {
   "cell_type": "code",
   "execution_count": 59,
   "id": "bc11755f-523a-476a-b05e-855428b31466",
   "metadata": {},
   "outputs": [
    {
     "data": {
      "text/plain": [
       "array([1.   , 0.   , 0.889])"
      ]
     },
     "execution_count": 59,
     "metadata": {},
     "output_type": "execute_result"
    }
   ],
   "source": [
    "precision_rf"
   ]
  },
  {
   "cell_type": "code",
   "execution_count": 60,
   "id": "799c0e05-60c0-4329-9acc-255e39116231",
   "metadata": {},
   "outputs": [
    {
     "data": {
      "text/plain": [
       "array([0.5, 0. , 1. ])"
      ]
     },
     "execution_count": 60,
     "metadata": {},
     "output_type": "execute_result"
    }
   ],
   "source": [
    "recall_rf"
   ]
  },
  {
   "cell_type": "markdown",
   "id": "792d89de",
   "metadata": {},
   "source": [
    "### This month"
   ]
  },
  {
   "cell_type": "code",
   "execution_count": 61,
   "id": "5cc8968a",
   "metadata": {},
   "outputs": [
    {
     "data": {
      "text/plain": [
       "array([1])"
      ]
     },
     "execution_count": 61,
     "metadata": {},
     "output_type": "execute_result"
    }
   ],
   "source": [
    "y_pred_this_month = rf.predict(X_this_month)\n",
    "y_pred_this_month"
   ]
  },
  {
   "cell_type": "markdown",
   "id": "4c989b5c",
   "metadata": {},
   "source": [
    "### Results"
   ]
  },
  {
   "cell_type": "code",
   "execution_count": 62,
   "id": "d59398fd-4b03-4349-8071-8c5d8bb65fe2",
   "metadata": {},
   "outputs": [],
   "source": [
    "rf_results = search.best_params_.copy()\n",
    "rf_results.update({'days for test' : days_for_test,\n",
    "                   'Regression R^2 of train' : r_sqr_train,\n",
    "                   'Regression R^2 of test' : r_sqr_test,\n",
    "                   'Tree_precision' : precision_tree,\n",
    "                   'Tree_recall' : recall_tree,\n",
    "                    'Forest_Scoring' : scoring,\n",
    "                    'Forest_Precision' : precision_rf,\n",
    "                   'Forest_Recall' : recall_rf,\n",
    "                    'Forest_Target' : target,\n",
    "                    'Range' : (decline, increase),\n",
    "                     'Forest_y_pred' : y_pred,\n",
    "                     'Forest_y_test' : y_classificated_test,\n",
    "                       'features' : features,\n",
    "                      'A forecast for the next year' : y_pred_this_month})"
   ]
  },
  {
   "cell_type": "code",
   "execution_count": 63,
   "id": "3bb31d30-b403-45e9-b5c5-bb3297c1acc9",
   "metadata": {},
   "outputs": [
    {
     "data": {
      "text/html": [
       "<div>\n",
       "<style scoped>\n",
       "    .dataframe tbody tr th:only-of-type {\n",
       "        vertical-align: middle;\n",
       "    }\n",
       "\n",
       "    .dataframe tbody tr th {\n",
       "        vertical-align: top;\n",
       "    }\n",
       "\n",
       "    .dataframe thead th {\n",
       "        text-align: right;\n",
       "    }\n",
       "</style>\n",
       "<table border=\"1\" class=\"dataframe\">\n",
       "  <thead>\n",
       "    <tr style=\"text-align: right;\">\n",
       "      <th></th>\n",
       "      <th>model__n_estimators</th>\n",
       "      <th>model__min_samples_split</th>\n",
       "      <th>model__min_samples_leaf</th>\n",
       "      <th>model__max_features</th>\n",
       "      <th>model__max_depth</th>\n",
       "      <th>model__bootstrap</th>\n",
       "      <th>days for test</th>\n",
       "      <th>Regression R^2 of train</th>\n",
       "      <th>Regression R^2 of test</th>\n",
       "      <th>Tree_precision</th>\n",
       "      <th>Tree_recall</th>\n",
       "      <th>Forest_Scoring</th>\n",
       "      <th>Forest_Precision</th>\n",
       "      <th>Forest_Recall</th>\n",
       "      <th>Forest_Target</th>\n",
       "      <th>Range</th>\n",
       "      <th>Forest_y_pred</th>\n",
       "      <th>Forest_y_test</th>\n",
       "      <th>features</th>\n",
       "      <th>A forecast for the next year</th>\n",
       "    </tr>\n",
       "  </thead>\n",
       "  <tbody>\n",
       "    <tr>\n",
       "      <th>0</th>\n",
       "      <td>831</td>\n",
       "      <td>10</td>\n",
       "      <td>1</td>\n",
       "      <td>auto</td>\n",
       "      <td>6</td>\n",
       "      <td>False</td>\n",
       "      <td>48</td>\n",
       "      <td>0.275581</td>\n",
       "      <td>-0.339252</td>\n",
       "      <td>[0.0, 0.0, 0.8333333333333334]</td>\n",
       "      <td>[0.0, 0.0, 1.0]</td>\n",
       "      <td>f1_macro</td>\n",
       "      <td>[1.0, 0.0, 0.889]</td>\n",
       "      <td>[0.5, 0.0, 1.0]</td>\n",
       "      <td>S&amp;P_500_FORWARD_1_YEAR_GAIN</td>\n",
       "      <td>(-0.1, 1)</td>\n",
       "      <td>[1, 1, 1, 1, 1, 1, 1, 1, 1, 1, 1, 1, 1, 1, 1, ...</td>\n",
       "      <td>[1, 1, 1, 1, -1, -1, 1, 1, 1, 1, 1, 1, 1, 1, 1...</td>\n",
       "      <td>[PE_RATIO, Fwd_PE_RATIO, 5Y_GENERIC, 1Y_GENERI...</td>\n",
       "      <td>[1]</td>\n",
       "    </tr>\n",
       "  </tbody>\n",
       "</table>\n",
       "</div>"
      ],
      "text/plain": [
       "   model__n_estimators  model__min_samples_split  model__min_samples_leaf  \\\n",
       "0                  831                        10                        1   \n",
       "\n",
       "  model__max_features  model__max_depth  model__bootstrap  days for test  \\\n",
       "0                auto                 6             False             48   \n",
       "\n",
       "   Regression R^2 of train  Regression R^2 of test  \\\n",
       "0                 0.275581               -0.339252   \n",
       "\n",
       "                   Tree_precision      Tree_recall Forest_Scoring  \\\n",
       "0  [0.0, 0.0, 0.8333333333333334]  [0.0, 0.0, 1.0]       f1_macro   \n",
       "\n",
       "    Forest_Precision    Forest_Recall                Forest_Target      Range  \\\n",
       "0  [1.0, 0.0, 0.889]  [0.5, 0.0, 1.0]  S&P_500_FORWARD_1_YEAR_GAIN  (-0.1, 1)   \n",
       "\n",
       "                                       Forest_y_pred  \\\n",
       "0  [1, 1, 1, 1, 1, 1, 1, 1, 1, 1, 1, 1, 1, 1, 1, ...   \n",
       "\n",
       "                                       Forest_y_test  \\\n",
       "0  [1, 1, 1, 1, -1, -1, 1, 1, 1, 1, 1, 1, 1, 1, 1...   \n",
       "\n",
       "                                            features  \\\n",
       "0  [PE_RATIO, Fwd_PE_RATIO, 5Y_GENERIC, 1Y_GENERI...   \n",
       "\n",
       "  A forecast for the next year  \n",
       "0                          [1]  "
      ]
     },
     "execution_count": 63,
     "metadata": {},
     "output_type": "execute_result"
    }
   ],
   "source": [
    "current_rf_results = pd.DataFrame([rf_results])\n",
    "current_rf_results"
   ]
  },
  {
   "cell_type": "code",
   "execution_count": 64,
   "id": "0784e0d7",
   "metadata": {},
   "outputs": [],
   "source": [
    "# only one time\n",
    "# current_rf_results.to_csv('rf_results.csv', index= False)"
   ]
  },
  {
   "cell_type": "code",
   "execution_count": 65,
   "id": "b60f3e1c-e214-4fb7-b0c6-695043d4b66a",
   "metadata": {},
   "outputs": [
    {
     "data": {
      "text/html": [
       "<div>\n",
       "<style scoped>\n",
       "    .dataframe tbody tr th:only-of-type {\n",
       "        vertical-align: middle;\n",
       "    }\n",
       "\n",
       "    .dataframe tbody tr th {\n",
       "        vertical-align: top;\n",
       "    }\n",
       "\n",
       "    .dataframe thead th {\n",
       "        text-align: right;\n",
       "    }\n",
       "</style>\n",
       "<table border=\"1\" class=\"dataframe\">\n",
       "  <thead>\n",
       "    <tr style=\"text-align: right;\">\n",
       "      <th></th>\n",
       "      <th>model__n_estimators</th>\n",
       "      <th>model__min_samples_split</th>\n",
       "      <th>model__min_samples_leaf</th>\n",
       "      <th>model__max_features</th>\n",
       "      <th>model__max_depth</th>\n",
       "      <th>model__bootstrap</th>\n",
       "      <th>days for test</th>\n",
       "      <th>Regression R^2 of train</th>\n",
       "      <th>Regression R^2 of test</th>\n",
       "      <th>Tree_precision</th>\n",
       "      <th>Tree_recall</th>\n",
       "      <th>Forest_Scoring</th>\n",
       "      <th>Forest_Precision</th>\n",
       "      <th>Forest_Recall</th>\n",
       "      <th>Forest_Target</th>\n",
       "      <th>Range</th>\n",
       "      <th>Forest_y_pred</th>\n",
       "      <th>Forest_y_test</th>\n",
       "      <th>features</th>\n",
       "      <th>A forecast for the next year</th>\n",
       "    </tr>\n",
       "  </thead>\n",
       "  <tbody>\n",
       "    <tr>\n",
       "      <th>0</th>\n",
       "      <td>200</td>\n",
       "      <td>10</td>\n",
       "      <td>2</td>\n",
       "      <td>auto</td>\n",
       "      <td>5</td>\n",
       "      <td>False</td>\n",
       "      <td>48</td>\n",
       "      <td>0.275581</td>\n",
       "      <td>-0.339252</td>\n",
       "      <td>[0.         0.         0.83333333]</td>\n",
       "      <td>[0. 0. 1.]</td>\n",
       "      <td>f1_macro</td>\n",
       "      <td>[1.    0.    0.889]</td>\n",
       "      <td>[0.5 0.  1. ]</td>\n",
       "      <td>S&amp;P_500_FORWARD_1_YEAR_GAIN</td>\n",
       "      <td>(-0.1, 1)</td>\n",
       "      <td>[ 1  1  1  1  1  1  1  1  1  1  1  1  1  1  1 ...</td>\n",
       "      <td>[ 1  1  1  1 -1 -1  1  1  1  1  1  1  1  1  1 ...</td>\n",
       "      <td>['PE_RATIO', 'Fwd_PE_RATIO', '5Y_GENERIC', '1Y...</td>\n",
       "      <td>[1]</td>\n",
       "    </tr>\n",
       "    <tr>\n",
       "      <th>1</th>\n",
       "      <td>747</td>\n",
       "      <td>10</td>\n",
       "      <td>1</td>\n",
       "      <td>sqrt</td>\n",
       "      <td>5</td>\n",
       "      <td>True</td>\n",
       "      <td>48</td>\n",
       "      <td>0.093398</td>\n",
       "      <td>-0.636076</td>\n",
       "      <td>[0.22222222 0.         0.84615385]</td>\n",
       "      <td>[0.33333333 0.         0.825     ]</td>\n",
       "      <td>f1_macro</td>\n",
       "      <td>[0.286 0.    0.854]</td>\n",
       "      <td>[0.333 0.    0.875]</td>\n",
       "      <td>S&amp;P_500_FORWARD_1_YEAR_GAIN</td>\n",
       "      <td>(-0.1, 1)</td>\n",
       "      <td>[ 1  1  1  1  1  1  1  1  1  1  1  1  1  1  1 ...</td>\n",
       "      <td>[ 1  1  1  1 -1 -1  1  1  1  1  1  1  1  1  1 ...</td>\n",
       "      <td>['PE_RATIO']</td>\n",
       "      <td>[1]</td>\n",
       "    </tr>\n",
       "    <tr>\n",
       "      <th>2</th>\n",
       "      <td>494</td>\n",
       "      <td>2</td>\n",
       "      <td>1</td>\n",
       "      <td>auto</td>\n",
       "      <td>3</td>\n",
       "      <td>False</td>\n",
       "      <td>48</td>\n",
       "      <td>0.075599</td>\n",
       "      <td>-0.609980</td>\n",
       "      <td>[0.21428571 0.         0.88235294]</td>\n",
       "      <td>[0.5  0.   0.75]</td>\n",
       "      <td>f1_macro</td>\n",
       "      <td>[0.214 0.    0.882]</td>\n",
       "      <td>[0.5  0.   0.75]</td>\n",
       "      <td>S&amp;P_500_FORWARD_1_YEAR_GAIN</td>\n",
       "      <td>(-0.1, 1)</td>\n",
       "      <td>[ 1  1  1  1  1  1  1  1  1  1  1  1  1  1  1 ...</td>\n",
       "      <td>[ 1  1  1  1 -1 -1  1  1  1  1  1  1  1  1  1 ...</td>\n",
       "      <td>['Fwd_PE_RATIO']</td>\n",
       "      <td>[1]</td>\n",
       "    </tr>\n",
       "    <tr>\n",
       "      <th>3</th>\n",
       "      <td>915</td>\n",
       "      <td>5</td>\n",
       "      <td>1</td>\n",
       "      <td>auto</td>\n",
       "      <td>5</td>\n",
       "      <td>True</td>\n",
       "      <td>48</td>\n",
       "      <td>0.122505</td>\n",
       "      <td>0.175846</td>\n",
       "      <td>[0.         0.         0.83333333]</td>\n",
       "      <td>[0. 0. 1.]</td>\n",
       "      <td>f1_macro</td>\n",
       "      <td>[0.    0.    0.826]</td>\n",
       "      <td>[0.   0.   0.95]</td>\n",
       "      <td>S&amp;P_500_FORWARD_1_YEAR_GAIN</td>\n",
       "      <td>(-0.1, 1)</td>\n",
       "      <td>[ 1  1  1  1  1  1  1  1  1  1  1  1  1 -1 -1 ...</td>\n",
       "      <td>[ 1  1  1  1 -1 -1  1  1  1  1  1  1  1  1  1 ...</td>\n",
       "      <td>['5Y_GENERIC']</td>\n",
       "      <td>[1]</td>\n",
       "    </tr>\n",
       "    <tr>\n",
       "      <th>4</th>\n",
       "      <td>789</td>\n",
       "      <td>2</td>\n",
       "      <td>1</td>\n",
       "      <td>auto</td>\n",
       "      <td>2</td>\n",
       "      <td>True</td>\n",
       "      <td>48</td>\n",
       "      <td>0.109029</td>\n",
       "      <td>0.023948</td>\n",
       "      <td>[0.         0.         0.83333333]</td>\n",
       "      <td>[0. 0. 1.]</td>\n",
       "      <td>f1_macro</td>\n",
       "      <td>[0.    0.    0.833]</td>\n",
       "      <td>[0. 0. 1.]</td>\n",
       "      <td>S&amp;P_500_FORWARD_1_YEAR_GAIN</td>\n",
       "      <td>(-0.1, 1)</td>\n",
       "      <td>[1 1 1 1 1 1 1 1 1 1 1 1 1 1 1 1 1 1 1 1 1 1 1...</td>\n",
       "      <td>[ 1  1  1  1 -1 -1  1  1  1  1  1  1  1  1  1 ...</td>\n",
       "      <td>['1Y_GENERIC']</td>\n",
       "      <td>[1]</td>\n",
       "    </tr>\n",
       "    <tr>\n",
       "      <th>5</th>\n",
       "      <td>578</td>\n",
       "      <td>10</td>\n",
       "      <td>1</td>\n",
       "      <td>auto</td>\n",
       "      <td>3</td>\n",
       "      <td>False</td>\n",
       "      <td>48</td>\n",
       "      <td>0.104244</td>\n",
       "      <td>-0.624183</td>\n",
       "      <td>[0.33333333 0.         0.87179487]</td>\n",
       "      <td>[0.5  0.   0.85]</td>\n",
       "      <td>f1_macro</td>\n",
       "      <td>[0.333 0.    0.872]</td>\n",
       "      <td>[0.5  0.   0.85]</td>\n",
       "      <td>S&amp;P_500_FORWARD_1_YEAR_GAIN</td>\n",
       "      <td>(-0.1, 1)</td>\n",
       "      <td>[ 1  1  1  1  1 -1  1  1  1  1  1  1  1  1  1 ...</td>\n",
       "      <td>[ 1  1  1  1 -1 -1  1  1  1  1  1  1  1  1  1 ...</td>\n",
       "      <td>['PE_Yield']</td>\n",
       "      <td>[1]</td>\n",
       "    </tr>\n",
       "    <tr>\n",
       "      <th>6</th>\n",
       "      <td>831</td>\n",
       "      <td>5</td>\n",
       "      <td>2</td>\n",
       "      <td>auto</td>\n",
       "      <td>5</td>\n",
       "      <td>False</td>\n",
       "      <td>48</td>\n",
       "      <td>0.122573</td>\n",
       "      <td>-0.057850</td>\n",
       "      <td>[0.         0.         0.83333333]</td>\n",
       "      <td>[0. 0. 1.]</td>\n",
       "      <td>f1_macro</td>\n",
       "      <td>[0.    0.    0.833]</td>\n",
       "      <td>[0. 0. 1.]</td>\n",
       "      <td>S&amp;P_500_FORWARD_1_YEAR_GAIN</td>\n",
       "      <td>(-0.1, 1)</td>\n",
       "      <td>[1 1 1 1 1 1 1 1 1 1 1 1 1 1 1 1 1 1 1 1 1 1 1...</td>\n",
       "      <td>[ 1  1  1  1 -1 -1  1  1  1  1  1  1  1  1  1 ...</td>\n",
       "      <td>['FWD_PE_minus_5Y']</td>\n",
       "      <td>[1]</td>\n",
       "    </tr>\n",
       "    <tr>\n",
       "      <th>7</th>\n",
       "      <td>621</td>\n",
       "      <td>10</td>\n",
       "      <td>2</td>\n",
       "      <td>sqrt</td>\n",
       "      <td>5</td>\n",
       "      <td>False</td>\n",
       "      <td>48</td>\n",
       "      <td>0.042449</td>\n",
       "      <td>0.009978</td>\n",
       "      <td>[0.         0.         0.83333333]</td>\n",
       "      <td>[0. 0. 1.]</td>\n",
       "      <td>f1_macro</td>\n",
       "      <td>[0.25  0.    0.841]</td>\n",
       "      <td>[0.167 0.    0.925]</td>\n",
       "      <td>S&amp;P_500_FORWARD_1_YEAR_GAIN</td>\n",
       "      <td>(-0.1, 1)</td>\n",
       "      <td>[ 1  1  1  1  1  1  1  1  1  1  1  1  1  1  1 ...</td>\n",
       "      <td>[ 1  1  1  1 -1 -1  1  1  1  1  1  1  1  1  1 ...</td>\n",
       "      <td>['Expected_inflation_5Y']</td>\n",
       "      <td>[1]</td>\n",
       "    </tr>\n",
       "    <tr>\n",
       "      <th>8</th>\n",
       "      <td>1000</td>\n",
       "      <td>10</td>\n",
       "      <td>4</td>\n",
       "      <td>sqrt</td>\n",
       "      <td>4</td>\n",
       "      <td>False</td>\n",
       "      <td>48</td>\n",
       "      <td>0.127198</td>\n",
       "      <td>0.034929</td>\n",
       "      <td>[0.3        0.         0.89473684]</td>\n",
       "      <td>[0.5  0.   0.85]</td>\n",
       "      <td>f1_macro</td>\n",
       "      <td>[1.   0.   0.87]</td>\n",
       "      <td>[0.333 0.    1.   ]</td>\n",
       "      <td>S&amp;P_500_FORWARD_1_YEAR_GAIN</td>\n",
       "      <td>(-0.1, 1)</td>\n",
       "      <td>[ 1  1  1  1  1  1  1  1  1  1  1  1  1  1  1 ...</td>\n",
       "      <td>[ 1  1  1  1 -1 -1  1  1  1  1  1  1  1  1  1 ...</td>\n",
       "      <td>['CPI_YOY']</td>\n",
       "      <td>[-1]</td>\n",
       "    </tr>\n",
       "    <tr>\n",
       "      <th>9</th>\n",
       "      <td>621</td>\n",
       "      <td>2</td>\n",
       "      <td>2</td>\n",
       "      <td>auto</td>\n",
       "      <td>5</td>\n",
       "      <td>True</td>\n",
       "      <td>48</td>\n",
       "      <td>0.275581</td>\n",
       "      <td>-0.339252</td>\n",
       "      <td>[0.14285714 0.         0.65853659]</td>\n",
       "      <td>[1.         0.         0.93103448]</td>\n",
       "      <td>f1_macro</td>\n",
       "      <td>[0.    0.    0.604]</td>\n",
       "      <td>[0. 0. 1.]</td>\n",
       "      <td>S&amp;P_500_FORWARD_1_YEAR_GAIN</td>\n",
       "      <td>(-10, 10)</td>\n",
       "      <td>[1 1 1 1 1 1 1 1 1 1 1 1 1 1 1 1 1 1 1 1 1 1 1...</td>\n",
       "      <td>[ 1  1  0  0  0  0  0  0  1  0  1  0  0  0  1 ...</td>\n",
       "      <td>['PE_RATIO', 'Fwd_PE_RATIO', '5Y_GENERIC', '1Y...</td>\n",
       "      <td>[1]</td>\n",
       "    </tr>\n",
       "  </tbody>\n",
       "</table>\n",
       "</div>"
      ],
      "text/plain": [
       "   model__n_estimators  model__min_samples_split  model__min_samples_leaf  \\\n",
       "0                  200                        10                        2   \n",
       "1                  747                        10                        1   \n",
       "2                  494                         2                        1   \n",
       "3                  915                         5                        1   \n",
       "4                  789                         2                        1   \n",
       "5                  578                        10                        1   \n",
       "6                  831                         5                        2   \n",
       "7                  621                        10                        2   \n",
       "8                 1000                        10                        4   \n",
       "9                  621                         2                        2   \n",
       "\n",
       "  model__max_features  model__max_depth  model__bootstrap  days for test  \\\n",
       "0                auto                 5             False             48   \n",
       "1                sqrt                 5              True             48   \n",
       "2                auto                 3             False             48   \n",
       "3                auto                 5              True             48   \n",
       "4                auto                 2              True             48   \n",
       "5                auto                 3             False             48   \n",
       "6                auto                 5             False             48   \n",
       "7                sqrt                 5             False             48   \n",
       "8                sqrt                 4             False             48   \n",
       "9                auto                 5              True             48   \n",
       "\n",
       "   Regression R^2 of train  Regression R^2 of test  \\\n",
       "0                 0.275581               -0.339252   \n",
       "1                 0.093398               -0.636076   \n",
       "2                 0.075599               -0.609980   \n",
       "3                 0.122505                0.175846   \n",
       "4                 0.109029                0.023948   \n",
       "5                 0.104244               -0.624183   \n",
       "6                 0.122573               -0.057850   \n",
       "7                 0.042449                0.009978   \n",
       "8                 0.127198                0.034929   \n",
       "9                 0.275581               -0.339252   \n",
       "\n",
       "                       Tree_precision                         Tree_recall  \\\n",
       "0  [0.         0.         0.83333333]                          [0. 0. 1.]   \n",
       "1  [0.22222222 0.         0.84615385]  [0.33333333 0.         0.825     ]   \n",
       "2  [0.21428571 0.         0.88235294]                    [0.5  0.   0.75]   \n",
       "3  [0.         0.         0.83333333]                          [0. 0. 1.]   \n",
       "4  [0.         0.         0.83333333]                          [0. 0. 1.]   \n",
       "5  [0.33333333 0.         0.87179487]                    [0.5  0.   0.85]   \n",
       "6  [0.         0.         0.83333333]                          [0. 0. 1.]   \n",
       "7  [0.         0.         0.83333333]                          [0. 0. 1.]   \n",
       "8  [0.3        0.         0.89473684]                    [0.5  0.   0.85]   \n",
       "9  [0.14285714 0.         0.65853659]  [1.         0.         0.93103448]   \n",
       "\n",
       "  Forest_Scoring     Forest_Precision        Forest_Recall  \\\n",
       "0       f1_macro  [1.    0.    0.889]        [0.5 0.  1. ]   \n",
       "1       f1_macro  [0.286 0.    0.854]  [0.333 0.    0.875]   \n",
       "2       f1_macro  [0.214 0.    0.882]     [0.5  0.   0.75]   \n",
       "3       f1_macro  [0.    0.    0.826]     [0.   0.   0.95]   \n",
       "4       f1_macro  [0.    0.    0.833]           [0. 0. 1.]   \n",
       "5       f1_macro  [0.333 0.    0.872]     [0.5  0.   0.85]   \n",
       "6       f1_macro  [0.    0.    0.833]           [0. 0. 1.]   \n",
       "7       f1_macro  [0.25  0.    0.841]  [0.167 0.    0.925]   \n",
       "8       f1_macro     [1.   0.   0.87]  [0.333 0.    1.   ]   \n",
       "9       f1_macro  [0.    0.    0.604]           [0. 0. 1.]   \n",
       "\n",
       "                 Forest_Target      Range  \\\n",
       "0  S&P_500_FORWARD_1_YEAR_GAIN  (-0.1, 1)   \n",
       "1  S&P_500_FORWARD_1_YEAR_GAIN  (-0.1, 1)   \n",
       "2  S&P_500_FORWARD_1_YEAR_GAIN  (-0.1, 1)   \n",
       "3  S&P_500_FORWARD_1_YEAR_GAIN  (-0.1, 1)   \n",
       "4  S&P_500_FORWARD_1_YEAR_GAIN  (-0.1, 1)   \n",
       "5  S&P_500_FORWARD_1_YEAR_GAIN  (-0.1, 1)   \n",
       "6  S&P_500_FORWARD_1_YEAR_GAIN  (-0.1, 1)   \n",
       "7  S&P_500_FORWARD_1_YEAR_GAIN  (-0.1, 1)   \n",
       "8  S&P_500_FORWARD_1_YEAR_GAIN  (-0.1, 1)   \n",
       "9  S&P_500_FORWARD_1_YEAR_GAIN  (-10, 10)   \n",
       "\n",
       "                                       Forest_y_pred  \\\n",
       "0  [ 1  1  1  1  1  1  1  1  1  1  1  1  1  1  1 ...   \n",
       "1  [ 1  1  1  1  1  1  1  1  1  1  1  1  1  1  1 ...   \n",
       "2  [ 1  1  1  1  1  1  1  1  1  1  1  1  1  1  1 ...   \n",
       "3  [ 1  1  1  1  1  1  1  1  1  1  1  1  1 -1 -1 ...   \n",
       "4  [1 1 1 1 1 1 1 1 1 1 1 1 1 1 1 1 1 1 1 1 1 1 1...   \n",
       "5  [ 1  1  1  1  1 -1  1  1  1  1  1  1  1  1  1 ...   \n",
       "6  [1 1 1 1 1 1 1 1 1 1 1 1 1 1 1 1 1 1 1 1 1 1 1...   \n",
       "7  [ 1  1  1  1  1  1  1  1  1  1  1  1  1  1  1 ...   \n",
       "8  [ 1  1  1  1  1  1  1  1  1  1  1  1  1  1  1 ...   \n",
       "9  [1 1 1 1 1 1 1 1 1 1 1 1 1 1 1 1 1 1 1 1 1 1 1...   \n",
       "\n",
       "                                       Forest_y_test  \\\n",
       "0  [ 1  1  1  1 -1 -1  1  1  1  1  1  1  1  1  1 ...   \n",
       "1  [ 1  1  1  1 -1 -1  1  1  1  1  1  1  1  1  1 ...   \n",
       "2  [ 1  1  1  1 -1 -1  1  1  1  1  1  1  1  1  1 ...   \n",
       "3  [ 1  1  1  1 -1 -1  1  1  1  1  1  1  1  1  1 ...   \n",
       "4  [ 1  1  1  1 -1 -1  1  1  1  1  1  1  1  1  1 ...   \n",
       "5  [ 1  1  1  1 -1 -1  1  1  1  1  1  1  1  1  1 ...   \n",
       "6  [ 1  1  1  1 -1 -1  1  1  1  1  1  1  1  1  1 ...   \n",
       "7  [ 1  1  1  1 -1 -1  1  1  1  1  1  1  1  1  1 ...   \n",
       "8  [ 1  1  1  1 -1 -1  1  1  1  1  1  1  1  1  1 ...   \n",
       "9  [ 1  1  0  0  0  0  0  0  1  0  1  0  0  0  1 ...   \n",
       "\n",
       "                                            features  \\\n",
       "0  ['PE_RATIO', 'Fwd_PE_RATIO', '5Y_GENERIC', '1Y...   \n",
       "1                                       ['PE_RATIO']   \n",
       "2                                   ['Fwd_PE_RATIO']   \n",
       "3                                     ['5Y_GENERIC']   \n",
       "4                                     ['1Y_GENERIC']   \n",
       "5                                       ['PE_Yield']   \n",
       "6                                ['FWD_PE_minus_5Y']   \n",
       "7                          ['Expected_inflation_5Y']   \n",
       "8                                        ['CPI_YOY']   \n",
       "9  ['PE_RATIO', 'Fwd_PE_RATIO', '5Y_GENERIC', '1Y...   \n",
       "\n",
       "  A forecast for the next year  \n",
       "0                          [1]  \n",
       "1                          [1]  \n",
       "2                          [1]  \n",
       "3                          [1]  \n",
       "4                          [1]  \n",
       "5                          [1]  \n",
       "6                          [1]  \n",
       "7                          [1]  \n",
       "8                         [-1]  \n",
       "9                          [1]  "
      ]
     },
     "execution_count": 65,
     "metadata": {},
     "output_type": "execute_result"
    }
   ],
   "source": [
    "past_rf_results = pd.read_csv(\"rf_results.csv\")\n",
    "past_rf_results"
   ]
  },
  {
   "cell_type": "code",
   "execution_count": 66,
   "id": "f1d0382e-3dab-4222-a971-db3f086e30c1",
   "metadata": {},
   "outputs": [],
   "source": [
    "pd.concat([past_rf_results, current_rf_results], ignore_index=True).to_csv(\"./rf_results.csv\", index= False)"
   ]
  },
  {
   "cell_type": "code",
   "execution_count": 67,
   "id": "0ce53c3f-7b8f-40a8-b13b-760c7c72948b",
   "metadata": {},
   "outputs": [
    {
     "data": {
      "text/html": [
       "<div>\n",
       "<style scoped>\n",
       "    .dataframe tbody tr th:only-of-type {\n",
       "        vertical-align: middle;\n",
       "    }\n",
       "\n",
       "    .dataframe tbody tr th {\n",
       "        vertical-align: top;\n",
       "    }\n",
       "\n",
       "    .dataframe thead th {\n",
       "        text-align: right;\n",
       "    }\n",
       "</style>\n",
       "<table border=\"1\" class=\"dataframe\">\n",
       "  <thead>\n",
       "    <tr style=\"text-align: right;\">\n",
       "      <th></th>\n",
       "      <th>model__n_estimators</th>\n",
       "      <th>model__min_samples_split</th>\n",
       "      <th>model__min_samples_leaf</th>\n",
       "      <th>model__max_features</th>\n",
       "      <th>model__max_depth</th>\n",
       "      <th>model__bootstrap</th>\n",
       "      <th>days for test</th>\n",
       "      <th>Regression R^2 of train</th>\n",
       "      <th>Regression R^2 of test</th>\n",
       "      <th>Tree_precision</th>\n",
       "      <th>Tree_recall</th>\n",
       "      <th>Forest_Scoring</th>\n",
       "      <th>Forest_Precision</th>\n",
       "      <th>Forest_Recall</th>\n",
       "      <th>Forest_Target</th>\n",
       "      <th>Range</th>\n",
       "      <th>Forest_y_pred</th>\n",
       "      <th>Forest_y_test</th>\n",
       "      <th>features</th>\n",
       "      <th>A forecast for the next year</th>\n",
       "    </tr>\n",
       "  </thead>\n",
       "  <tbody>\n",
       "    <tr>\n",
       "      <th>0</th>\n",
       "      <td>200</td>\n",
       "      <td>10</td>\n",
       "      <td>2</td>\n",
       "      <td>auto</td>\n",
       "      <td>5</td>\n",
       "      <td>False</td>\n",
       "      <td>48</td>\n",
       "      <td>0.275581</td>\n",
       "      <td>-0.339252</td>\n",
       "      <td>[0.         0.         0.83333333]</td>\n",
       "      <td>[0. 0. 1.]</td>\n",
       "      <td>f1_macro</td>\n",
       "      <td>[1.    0.    0.889]</td>\n",
       "      <td>[0.5 0.  1. ]</td>\n",
       "      <td>S&amp;P_500_FORWARD_1_YEAR_GAIN</td>\n",
       "      <td>(-0.1, 1)</td>\n",
       "      <td>[ 1  1  1  1  1  1  1  1  1  1  1  1  1  1  1 ...</td>\n",
       "      <td>[ 1  1  1  1 -1 -1  1  1  1  1  1  1  1  1  1 ...</td>\n",
       "      <td>['PE_RATIO', 'Fwd_PE_RATIO', '5Y_GENERIC', '1Y...</td>\n",
       "      <td>[1]</td>\n",
       "    </tr>\n",
       "    <tr>\n",
       "      <th>1</th>\n",
       "      <td>747</td>\n",
       "      <td>10</td>\n",
       "      <td>1</td>\n",
       "      <td>sqrt</td>\n",
       "      <td>5</td>\n",
       "      <td>True</td>\n",
       "      <td>48</td>\n",
       "      <td>0.093398</td>\n",
       "      <td>-0.636076</td>\n",
       "      <td>[0.22222222 0.         0.84615385]</td>\n",
       "      <td>[0.33333333 0.         0.825     ]</td>\n",
       "      <td>f1_macro</td>\n",
       "      <td>[0.286 0.    0.854]</td>\n",
       "      <td>[0.333 0.    0.875]</td>\n",
       "      <td>S&amp;P_500_FORWARD_1_YEAR_GAIN</td>\n",
       "      <td>(-0.1, 1)</td>\n",
       "      <td>[ 1  1  1  1  1  1  1  1  1  1  1  1  1  1  1 ...</td>\n",
       "      <td>[ 1  1  1  1 -1 -1  1  1  1  1  1  1  1  1  1 ...</td>\n",
       "      <td>['PE_RATIO']</td>\n",
       "      <td>[1]</td>\n",
       "    </tr>\n",
       "    <tr>\n",
       "      <th>2</th>\n",
       "      <td>494</td>\n",
       "      <td>2</td>\n",
       "      <td>1</td>\n",
       "      <td>auto</td>\n",
       "      <td>3</td>\n",
       "      <td>False</td>\n",
       "      <td>48</td>\n",
       "      <td>0.075599</td>\n",
       "      <td>-0.609980</td>\n",
       "      <td>[0.21428571 0.         0.88235294]</td>\n",
       "      <td>[0.5  0.   0.75]</td>\n",
       "      <td>f1_macro</td>\n",
       "      <td>[0.214 0.    0.882]</td>\n",
       "      <td>[0.5  0.   0.75]</td>\n",
       "      <td>S&amp;P_500_FORWARD_1_YEAR_GAIN</td>\n",
       "      <td>(-0.1, 1)</td>\n",
       "      <td>[ 1  1  1  1  1  1  1  1  1  1  1  1  1  1  1 ...</td>\n",
       "      <td>[ 1  1  1  1 -1 -1  1  1  1  1  1  1  1  1  1 ...</td>\n",
       "      <td>['Fwd_PE_RATIO']</td>\n",
       "      <td>[1]</td>\n",
       "    </tr>\n",
       "    <tr>\n",
       "      <th>3</th>\n",
       "      <td>915</td>\n",
       "      <td>5</td>\n",
       "      <td>1</td>\n",
       "      <td>auto</td>\n",
       "      <td>5</td>\n",
       "      <td>True</td>\n",
       "      <td>48</td>\n",
       "      <td>0.122505</td>\n",
       "      <td>0.175846</td>\n",
       "      <td>[0.         0.         0.83333333]</td>\n",
       "      <td>[0. 0. 1.]</td>\n",
       "      <td>f1_macro</td>\n",
       "      <td>[0.    0.    0.826]</td>\n",
       "      <td>[0.   0.   0.95]</td>\n",
       "      <td>S&amp;P_500_FORWARD_1_YEAR_GAIN</td>\n",
       "      <td>(-0.1, 1)</td>\n",
       "      <td>[ 1  1  1  1  1  1  1  1  1  1  1  1  1 -1 -1 ...</td>\n",
       "      <td>[ 1  1  1  1 -1 -1  1  1  1  1  1  1  1  1  1 ...</td>\n",
       "      <td>['5Y_GENERIC']</td>\n",
       "      <td>[1]</td>\n",
       "    </tr>\n",
       "    <tr>\n",
       "      <th>4</th>\n",
       "      <td>789</td>\n",
       "      <td>2</td>\n",
       "      <td>1</td>\n",
       "      <td>auto</td>\n",
       "      <td>2</td>\n",
       "      <td>True</td>\n",
       "      <td>48</td>\n",
       "      <td>0.109029</td>\n",
       "      <td>0.023948</td>\n",
       "      <td>[0.         0.         0.83333333]</td>\n",
       "      <td>[0. 0. 1.]</td>\n",
       "      <td>f1_macro</td>\n",
       "      <td>[0.    0.    0.833]</td>\n",
       "      <td>[0. 0. 1.]</td>\n",
       "      <td>S&amp;P_500_FORWARD_1_YEAR_GAIN</td>\n",
       "      <td>(-0.1, 1)</td>\n",
       "      <td>[1 1 1 1 1 1 1 1 1 1 1 1 1 1 1 1 1 1 1 1 1 1 1...</td>\n",
       "      <td>[ 1  1  1  1 -1 -1  1  1  1  1  1  1  1  1  1 ...</td>\n",
       "      <td>['1Y_GENERIC']</td>\n",
       "      <td>[1]</td>\n",
       "    </tr>\n",
       "    <tr>\n",
       "      <th>5</th>\n",
       "      <td>578</td>\n",
       "      <td>10</td>\n",
       "      <td>1</td>\n",
       "      <td>auto</td>\n",
       "      <td>3</td>\n",
       "      <td>False</td>\n",
       "      <td>48</td>\n",
       "      <td>0.104244</td>\n",
       "      <td>-0.624183</td>\n",
       "      <td>[0.33333333 0.         0.87179487]</td>\n",
       "      <td>[0.5  0.   0.85]</td>\n",
       "      <td>f1_macro</td>\n",
       "      <td>[0.333 0.    0.872]</td>\n",
       "      <td>[0.5  0.   0.85]</td>\n",
       "      <td>S&amp;P_500_FORWARD_1_YEAR_GAIN</td>\n",
       "      <td>(-0.1, 1)</td>\n",
       "      <td>[ 1  1  1  1  1 -1  1  1  1  1  1  1  1  1  1 ...</td>\n",
       "      <td>[ 1  1  1  1 -1 -1  1  1  1  1  1  1  1  1  1 ...</td>\n",
       "      <td>['PE_Yield']</td>\n",
       "      <td>[1]</td>\n",
       "    </tr>\n",
       "    <tr>\n",
       "      <th>6</th>\n",
       "      <td>831</td>\n",
       "      <td>5</td>\n",
       "      <td>2</td>\n",
       "      <td>auto</td>\n",
       "      <td>5</td>\n",
       "      <td>False</td>\n",
       "      <td>48</td>\n",
       "      <td>0.122573</td>\n",
       "      <td>-0.057850</td>\n",
       "      <td>[0.         0.         0.83333333]</td>\n",
       "      <td>[0. 0. 1.]</td>\n",
       "      <td>f1_macro</td>\n",
       "      <td>[0.    0.    0.833]</td>\n",
       "      <td>[0. 0. 1.]</td>\n",
       "      <td>S&amp;P_500_FORWARD_1_YEAR_GAIN</td>\n",
       "      <td>(-0.1, 1)</td>\n",
       "      <td>[1 1 1 1 1 1 1 1 1 1 1 1 1 1 1 1 1 1 1 1 1 1 1...</td>\n",
       "      <td>[ 1  1  1  1 -1 -1  1  1  1  1  1  1  1  1  1 ...</td>\n",
       "      <td>['FWD_PE_minus_5Y']</td>\n",
       "      <td>[1]</td>\n",
       "    </tr>\n",
       "    <tr>\n",
       "      <th>7</th>\n",
       "      <td>621</td>\n",
       "      <td>10</td>\n",
       "      <td>2</td>\n",
       "      <td>sqrt</td>\n",
       "      <td>5</td>\n",
       "      <td>False</td>\n",
       "      <td>48</td>\n",
       "      <td>0.042449</td>\n",
       "      <td>0.009978</td>\n",
       "      <td>[0.         0.         0.83333333]</td>\n",
       "      <td>[0. 0. 1.]</td>\n",
       "      <td>f1_macro</td>\n",
       "      <td>[0.25  0.    0.841]</td>\n",
       "      <td>[0.167 0.    0.925]</td>\n",
       "      <td>S&amp;P_500_FORWARD_1_YEAR_GAIN</td>\n",
       "      <td>(-0.1, 1)</td>\n",
       "      <td>[ 1  1  1  1  1  1  1  1  1  1  1  1  1  1  1 ...</td>\n",
       "      <td>[ 1  1  1  1 -1 -1  1  1  1  1  1  1  1  1  1 ...</td>\n",
       "      <td>['Expected_inflation_5Y']</td>\n",
       "      <td>[1]</td>\n",
       "    </tr>\n",
       "    <tr>\n",
       "      <th>8</th>\n",
       "      <td>1000</td>\n",
       "      <td>10</td>\n",
       "      <td>4</td>\n",
       "      <td>sqrt</td>\n",
       "      <td>4</td>\n",
       "      <td>False</td>\n",
       "      <td>48</td>\n",
       "      <td>0.127198</td>\n",
       "      <td>0.034929</td>\n",
       "      <td>[0.3        0.         0.89473684]</td>\n",
       "      <td>[0.5  0.   0.85]</td>\n",
       "      <td>f1_macro</td>\n",
       "      <td>[1.   0.   0.87]</td>\n",
       "      <td>[0.333 0.    1.   ]</td>\n",
       "      <td>S&amp;P_500_FORWARD_1_YEAR_GAIN</td>\n",
       "      <td>(-0.1, 1)</td>\n",
       "      <td>[ 1  1  1  1  1  1  1  1  1  1  1  1  1  1  1 ...</td>\n",
       "      <td>[ 1  1  1  1 -1 -1  1  1  1  1  1  1  1  1  1 ...</td>\n",
       "      <td>['CPI_YOY']</td>\n",
       "      <td>[-1]</td>\n",
       "    </tr>\n",
       "    <tr>\n",
       "      <th>9</th>\n",
       "      <td>621</td>\n",
       "      <td>2</td>\n",
       "      <td>2</td>\n",
       "      <td>auto</td>\n",
       "      <td>5</td>\n",
       "      <td>True</td>\n",
       "      <td>48</td>\n",
       "      <td>0.275581</td>\n",
       "      <td>-0.339252</td>\n",
       "      <td>[0.14285714 0.         0.65853659]</td>\n",
       "      <td>[1.         0.         0.93103448]</td>\n",
       "      <td>f1_macro</td>\n",
       "      <td>[0.    0.    0.604]</td>\n",
       "      <td>[0. 0. 1.]</td>\n",
       "      <td>S&amp;P_500_FORWARD_1_YEAR_GAIN</td>\n",
       "      <td>(-10, 10)</td>\n",
       "      <td>[1 1 1 1 1 1 1 1 1 1 1 1 1 1 1 1 1 1 1 1 1 1 1...</td>\n",
       "      <td>[ 1  1  0  0  0  0  0  0  1  0  1  0  0  0  1 ...</td>\n",
       "      <td>['PE_RATIO', 'Fwd_PE_RATIO', '5Y_GENERIC', '1Y...</td>\n",
       "      <td>[1]</td>\n",
       "    </tr>\n",
       "    <tr>\n",
       "      <th>10</th>\n",
       "      <td>831</td>\n",
       "      <td>10</td>\n",
       "      <td>1</td>\n",
       "      <td>auto</td>\n",
       "      <td>6</td>\n",
       "      <td>False</td>\n",
       "      <td>48</td>\n",
       "      <td>0.275581</td>\n",
       "      <td>-0.339252</td>\n",
       "      <td>[0.         0.         0.83333333]</td>\n",
       "      <td>[0. 0. 1.]</td>\n",
       "      <td>f1_macro</td>\n",
       "      <td>[1.    0.    0.889]</td>\n",
       "      <td>[0.5 0.  1. ]</td>\n",
       "      <td>S&amp;P_500_FORWARD_1_YEAR_GAIN</td>\n",
       "      <td>(-0.1, 1)</td>\n",
       "      <td>[ 1  1  1  1  1  1  1  1  1  1  1  1  1  1  1 ...</td>\n",
       "      <td>[ 1  1  1  1 -1 -1  1  1  1  1  1  1  1  1  1 ...</td>\n",
       "      <td>['PE_RATIO', 'Fwd_PE_RATIO', '5Y_GENERIC', '1Y...</td>\n",
       "      <td>[1]</td>\n",
       "    </tr>\n",
       "  </tbody>\n",
       "</table>\n",
       "</div>"
      ],
      "text/plain": [
       "    model__n_estimators  model__min_samples_split  model__min_samples_leaf  \\\n",
       "0                   200                        10                        2   \n",
       "1                   747                        10                        1   \n",
       "2                   494                         2                        1   \n",
       "3                   915                         5                        1   \n",
       "4                   789                         2                        1   \n",
       "5                   578                        10                        1   \n",
       "6                   831                         5                        2   \n",
       "7                   621                        10                        2   \n",
       "8                  1000                        10                        4   \n",
       "9                   621                         2                        2   \n",
       "10                  831                        10                        1   \n",
       "\n",
       "   model__max_features  model__max_depth  model__bootstrap  days for test  \\\n",
       "0                 auto                 5             False             48   \n",
       "1                 sqrt                 5              True             48   \n",
       "2                 auto                 3             False             48   \n",
       "3                 auto                 5              True             48   \n",
       "4                 auto                 2              True             48   \n",
       "5                 auto                 3             False             48   \n",
       "6                 auto                 5             False             48   \n",
       "7                 sqrt                 5             False             48   \n",
       "8                 sqrt                 4             False             48   \n",
       "9                 auto                 5              True             48   \n",
       "10                auto                 6             False             48   \n",
       "\n",
       "    Regression R^2 of train  Regression R^2 of test  \\\n",
       "0                  0.275581               -0.339252   \n",
       "1                  0.093398               -0.636076   \n",
       "2                  0.075599               -0.609980   \n",
       "3                  0.122505                0.175846   \n",
       "4                  0.109029                0.023948   \n",
       "5                  0.104244               -0.624183   \n",
       "6                  0.122573               -0.057850   \n",
       "7                  0.042449                0.009978   \n",
       "8                  0.127198                0.034929   \n",
       "9                  0.275581               -0.339252   \n",
       "10                 0.275581               -0.339252   \n",
       "\n",
       "                        Tree_precision                         Tree_recall  \\\n",
       "0   [0.         0.         0.83333333]                          [0. 0. 1.]   \n",
       "1   [0.22222222 0.         0.84615385]  [0.33333333 0.         0.825     ]   \n",
       "2   [0.21428571 0.         0.88235294]                    [0.5  0.   0.75]   \n",
       "3   [0.         0.         0.83333333]                          [0. 0. 1.]   \n",
       "4   [0.         0.         0.83333333]                          [0. 0. 1.]   \n",
       "5   [0.33333333 0.         0.87179487]                    [0.5  0.   0.85]   \n",
       "6   [0.         0.         0.83333333]                          [0. 0. 1.]   \n",
       "7   [0.         0.         0.83333333]                          [0. 0. 1.]   \n",
       "8   [0.3        0.         0.89473684]                    [0.5  0.   0.85]   \n",
       "9   [0.14285714 0.         0.65853659]  [1.         0.         0.93103448]   \n",
       "10  [0.         0.         0.83333333]                          [0. 0. 1.]   \n",
       "\n",
       "   Forest_Scoring     Forest_Precision        Forest_Recall  \\\n",
       "0        f1_macro  [1.    0.    0.889]        [0.5 0.  1. ]   \n",
       "1        f1_macro  [0.286 0.    0.854]  [0.333 0.    0.875]   \n",
       "2        f1_macro  [0.214 0.    0.882]     [0.5  0.   0.75]   \n",
       "3        f1_macro  [0.    0.    0.826]     [0.   0.   0.95]   \n",
       "4        f1_macro  [0.    0.    0.833]           [0. 0. 1.]   \n",
       "5        f1_macro  [0.333 0.    0.872]     [0.5  0.   0.85]   \n",
       "6        f1_macro  [0.    0.    0.833]           [0. 0. 1.]   \n",
       "7        f1_macro  [0.25  0.    0.841]  [0.167 0.    0.925]   \n",
       "8        f1_macro     [1.   0.   0.87]  [0.333 0.    1.   ]   \n",
       "9        f1_macro  [0.    0.    0.604]           [0. 0. 1.]   \n",
       "10       f1_macro  [1.    0.    0.889]        [0.5 0.  1. ]   \n",
       "\n",
       "                  Forest_Target      Range  \\\n",
       "0   S&P_500_FORWARD_1_YEAR_GAIN  (-0.1, 1)   \n",
       "1   S&P_500_FORWARD_1_YEAR_GAIN  (-0.1, 1)   \n",
       "2   S&P_500_FORWARD_1_YEAR_GAIN  (-0.1, 1)   \n",
       "3   S&P_500_FORWARD_1_YEAR_GAIN  (-0.1, 1)   \n",
       "4   S&P_500_FORWARD_1_YEAR_GAIN  (-0.1, 1)   \n",
       "5   S&P_500_FORWARD_1_YEAR_GAIN  (-0.1, 1)   \n",
       "6   S&P_500_FORWARD_1_YEAR_GAIN  (-0.1, 1)   \n",
       "7   S&P_500_FORWARD_1_YEAR_GAIN  (-0.1, 1)   \n",
       "8   S&P_500_FORWARD_1_YEAR_GAIN  (-0.1, 1)   \n",
       "9   S&P_500_FORWARD_1_YEAR_GAIN  (-10, 10)   \n",
       "10  S&P_500_FORWARD_1_YEAR_GAIN  (-0.1, 1)   \n",
       "\n",
       "                                        Forest_y_pred  \\\n",
       "0   [ 1  1  1  1  1  1  1  1  1  1  1  1  1  1  1 ...   \n",
       "1   [ 1  1  1  1  1  1  1  1  1  1  1  1  1  1  1 ...   \n",
       "2   [ 1  1  1  1  1  1  1  1  1  1  1  1  1  1  1 ...   \n",
       "3   [ 1  1  1  1  1  1  1  1  1  1  1  1  1 -1 -1 ...   \n",
       "4   [1 1 1 1 1 1 1 1 1 1 1 1 1 1 1 1 1 1 1 1 1 1 1...   \n",
       "5   [ 1  1  1  1  1 -1  1  1  1  1  1  1  1  1  1 ...   \n",
       "6   [1 1 1 1 1 1 1 1 1 1 1 1 1 1 1 1 1 1 1 1 1 1 1...   \n",
       "7   [ 1  1  1  1  1  1  1  1  1  1  1  1  1  1  1 ...   \n",
       "8   [ 1  1  1  1  1  1  1  1  1  1  1  1  1  1  1 ...   \n",
       "9   [1 1 1 1 1 1 1 1 1 1 1 1 1 1 1 1 1 1 1 1 1 1 1...   \n",
       "10  [ 1  1  1  1  1  1  1  1  1  1  1  1  1  1  1 ...   \n",
       "\n",
       "                                        Forest_y_test  \\\n",
       "0   [ 1  1  1  1 -1 -1  1  1  1  1  1  1  1  1  1 ...   \n",
       "1   [ 1  1  1  1 -1 -1  1  1  1  1  1  1  1  1  1 ...   \n",
       "2   [ 1  1  1  1 -1 -1  1  1  1  1  1  1  1  1  1 ...   \n",
       "3   [ 1  1  1  1 -1 -1  1  1  1  1  1  1  1  1  1 ...   \n",
       "4   [ 1  1  1  1 -1 -1  1  1  1  1  1  1  1  1  1 ...   \n",
       "5   [ 1  1  1  1 -1 -1  1  1  1  1  1  1  1  1  1 ...   \n",
       "6   [ 1  1  1  1 -1 -1  1  1  1  1  1  1  1  1  1 ...   \n",
       "7   [ 1  1  1  1 -1 -1  1  1  1  1  1  1  1  1  1 ...   \n",
       "8   [ 1  1  1  1 -1 -1  1  1  1  1  1  1  1  1  1 ...   \n",
       "9   [ 1  1  0  0  0  0  0  0  1  0  1  0  0  0  1 ...   \n",
       "10  [ 1  1  1  1 -1 -1  1  1  1  1  1  1  1  1  1 ...   \n",
       "\n",
       "                                             features  \\\n",
       "0   ['PE_RATIO', 'Fwd_PE_RATIO', '5Y_GENERIC', '1Y...   \n",
       "1                                        ['PE_RATIO']   \n",
       "2                                    ['Fwd_PE_RATIO']   \n",
       "3                                      ['5Y_GENERIC']   \n",
       "4                                      ['1Y_GENERIC']   \n",
       "5                                        ['PE_Yield']   \n",
       "6                                 ['FWD_PE_minus_5Y']   \n",
       "7                           ['Expected_inflation_5Y']   \n",
       "8                                         ['CPI_YOY']   \n",
       "9   ['PE_RATIO', 'Fwd_PE_RATIO', '5Y_GENERIC', '1Y...   \n",
       "10  ['PE_RATIO', 'Fwd_PE_RATIO', '5Y_GENERIC', '1Y...   \n",
       "\n",
       "   A forecast for the next year  \n",
       "0                           [1]  \n",
       "1                           [1]  \n",
       "2                           [1]  \n",
       "3                           [1]  \n",
       "4                           [1]  \n",
       "5                           [1]  \n",
       "6                           [1]  \n",
       "7                           [1]  \n",
       "8                          [-1]  \n",
       "9                           [1]  \n",
       "10                          [1]  "
      ]
     },
     "execution_count": 67,
     "metadata": {},
     "output_type": "execute_result"
    }
   ],
   "source": [
    "pd.read_csv(\"rf_results.csv\")"
   ]
  },
  {
   "cell_type": "code",
   "execution_count": null,
   "id": "bf24c18d",
   "metadata": {},
   "outputs": [],
   "source": []
  }
 ],
 "metadata": {
  "kernelspec": {
   "display_name": "Python 3 (ipykernel)",
   "language": "python",
   "name": "python3"
  },
  "language_info": {
   "codemirror_mode": {
    "name": "ipython",
    "version": 3
   },
   "file_extension": ".py",
   "mimetype": "text/x-python",
   "name": "python",
   "nbconvert_exporter": "python",
   "pygments_lexer": "ipython3",
   "version": "3.8.12"
  }
 },
 "nbformat": 4,
 "nbformat_minor": 5
}
